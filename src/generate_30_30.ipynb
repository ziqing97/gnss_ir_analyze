{
 "cells": [
  {
   "cell_type": "code",
   "execution_count": 1,
   "metadata": {},
   "outputs": [],
   "source": [
    "import pickle \n",
    "import os\n",
    "from datetime import datetime,timezone,timedelta\n",
    "import pickle\n",
    "\n",
    "import numpy as np\n",
    "import pandas as pd\n",
    "import matplotlib\n",
    "import matplotlib.pyplot as plt\n",
    "import matplotlib.cm as cm\n",
    "from tqdm import tqdm\n",
    "from scipy import signal\n",
    "\n",
    "import data_filter as dafi\n",
    "import data_process as dapr\n",
    "import lib_plot"
   ]
  },
  {
   "cell_type": "code",
   "execution_count": 2,
   "metadata": {},
   "outputs": [],
   "source": [
    "azimut_mask = [270,330]\n",
    "elevation_mask = [3,30]\n",
    "min_height = 2\n",
    "max_height = 4\n",
    "t_range = 30"
   ]
  },
  {
   "cell_type": "code",
   "execution_count": 3,
   "metadata": {},
   "outputs": [
    {
     "name": "stderr",
     "output_type": "stream",
     "text": [
      "100%|██████████| 29/29 [01:40<00:00,  3.47s/it]\n",
      "100%|██████████| 29/29 [01:43<00:00,  3.56s/it]\n"
     ]
    }
   ],
   "source": [
    "main_path_2 = os.path.abspath('../data/20220811/2/')\n",
    "main_path_3 = os.path.abspath('../data/20220811/3/')\n",
    "\n",
    "ts_0811_2 = dapr.generate_timeseries(main_path_2, azimut_mask, elevation_mask, min_height, max_height, t_range,8,11)\n",
    "ts_0811_3 = dapr.generate_timeseries(main_path_3, azimut_mask, elevation_mask, min_height, max_height, t_range,8,11)"
   ]
  },
  {
   "cell_type": "code",
   "execution_count": 4,
   "metadata": {},
   "outputs": [
    {
     "name": "stderr",
     "output_type": "stream",
     "text": [
      "100%|██████████| 29/29 [01:36<00:00,  3.32s/it]\n",
      "100%|██████████| 29/29 [01:41<00:00,  3.50s/it]\n"
     ]
    }
   ],
   "source": [
    "main_path_2 = os.path.abspath('../data/20220907/2/')\n",
    "main_path_3 = os.path.abspath('../data/20220907/3/')\n",
    "\n",
    "ts_0907_2 = dapr.generate_timeseries(main_path_2, azimut_mask, elevation_mask, min_height, max_height, t_range, 9, 7)\n",
    "ts_0907_3 = dapr.generate_timeseries(main_path_3, azimut_mask, elevation_mask, min_height, max_height, t_range, 9, 7)"
   ]
  },
  {
   "cell_type": "code",
   "execution_count": 5,
   "metadata": {},
   "outputs": [
    {
     "name": "stderr",
     "output_type": "stream",
     "text": [
      "100%|██████████| 29/29 [01:15<00:00,  2.61s/it]\n",
      "100%|██████████| 29/29 [01:25<00:00,  2.94s/it]\n"
     ]
    }
   ],
   "source": [
    "main_path_2 = os.path.abspath('../data/20221004/2/')\n",
    "main_path_3 = os.path.abspath('../data/20221004/3/')\n",
    "\n",
    "ts_1004_2 = dapr.generate_timeseries(main_path_2, azimut_mask, elevation_mask, min_height, max_height, t_range, 10, 4)\n",
    "ts_1004_3 = dapr.generate_timeseries(main_path_3, azimut_mask, elevation_mask, min_height, max_height, t_range, 10, 4)\n"
   ]
  },
  {
   "cell_type": "code",
   "execution_count": 6,
   "metadata": {},
   "outputs": [
    {
     "name": "stderr",
     "output_type": "stream",
     "text": [
      "100%|██████████| 29/29 [01:18<00:00,  2.71s/it]\n",
      "100%|██████████| 29/29 [01:24<00:00,  2.91s/it]\n"
     ]
    }
   ],
   "source": [
    "main_path_2 = os.path.abspath('../data/20221031/2/')\n",
    "main_path_3 = os.path.abspath('../data/20221031/3/')\n",
    "\n",
    "ts_1031_2 = dapr.generate_timeseries(main_path_2, azimut_mask, elevation_mask, min_height, max_height, t_range,10,31)\n",
    "ts_1031_3 = dapr.generate_timeseries(main_path_3, azimut_mask, elevation_mask, min_height, max_height, t_range,10,31)\n"
   ]
  },
  {
   "cell_type": "code",
   "execution_count": 9,
   "metadata": {},
   "outputs": [
    {
     "name": "stderr",
     "output_type": "stream",
     "text": [
      "100%|██████████| 29/29 [01:30<00:00,  3.11s/it]\n",
      "100%|██████████| 29/29 [01:32<00:00,  3.20s/it]\n"
     ]
    }
   ],
   "source": [
    "main_path_2 = os.path.abspath('../data/20221127/2/')\n",
    "main_path_3 = os.path.abspath('../data/20221127/3/')\n",
    "\n",
    "ts_1127_2 = dapr.generate_timeseries(main_path_2, azimut_mask, elevation_mask, min_height, max_height, t_range, 11, 27)\n",
    "ts_1127_3 = dapr.generate_timeseries(main_path_3, azimut_mask, elevation_mask, min_height, max_height, t_range, 11, 27)"
   ]
  },
  {
   "cell_type": "code",
   "execution_count": 10,
   "metadata": {},
   "outputs": [],
   "source": [
    "ts_30_30_dict = {'0907_2':ts_0907_2,'0907_3':ts_0907_3,\n",
    "                 '1004_2':ts_1004_2,'1004_3':ts_1004_3,\n",
    "                 '1031_2':ts_1031_2,'1031_3':ts_1031_3,\n",
    "                 '1127_2':ts_1127_2,'1127_3':ts_1127_3}\n",
    "with open('timeseries_ele30_time30.pkl', 'wb') as f:\n",
    "    pickle.dump(ts_30_30_dict, f)"
   ]
  }
 ],
 "metadata": {
  "kernelspec": {
   "display_name": "gnss_ir",
   "language": "python",
   "name": "python3"
  },
  "language_info": {
   "codemirror_mode": {
    "name": "ipython",
    "version": 3
   },
   "file_extension": ".py",
   "mimetype": "text/x-python",
   "name": "python",
   "nbconvert_exporter": "python",
   "pygments_lexer": "ipython3",
   "version": "3.9.12 (main, Apr  4 2022, 05:22:27) [MSC v.1916 64 bit (AMD64)]"
  },
  "orig_nbformat": 4,
  "vscode": {
   "interpreter": {
    "hash": "bef03f3b2611f05ae925db1195bade39f419d97b5bf9db298e90bacf7555e223"
   }
  }
 },
 "nbformat": 4,
 "nbformat_minor": 2
}
