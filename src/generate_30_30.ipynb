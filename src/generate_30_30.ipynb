{
 "cells": [
  {
   "cell_type": "code",
   "execution_count": 1,
   "metadata": {},
   "outputs": [],
   "source": [
    "import pickle \n",
    "import os\n",
    "import pickle\n",
    "\n",
    "import lib_data_process as dapr"
   ]
  },
  {
   "cell_type": "code",
   "execution_count": 2,
   "metadata": {},
   "outputs": [],
   "source": [
    "azimut_mask = [270,330]\n",
    "elevation_mask = [5,30]\n",
    "min_height = 2\n",
    "max_height = 4\n",
    "t_range = 20"
   ]
  },
  {
   "cell_type": "code",
   "execution_count": 3,
   "metadata": {},
   "outputs": [
    {
     "name": "stderr",
     "output_type": "stream",
     "text": [
      "100%|██████████| 19/19 [01:54<00:00,  6.01s/it]\n",
      "100%|██████████| 19/19 [01:56<00:00,  6.14s/it]\n"
     ]
    }
   ],
   "source": [
    "main_path_2 = os.path.abspath('../data/20220811/2/')\n",
    "main_path_3 = os.path.abspath('../data/20220811/3/')\n",
    "\n",
    "ts_0811_2 = dapr.generate_timeseries(main_path_2, azimut_mask, elevation_mask, min_height, max_height, t_range,8,11,'L2')\n",
    "ts_0811_3 = dapr.generate_timeseries(main_path_3, azimut_mask, elevation_mask, min_height, max_height, t_range,8,11,'L2')"
   ]
  },
  {
   "cell_type": "code",
   "execution_count": 4,
   "metadata": {},
   "outputs": [
    {
     "name": "stderr",
     "output_type": "stream",
     "text": [
      "100%|██████████| 19/19 [01:46<00:00,  5.60s/it]\n",
      "100%|██████████| 19/19 [01:52<00:00,  5.92s/it]\n"
     ]
    }
   ],
   "source": [
    "main_path_2 = os.path.abspath('../data/20220907/2/')\n",
    "main_path_3 = os.path.abspath('../data/20220907/3/')\n",
    "\n",
    "ts_0907_2 = dapr.generate_timeseries(main_path_2, azimut_mask, elevation_mask, min_height, max_height, t_range, 9, 7,'L2')\n",
    "ts_0907_3 = dapr.generate_timeseries(main_path_3, azimut_mask, elevation_mask, min_height, max_height, t_range, 9, 7,'L2')"
   ]
  },
  {
   "cell_type": "code",
   "execution_count": 5,
   "metadata": {},
   "outputs": [
    {
     "name": "stderr",
     "output_type": "stream",
     "text": [
      "100%|██████████| 19/19 [01:31<00:00,  4.84s/it]\n",
      "100%|██████████| 19/19 [01:42<00:00,  5.38s/it]\n"
     ]
    }
   ],
   "source": [
    "main_path_2 = os.path.abspath('../data/20221004/2/')\n",
    "main_path_3 = os.path.abspath('../data/20221004/3/')\n",
    "\n",
    "ts_1004_2 = dapr.generate_timeseries(main_path_2, azimut_mask, elevation_mask, min_height, max_height, t_range, 10, 4,'L2')\n",
    "ts_1004_3 = dapr.generate_timeseries(main_path_3, azimut_mask, elevation_mask, min_height, max_height, t_range, 10, 4,'L2')\n"
   ]
  },
  {
   "cell_type": "code",
   "execution_count": 6,
   "metadata": {},
   "outputs": [
    {
     "name": "stderr",
     "output_type": "stream",
     "text": [
      "100%|██████████| 19/19 [01:34<00:00,  4.98s/it]\n",
      "100%|██████████| 19/19 [01:39<00:00,  5.25s/it]\n"
     ]
    }
   ],
   "source": [
    "main_path_2 = os.path.abspath('../data/20221031/2/')\n",
    "main_path_3 = os.path.abspath('../data/20221031/3/')\n",
    "\n",
    "ts_1031_2 = dapr.generate_timeseries(main_path_2, azimut_mask, elevation_mask, min_height, max_height, t_range,10,31,'L2')\n",
    "ts_1031_3 = dapr.generate_timeseries(main_path_3, azimut_mask, elevation_mask, min_height, max_height, t_range,10,31,'L2')"
   ]
  },
  {
   "cell_type": "code",
   "execution_count": 7,
   "metadata": {},
   "outputs": [
    {
     "name": "stderr",
     "output_type": "stream",
     "text": [
      "100%|██████████| 19/19 [01:41<00:00,  5.32s/it]\n",
      "100%|██████████| 19/19 [01:43<00:00,  5.47s/it]\n"
     ]
    }
   ],
   "source": [
    "main_path_2 = os.path.abspath('../data/20221127/2/')\n",
    "main_path_3 = os.path.abspath('../data/20221127/3/')\n",
    "\n",
    "ts_1127_2 = dapr.generate_timeseries(main_path_2, azimut_mask, elevation_mask, min_height, max_height, t_range, 11, 27,'L2')\n",
    "ts_1127_3 = dapr.generate_timeseries(main_path_3, azimut_mask, elevation_mask, min_height, max_height, t_range, 11, 27,'L2')"
   ]
  },
  {
   "cell_type": "code",
   "execution_count": 9,
   "metadata": {},
   "outputs": [],
   "source": [
    "ts_30_30_dict = {'0811_2':ts_0811_2,'0811_3':ts_0811_3,\n",
    "                 '0907_2':ts_0907_2,'0907_3':ts_0907_3,\n",
    "                 '1004_2':ts_1004_2,'1004_3':ts_1004_3,\n",
    "                 '1031_2':ts_1031_2,'1031_3':ts_1031_3,\n",
    "                 '1127_2':ts_1127_2,'1127_3':ts_1127_3}\n",
    "with open(f'../data/generated_data/timeseries_ele{elevation_mask[1]}_time{t_range}.pkl', 'wb') as f:\n",
    "    pickle.dump(ts_30_30_dict, f)"
   ]
  },
  {
   "cell_type": "code",
   "execution_count": null,
   "metadata": {},
   "outputs": [],
   "source": [
    "main_path_1 = os.path.abspath('../data/20230217/1/')\n",
    "main_path_2 = os.path.abspath('../data/20230217/2/')\n",
    "main_path_r = os.path.abspath('../data/20230217/2_rotate/')\n",
    "\n",
    "ts_0217_1 = dapr.generate_timeseries(main_path_1, azimut_mask, elevation_mask, min_height, max_height, t_range, 2023, 2, 17,'L2')\n",
    "ts_0217_2 = dapr.generate_timeseries(main_path_2, azimut_mask, elevation_mask, min_height, max_height, t_range, 2023, 2, 17,'L2')\n",
    "ts_0217_r = dapr.generate_timeseries(main_path_r, azimut_mask, elevation_mask, min_height, max_height, t_range, 2023, 2, 17,'L2')"
   ]
  }
 ],
 "metadata": {
  "kernelspec": {
   "display_name": "gnss_ir",
   "language": "python",
   "name": "python3"
  },
  "language_info": {
   "codemirror_mode": {
    "name": "ipython",
    "version": 3
   },
   "file_extension": ".py",
   "mimetype": "text/x-python",
   "name": "python",
   "nbconvert_exporter": "python",
   "pygments_lexer": "ipython3",
   "version": "3.9.12"
  },
  "orig_nbformat": 4,
  "vscode": {
   "interpreter": {
    "hash": "bef03f3b2611f05ae925db1195bade39f419d97b5bf9db298e90bacf7555e223"
   }
  }
 },
 "nbformat": 4,
 "nbformat_minor": 2
}
