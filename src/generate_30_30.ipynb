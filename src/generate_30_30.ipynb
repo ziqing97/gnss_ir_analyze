{
 "cells": [
  {
   "cell_type": "code",
   "execution_count": 1,
   "metadata": {},
   "outputs": [],
   "source": [
    "from datetime import datetime,timezone\n",
    "import os\n",
    "import pickle\n",
    "\n",
    "from tqdm import tqdm\n",
    "\n",
    "from lib_data_process import libDataProcess as dapr"
   ]
  },
  {
   "cell_type": "code",
   "execution_count": 2,
   "metadata": {},
   "outputs": [],
   "source": [
    "path_list = [os.path.abspath('../data/20220811/2/'),\n",
    "             os.path.abspath('../data/20220811/3/'),\n",
    "             os.path.abspath('../data/20220907/2/'),\n",
    "             os.path.abspath('../data/20220907/3/'),\n",
    "             os.path.abspath('../data/20221004/2/'),\n",
    "             os.path.abspath('../data/20221004/3/'),\n",
    "             os.path.abspath('../data/20221031/2/'),\n",
    "             os.path.abspath('../data/20221031/3/'),\n",
    "             os.path.abspath('../data/20221127/2/'),\n",
    "             os.path.abspath('../data/20221127/3/'),\n",
    "             os.path.abspath('../data/20230216/1/'),\n",
    "             os.path.abspath('../data/20230216/2/'),\n",
    "             os.path.abspath('../data/20230216/2_rotate/'),]\n",
    "\n",
    "starttime_list = [datetime(year=2022,month=8,day=11,hour=8,minute=0,second=0,tzinfo=timezone.utc),\n",
    "                  datetime(year=2022,month=8,day=11,hour=8,minute=0,second=0,tzinfo=timezone.utc),\n",
    "                  datetime(year=2022,month=9,day=7,hour=8,minute=0,second=0,tzinfo=timezone.utc),\n",
    "                  datetime(year=2022,month=9,day=7,hour=8,minute=0,second=0,tzinfo=timezone.utc),\n",
    "                  datetime(year=2022,month=10,day=4,hour=8,minute=0,second=0,tzinfo=timezone.utc),\n",
    "                  datetime(year=2022,month=10,day=4,hour=8,minute=0,second=0,tzinfo=timezone.utc),\n",
    "                  datetime(year=2022,month=10,day=31,hour=8,minute=0,second=0,tzinfo=timezone.utc),\n",
    "                  datetime(year=2022,month=10,day=31,hour=8,minute=0,second=0,tzinfo=timezone.utc),\n",
    "                  datetime(year=2022,month=11,day=27,hour=8,minute=0,second=0,tzinfo=timezone.utc),\n",
    "                  datetime(year=2022,month=11,day=27,hour=8,minute=0,second=0,tzinfo=timezone.utc),\n",
    "                  datetime(year=2023,month=2,day=16,hour=7,minute=0,second=0,tzinfo=timezone.utc),\n",
    "                  datetime(year=2023,month=2,day=16,hour=7,minute=0,second=0,tzinfo=timezone.utc),\n",
    "                  datetime(year=2023,month=2,day=16,hour=7,minute=0,second=0,tzinfo=timezone.utc),]\n",
    "\n",
    "endtime_list = [datetime(year=2022,month=8,day=11,hour=14,minute=0,second=0,tzinfo=timezone.utc),\n",
    "            datetime(year=2022,month=8,day=11,hour=14,minute=0,second=0,tzinfo=timezone.utc),\n",
    "            datetime(year=2022,month=9,day=7,hour=14,minute=0,second=0,tzinfo=timezone.utc),\n",
    "            datetime(year=2022,month=9,day=7,hour=14,minute=0,second=0,tzinfo=timezone.utc),\n",
    "            datetime(year=2022,month=10,day=4,hour=14,minute=0,second=0,tzinfo=timezone.utc),\n",
    "            datetime(year=2022,month=10,day=4,hour=14,minute=0,second=0,tzinfo=timezone.utc),\n",
    "            datetime(year=2022,month=10,day=31,hour=14,minute=0,second=0,tzinfo=timezone.utc),\n",
    "            datetime(year=2022,month=10,day=31,hour=14,minute=0,second=0,tzinfo=timezone.utc),\n",
    "            datetime(year=2022,month=11,day=27,hour=14,minute=0,second=0,tzinfo=timezone.utc),\n",
    "            datetime(year=2022,month=11,day=27,hour=14,minute=0,second=0,tzinfo=timezone.utc),\n",
    "            datetime(year=2023,month=2,day=16,hour=19,minute=0,second=0,tzinfo=timezone.utc),\n",
    "            datetime(year=2023,month=2,day=16,hour=19,minute=0,second=0,tzinfo=timezone.utc),\n",
    "            datetime(year=2023,month=2,day=16,hour=19,minute=0,second=0,tzinfo=timezone.utc),]\n",
    "\n",
    "key_list = ['0811_2','0811_3',\n",
    "            '0907_2','0907_3',\n",
    "            '1004_2','1004_3',\n",
    "            '1031_2','1031_3',\n",
    "            '1127_2','1127_3',\n",
    "            '0216_1','0216_2',\n",
    "            '0216_r']\n",
    "\n"
   ]
  },
  {
   "cell_type": "code",
   "execution_count": 3,
   "metadata": {},
   "outputs": [
    {
     "name": "stderr",
     "output_type": "stream",
     "text": [
      "13it [3:24:11, 942.45s/it] \n"
     ]
    }
   ],
   "source": [
    "azimut_mask = [270,330]\n",
    "elevation_mask = [5,30]\n",
    "min_height = 2.5\n",
    "max_height = 3.5\n",
    "t_range = 30\n",
    "sample_rate = 1\n",
    "ts_dict = {}\n",
    "count_ts = {}\n",
    "snr_list = ['snr1','snr2','snr5','snr7','snr8']\n",
    "for path,st,et,key in tqdm(zip(path_list,starttime_list,endtime_list,key_list)):\n",
    "    dapr_case = dapr()\n",
    "    ts_dict[key],count_ts[key] = dapr_case.generate_timeseries(path, azimut_mask, elevation_mask, min_height, max_height, t_range, st, et, snr_list, sample_rate)\n",
    "result_dict = {'ts':ts_dict,'count':count_ts,'periodgram':dapr_case.power_list}\n",
    "with open(f'../data/generated_data/timeseries_ele{elevation_mask[0]}_{elevation_mask[1]}_azi{azimut_mask[0]}_{azimut_mask[1]}_time{t_range}_all.pkl', 'wb') as f:\n",
    "    pickle.dump(result_dict, f)"
   ]
  },
  {
   "cell_type": "code",
   "execution_count": 4,
   "metadata": {},
   "outputs": [
    {
     "name": "stderr",
     "output_type": "stream",
     "text": [
      "13it [47:26, 218.99s/it]\n"
     ]
    }
   ],
   "source": [
    "azimut_mask = [270,330]\n",
    "elevation_mask = [5,30]\n",
    "min_height = 2.5\n",
    "max_height = 3.5\n",
    "t_range = 30\n",
    "sample_rate = 1\n",
    "ts_dict = {}\n",
    "count_ts = {}\n",
    "snr_list = ['snr1']\n",
    "for path,st,et,key in tqdm(zip(path_list,starttime_list,endtime_list,key_list)):\n",
    "    dapr_case = dapr()\n",
    "    ts_dict[key],count_ts[key ] = dapr_case.generate_timeseries(path, azimut_mask, elevation_mask, min_height, max_height, t_range, st, et, snr_list, sample_rate)\n",
    "result_dict = {'ts':ts_dict,'count':count_ts,'periodgram':dapr_case.power_list}\n",
    "with open(f'../data/generated_data/timeseries_ele{elevation_mask[0]}_{elevation_mask[1]}_time{t_range}_L1.pkl', 'wb') as f:\n",
    "    pickle.dump(result_dict, f)"
   ]
  },
  {
   "cell_type": "code",
   "execution_count": 5,
   "metadata": {},
   "outputs": [
    {
     "name": "stderr",
     "output_type": "stream",
     "text": [
      "13it [3:23:02, 937.09s/it] \n"
     ]
    }
   ],
   "source": [
    "azimut_mask = [270,330]\n",
    "elevation_mask = [5,30]\n",
    "min_height = 2.5\n",
    "max_height = 3.5\n",
    "t_range = 30\n",
    "sample_rate = 1\n",
    "ts_dict = {}\n",
    "count_ts = {}\n",
    "snr_list = ['snr1','snr2']\n",
    "for path,st,et,key in tqdm(zip(path_list,starttime_list,endtime_list,key_list)):\n",
    "    dapr_case = dapr()\n",
    "    ts_dict[key],count_ts[key] = dapr_case.generate_timeseries(path, azimut_mask, elevation_mask, min_height, max_height, t_range, st, et, snr_list, sample_rate)\n",
    "result_dict = {'ts':ts_dict,'count':count_ts,'periodgram':dapr_case.power_list}\n",
    "with open(f'../data/generated_data/timeseries_ele{elevation_mask[0]}_{elevation_mask[1]}_time{t_range}_L1L2.pkl', 'wb') as f:\n",
    "    pickle.dump(result_dict, f)"
   ]
  },
  {
   "cell_type": "code",
   "execution_count": 6,
   "metadata": {},
   "outputs": [
    {
     "name": "stderr",
     "output_type": "stream",
     "text": [
      "1it [57:48, 3468.77s/it]"
     ]
    }
   ],
   "source": [
    "path_list = [os.path.abspath('../data/20230216/1/'),\n",
    "             os.path.abspath('../data/20230216/2/')]\n",
    "\n",
    "starttime_list = [datetime(year=2023,month=2,day=16,hour=7,minute=0,second=0,tzinfo=timezone.utc),\n",
    "                  datetime(year=2023,month=2,day=16,hour=7,minute=0,second=0,tzinfo=timezone.utc)]\n",
    "\n",
    "endtime_list = [datetime(year=2023,month=2,day=16,hour=19,minute=0,second=0,tzinfo=timezone.utc),\n",
    "            datetime(year=2023,month=2,day=16,hour=19,minute=0,second=0,tzinfo=timezone.utc)]\n",
    "\n",
    "key_list = ['0216_1','0216_2']\n",
    "\n",
    "\n",
    "azimut_mask = [270,330]\n",
    "elevation_mask = [5,30]\n",
    "min_height = 2.5\n",
    "max_height = 3.5\n",
    "t_range = 60\n",
    "sample_rate = 1\n",
    "ts_dict = {}\n",
    "count_ts = {}\n",
    "snr_list = ['snr1','snr2','snr5','snr7','snr8']\n",
    "for path,st,et,key in tqdm(zip(path_list,starttime_list,endtime_list,key_list)):\n",
    "    dapr_case = dapr()\n",
    "    ts_dict[key],count_ts[key ] = dapr_case.generate_timeseries(path, azimut_mask, elevation_mask, min_height, max_height, t_range, st, et, snr_list, sample_rate)\n",
    "result_dict = {'ts':ts_dict,'count':count_ts,'periodgram':dapr_case.power_list}\n",
    "with open(f'../data/generated_data/timeseries_ele{elevation_mask[0]}_{elevation_mask[1]}_time{t_range}_L1L2.pkl', 'wb') as f:\n",
    "    pickle.dump(result_dict, f)"
   ]
  },
  {
   "cell_type": "code",
   "execution_count": 2,
   "metadata": {},
   "outputs": [
    {
     "name": "stderr",
     "output_type": "stream",
     "text": [
      "1it [29:56, 1796.53s/it]\n"
     ]
    }
   ],
   "source": [
    "path_list = [os.path.abspath('../data/20230216/2_rotate/')]\n",
    "\n",
    "starttime_list = [datetime(year=2023,month=2,day=16,hour=7,minute=0,second=0,tzinfo=timezone.utc)]\n",
    "\n",
    "endtime_list = [datetime(year=2023,month=2,day=16,hour=19,minute=0,second=0,tzinfo=timezone.utc)]\n",
    "\n",
    "key_list = ['0216_r']\n",
    "\n",
    "\n",
    "azimut_mask = [270,330]\n",
    "elevation_mask = [5,50]\n",
    "min_height = 2.5\n",
    "max_height = 3.5\n",
    "t_range = 30\n",
    "sample_rate = 1\n",
    "ts_dict = {}\n",
    "count_ts = {}\n",
    "snr_list = ['snr1','snr2','snr5','snr7','snr8']\n",
    "for path,st,et,key in tqdm(zip(path_list,starttime_list,endtime_list,key_list)):\n",
    "    dapr_case = dapr()\n",
    "    ts_dict[key],count_ts[key ] = dapr_case.generate_timeseries(path, azimut_mask, elevation_mask, min_height, max_height, t_range, st, et, snr_list, sample_rate)\n",
    "result_dict = {'ts':ts_dict,'count':count_ts,'periodgram':dapr_case.power_list}\n",
    "with open(f'../data/generated_data/timeseries_ele{elevation_mask[0]}_{elevation_mask[1]}_time{t_range}_rotate.pkl', 'wb') as f:\n",
    "    pickle.dump(result_dict, f)"
   ]
  }
 ],
 "metadata": {
  "kernelspec": {
   "display_name": "gnss_ir",
   "language": "python",
   "name": "python3"
  },
  "language_info": {
   "codemirror_mode": {
    "name": "ipython",
    "version": 3
   },
   "file_extension": ".py",
   "mimetype": "text/x-python",
   "name": "python",
   "nbconvert_exporter": "python",
   "pygments_lexer": "ipython3",
   "version": "3.9.12"
  },
  "orig_nbformat": 4,
  "vscode": {
   "interpreter": {
    "hash": "899cbdd3e6d213a089c367d62ece5cdfd458181ffdb9574f74f7a7425a23b7e4"
   }
  }
 },
 "nbformat": 4,
 "nbformat_minor": 2
}
