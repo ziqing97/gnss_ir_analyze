{
 "cells": [
  {
   "cell_type": "code",
   "execution_count": 26,
   "metadata": {},
   "outputs": [],
   "source": [
    "import os\n",
    "import lib_transformation as transformation\n",
    "import math\n",
    "import pandas as pd\n",
    "import numpy as np\n",
    "import gmplot\n",
    "import pickle"
   ]
  },
  {
   "cell_type": "code",
   "execution_count": 27,
   "metadata": {},
   "outputs": [],
   "source": [
    "date = []\n",
    "ante2 = []\n",
    "ante3 = []\n",
    "diff_ante = []"
   ]
  },
  {
   "cell_type": "code",
   "execution_count": 28,
   "metadata": {},
   "outputs": [
    {
     "name": "stdout",
     "output_type": "stream",
     "text": [
      "48.72857889511167\n",
      "9.319072009322852\n",
      "287.4509069621563\n"
     ]
    }
   ],
   "source": [
    "# 20220811 #2 Esslingen\n",
    "x = 4159722.8370\n",
    "y = 682602.5906\n",
    "z = 4770918.4544\n",
    "lat,lon,height2 = transformation.xyz2latlon(x,y,z)\n",
    "print(lat/math.pi*180)\n",
    "print(lon/math.pi*180)\n",
    "print(height2)\n"
   ]
  },
  {
   "cell_type": "code",
   "execution_count": 29,
   "metadata": {},
   "outputs": [
    {
     "name": "stdout",
     "output_type": "stream",
     "text": [
      "48.728529646299954\n",
      "9.31904081598145\n",
      "287.438580384478\n"
     ]
    }
   ],
   "source": [
    "# 20220811 #3 Esslingen\n",
    "x = 4159727.2627\n",
    "y = 682600.9912\n",
    "z = 4770914.8324\n",
    "lat,lon,height3 = transformation.xyz2latlon(x,y,z)\n",
    "print(lat/math.pi*180)\n",
    "print(lon/math.pi*180)\n",
    "print(height3)"
   ]
  },
  {
   "cell_type": "code",
   "execution_count": 30,
   "metadata": {},
   "outputs": [],
   "source": [
    "date.append('0811')\n",
    "ante2.append(height2)\n",
    "ante3.append(height3)\n",
    "diff_ante.append(height2-height3)"
   ]
  },
  {
   "cell_type": "code",
   "execution_count": 31,
   "metadata": {},
   "outputs": [
    {
     "name": "stdout",
     "output_type": "stream",
     "text": [
      "48.72853910977598\n",
      "9.319034334819422\n",
      "287.3377137584612\n"
     ]
    }
   ],
   "source": [
    "# 20220907 #2 Esslingen\n",
    "x = 4159726.4937\n",
    "y = 682600.3818\n",
    "z = 4770915.4508\n",
    "lat,lon,height2 = transformation.xyz2latlon(x,y,z)\n",
    "print(lat/math.pi*180)\n",
    "print(lon/math.pi*180)\n",
    "print(height2)\n"
   ]
  },
  {
   "cell_type": "code",
   "execution_count": 32,
   "metadata": {},
   "outputs": [
    {
     "name": "stdout",
     "output_type": "stream",
     "text": [
      "48.728582683141326\n",
      "9.319064325503835\n",
      "287.4670358905569\n"
     ]
    }
   ],
   "source": [
    "# 20220907 #3 Esslingen\n",
    "x = 4159722.6266\n",
    "y = 682601.9832\n",
    "z = 4770918.7444\n",
    "lat,lon,height3 = transformation.xyz2latlon(x,y,z)\n",
    "print(lat/math.pi*180)\n",
    "print(lon/math.pi*180)\n",
    "print(height3)"
   ]
  },
  {
   "cell_type": "code",
   "execution_count": 33,
   "metadata": {},
   "outputs": [],
   "source": [
    "date.append('0907')\n",
    "ante2.append(height2)\n",
    "ante3.append(height3)\n",
    "diff_ante.append(height2-height3)"
   ]
  },
  {
   "cell_type": "code",
   "execution_count": 34,
   "metadata": {},
   "outputs": [
    {
     "name": "stdout",
     "output_type": "stream",
     "text": [
      "48.72856382858048\n",
      "9.319034974888893\n",
      "287.39480240643024\n"
     ]
    }
   ],
   "source": [
    "# 20221004 #2 Esslingen\n",
    "x = 4159724.4844\n",
    "y = 682600.0998\n",
    "z = 4770917.3070\n",
    "lat,lon,height2 = transformation.xyz2latlon(x,y,z)\n",
    "print(lat/math.pi*180)\n",
    "print(lon/math.pi*180)\n",
    "print(height2)"
   ]
  },
  {
   "cell_type": "code",
   "execution_count": 35,
   "metadata": {},
   "outputs": [
    {
     "name": "stdout",
     "output_type": "stream",
     "text": [
      "48.72857417015875\n",
      "9.319052392212559\n",
      "287.35791422519833\n"
     ]
    }
   ],
   "source": [
    "# 20221004 #3 Esslingen\n",
    "x = 4159723.3999\n",
    "y = 682601.2204\n",
    "z = 4770918.0379\n",
    "lat,lon,height3 = transformation.xyz2latlon(x,y,z)\n",
    "print(lat/math.pi*180)\n",
    "print(lon/math.pi*180)\n",
    "print(height3)"
   ]
  },
  {
   "cell_type": "code",
   "execution_count": 36,
   "metadata": {},
   "outputs": [],
   "source": [
    "date.append('1004')\n",
    "ante2.append(height2)\n",
    "ante3.append(height3)\n",
    "diff_ante.append(height2-height3)"
   ]
  },
  {
   "cell_type": "code",
   "execution_count": 37,
   "metadata": {},
   "outputs": [
    {
     "name": "stdout",
     "output_type": "stream",
     "text": [
      "48.7285594325732\n",
      "9.319032679809693\n",
      "287.44652853161097\n"
     ]
    }
   ],
   "source": [
    "# 20221031 #2 Esslingen\n",
    "x = 4159724.9080\n",
    "y = 682599.9982\n",
    "z = 4770917.0234\n",
    "lat,lon,height2 = transformation.xyz2latlon(x,y,z)\n",
    "print(lat/math.pi*180)\n",
    "print(lon/math.pi*180)\n",
    "print(height2)"
   ]
  },
  {
   "cell_type": "code",
   "execution_count": 38,
   "metadata": {},
   "outputs": [
    {
     "name": "stdout",
     "output_type": "stream",
     "text": [
      "48.72856692334489\n",
      "9.319037052475062\n",
      "287.47393834311515\n"
     ]
    }
   ],
   "source": [
    "# 20221031 #3 Esslingen\n",
    "x = 4159724.2559\n",
    "y = 682600.2172\n",
    "z = 4770917.5935\n",
    "lat,lon,height3 = transformation.xyz2latlon(x,y,z)\n",
    "print(lat/math.pi*180)\n",
    "print(lon/math.pi*180)\n",
    "print(height3)"
   ]
  },
  {
   "cell_type": "code",
   "execution_count": 39,
   "metadata": {},
   "outputs": [],
   "source": [
    "date.append('1031')\n",
    "ante2.append(height2)\n",
    "ante3.append(height3)\n",
    "diff_ante.append(height2-height3)"
   ]
  },
  {
   "cell_type": "code",
   "execution_count": 40,
   "metadata": {},
   "outputs": [
    {
     "name": "stdout",
     "output_type": "stream",
     "text": [
      "48.72858580459038\n",
      "9.319086429908307\n",
      "287.40758965723217\n"
     ]
    }
   ],
   "source": [
    "# 20221127 #2 Esslingen\n",
    "x = 4159722.0671\n",
    "y = 682603.5394\n",
    "z = 4770918.9287\n",
    "lat,lon,height2 = transformation.xyz2latlon(x,y,z)\n",
    "print(lat/math.pi*180)\n",
    "print(lon/math.pi*180)\n",
    "print(height2)"
   ]
  },
  {
   "cell_type": "code",
   "execution_count": 41,
   "metadata": {},
   "outputs": [
    {
     "name": "stdout",
     "output_type": "stream",
     "text": [
      "48.72851947999305\n",
      "9.319055797807783\n",
      "287.4217736981809\n"
     ]
    }
   ],
   "source": [
    "# 20221127 #2 Esslingen\n",
    "x = 4159727.9118\n",
    "y = 682602.2147\n",
    "z = 4770914.0740\n",
    "lat,lon,height3 = transformation.xyz2latlon(x,y,z)\n",
    "print(lat/math.pi*180)\n",
    "print(lon/math.pi*180)\n",
    "print(height3)"
   ]
  },
  {
   "cell_type": "code",
   "execution_count": 42,
   "metadata": {},
   "outputs": [],
   "source": [
    "date.append('1127')\n",
    "ante2.append(height2)\n",
    "ante3.append(height3)\n",
    "diff_ante.append(height2-height3)"
   ]
  },
  {
   "cell_type": "code",
   "execution_count": 43,
   "metadata": {},
   "outputs": [],
   "source": [
    "df0 = pd.DataFrame({'date':date, 'antenne2':ante2,'antenne3':ante3,'diff antenne':diff_ante})\n",
    "with open('../data/generated_data/antenne_height.pkl', 'wb') as f:\n",
    "    pickle.dump(df0, f)"
   ]
  }
 ],
 "metadata": {
  "kernelspec": {
   "display_name": "gnss_ir",
   "language": "python",
   "name": "python3"
  },
  "language_info": {
   "codemirror_mode": {
    "name": "ipython",
    "version": 3
   },
   "file_extension": ".py",
   "mimetype": "text/x-python",
   "name": "python",
   "nbconvert_exporter": "python",
   "pygments_lexer": "ipython3",
   "version": "3.9.12 (main, Apr  4 2022, 05:22:27) [MSC v.1916 64 bit (AMD64)]"
  },
  "orig_nbformat": 4,
  "vscode": {
   "interpreter": {
    "hash": "899cbdd3e6d213a089c367d62ece5cdfd458181ffdb9574f74f7a7425a23b7e4"
   }
  }
 },
 "nbformat": 4,
 "nbformat_minor": 2
}
