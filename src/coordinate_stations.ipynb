{
 "cells": [
  {
   "cell_type": "code",
   "execution_count": 39,
   "metadata": {},
   "outputs": [],
   "source": [
    "import os\n",
    "import lib_transformation as transformation\n",
    "import math\n",
    "import pandas as pd\n",
    "import numpy as np\n",
    "import gmplot\n",
    "import pickle"
   ]
  },
  {
   "cell_type": "code",
   "execution_count": 40,
   "metadata": {},
   "outputs": [],
   "source": [
    "date = []\n",
    "ante2 = []\n",
    "ante3 = []\n",
    "diff_ante = []"
   ]
  },
  {
   "cell_type": "code",
   "execution_count": 41,
   "metadata": {},
   "outputs": [
    {
     "name": "stdout",
     "output_type": "stream",
     "text": [
      "48.72853910977598\n",
      "9.319034334819422\n",
      "287.3377137584612\n"
     ]
    }
   ],
   "source": [
    "# 20220907 #2 Esslingen\n",
    "x = 4159726.4937\n",
    "y = 682600.3818\n",
    "z = 4770915.4508\n",
    "lat,lon,height2 = transformation.xyz2latlon(x,y,z)\n",
    "print(lat/math.pi*180)\n",
    "print(lon/math.pi*180)\n",
    "print(height2)\n"
   ]
  },
  {
   "cell_type": "code",
   "execution_count": 42,
   "metadata": {},
   "outputs": [
    {
     "name": "stdout",
     "output_type": "stream",
     "text": [
      "48.728582683141326\n",
      "9.319064325503835\n",
      "287.4670358905569\n"
     ]
    }
   ],
   "source": [
    "# 20220907 #3 Esslingen\n",
    "x = 4159722.6266\n",
    "y = 682601.9832\n",
    "z = 4770918.7444\n",
    "lat,lon,height3 = transformation.xyz2latlon(x,y,z)\n",
    "print(lat/math.pi*180)\n",
    "print(lon/math.pi*180)\n",
    "print(height3)"
   ]
  },
  {
   "cell_type": "code",
   "execution_count": 43,
   "metadata": {},
   "outputs": [],
   "source": [
    "date.append('0907')\n",
    "ante2.append(height2)\n",
    "ante3.append(height3)\n",
    "diff_ante.append(height2-height3)"
   ]
  },
  {
   "cell_type": "code",
   "execution_count": 44,
   "metadata": {},
   "outputs": [
    {
     "name": "stdout",
     "output_type": "stream",
     "text": [
      "48.72856382858048\n",
      "9.319034974888893\n",
      "287.39480240643024\n"
     ]
    }
   ],
   "source": [
    "# 20221004 #2 Esslingen\n",
    "x = 4159724.4844\n",
    "y = 682600.0998\n",
    "z = 4770917.3070\n",
    "lat,lon,height2 = transformation.xyz2latlon(x,y,z)\n",
    "print(lat/math.pi*180)\n",
    "print(lon/math.pi*180)\n",
    "print(height2)"
   ]
  },
  {
   "cell_type": "code",
   "execution_count": 45,
   "metadata": {},
   "outputs": [
    {
     "name": "stdout",
     "output_type": "stream",
     "text": [
      "48.72857417015875\n",
      "9.319052392212559\n",
      "287.35791422519833\n"
     ]
    }
   ],
   "source": [
    "# 20221004 #3 Esslingen\n",
    "x = 4159723.3999\n",
    "y = 682601.2204\n",
    "z = 4770918.0379\n",
    "lat,lon,height3 = transformation.xyz2latlon(x,y,z)\n",
    "print(lat/math.pi*180)\n",
    "print(lon/math.pi*180)\n",
    "print(height3)"
   ]
  },
  {
   "cell_type": "code",
   "execution_count": 46,
   "metadata": {},
   "outputs": [],
   "source": [
    "date.append('1004')\n",
    "ante2.append(height2)\n",
    "ante3.append(height3)\n",
    "diff_ante.append(height2-height3)"
   ]
  },
  {
   "cell_type": "code",
   "execution_count": 47,
   "metadata": {},
   "outputs": [
    {
     "name": "stdout",
     "output_type": "stream",
     "text": [
      "48.7285594325732\n",
      "9.319032679809693\n",
      "287.44652853161097\n"
     ]
    }
   ],
   "source": [
    "# 20221031 #2 Esslingen\n",
    "x = 4159724.9080\n",
    "y = 682599.9982\n",
    "z = 4770917.0234\n",
    "lat,lon,height2 = transformation.xyz2latlon(x,y,z)\n",
    "print(lat/math.pi*180)\n",
    "print(lon/math.pi*180)\n",
    "print(height2)"
   ]
  },
  {
   "cell_type": "code",
   "execution_count": 48,
   "metadata": {},
   "outputs": [
    {
     "name": "stdout",
     "output_type": "stream",
     "text": [
      "48.72856692334489\n",
      "9.319037052475062\n",
      "287.47393834311515\n"
     ]
    }
   ],
   "source": [
    "# 20221031 #3 Esslingen\n",
    "x = 4159724.2559\n",
    "y = 682600.2172\n",
    "z = 4770917.5935\n",
    "lat,lon,height3 = transformation.xyz2latlon(x,y,z)\n",
    "print(lat/math.pi*180)\n",
    "print(lon/math.pi*180)\n",
    "print(height3)"
   ]
  },
  {
   "cell_type": "code",
   "execution_count": 49,
   "metadata": {},
   "outputs": [],
   "source": [
    "date.append('1031')\n",
    "ante2.append(height2)\n",
    "ante3.append(height3)\n",
    "diff_ante.append(height2-height3)"
   ]
  },
  {
   "cell_type": "code",
   "execution_count": 50,
   "metadata": {},
   "outputs": [
    {
     "name": "stdout",
     "output_type": "stream",
     "text": [
      "48.72858580459038\n",
      "9.319086429908307\n",
      "287.40758965723217\n"
     ]
    }
   ],
   "source": [
    "# 20221127 #2 Esslingen\n",
    "x = 4159722.0671\n",
    "y = 682603.5394\n",
    "z = 4770918.9287\n",
    "lat,lon,height2 = transformation.xyz2latlon(x,y,z)\n",
    "print(lat/math.pi*180)\n",
    "print(lon/math.pi*180)\n",
    "print(height2)"
   ]
  },
  {
   "cell_type": "code",
   "execution_count": 51,
   "metadata": {},
   "outputs": [
    {
     "name": "stdout",
     "output_type": "stream",
     "text": [
      "48.72851947999305\n",
      "9.319055797807783\n",
      "287.4217736981809\n"
     ]
    }
   ],
   "source": [
    "# 20221127 #2 Esslingen\n",
    "x = 4159727.9118\n",
    "y = 682602.2147\n",
    "z = 4770914.0740\n",
    "lat,lon,height3 = transformation.xyz2latlon(x,y,z)\n",
    "print(lat/math.pi*180)\n",
    "print(lon/math.pi*180)\n",
    "print(height3)"
   ]
  },
  {
   "cell_type": "code",
   "execution_count": 52,
   "metadata": {},
   "outputs": [],
   "source": [
    "date.append('1127')\n",
    "ante2.append(height2)\n",
    "ante3.append(height3)\n",
    "diff_ante.append(height2-height3)"
   ]
  },
  {
   "cell_type": "code",
   "execution_count": 58,
   "metadata": {},
   "outputs": [],
   "source": [
    "df0 = pd.DataFrame({'date':date, 'antenne2':ante2,'antenne3':ante3,'diff antenne':diff_ante})\n",
    "with open('height_statistic.pkl', 'rb') as f:\n",
    "    df1 = pickle.load(f)"
   ]
  },
  {
   "cell_type": "code",
   "execution_count": 59,
   "metadata": {},
   "outputs": [
    {
     "data": {
      "text/html": [
       "<div>\n",
       "<style scoped>\n",
       "    .dataframe tbody tr th:only-of-type {\n",
       "        vertical-align: middle;\n",
       "    }\n",
       "\n",
       "    .dataframe tbody tr th {\n",
       "        vertical-align: top;\n",
       "    }\n",
       "\n",
       "    .dataframe thead th {\n",
       "        text-align: right;\n",
       "    }\n",
       "</style>\n",
       "<table border=\"1\" class=\"dataframe\">\n",
       "  <thead>\n",
       "    <tr style=\"text-align: right;\">\n",
       "      <th></th>\n",
       "      <th>date</th>\n",
       "      <th>median_2</th>\n",
       "      <th>median_3</th>\n",
       "      <th>diff median</th>\n",
       "    </tr>\n",
       "  </thead>\n",
       "  <tbody>\n",
       "    <tr>\n",
       "      <th>0</th>\n",
       "      <td>0907</td>\n",
       "      <td>3.049</td>\n",
       "      <td>3.1975</td>\n",
       "      <td>-0.1485</td>\n",
       "    </tr>\n",
       "    <tr>\n",
       "      <th>1</th>\n",
       "      <td>1004</td>\n",
       "      <td>3.105</td>\n",
       "      <td>2.9320</td>\n",
       "      <td>0.1730</td>\n",
       "    </tr>\n",
       "    <tr>\n",
       "      <th>2</th>\n",
       "      <td>1031</td>\n",
       "      <td>3.066</td>\n",
       "      <td>3.1520</td>\n",
       "      <td>-0.0860</td>\n",
       "    </tr>\n",
       "    <tr>\n",
       "      <th>3</th>\n",
       "      <td>1127</td>\n",
       "      <td>3.351</td>\n",
       "      <td>3.0720</td>\n",
       "      <td>0.2790</td>\n",
       "    </tr>\n",
       "  </tbody>\n",
       "</table>\n",
       "</div>"
      ],
      "text/plain": [
       "   date  median_2  median_3  diff median\n",
       "0  0907     3.049    3.1975      -0.1485\n",
       "1  1004     3.105    2.9320       0.1730\n",
       "2  1031     3.066    3.1520      -0.0860\n",
       "3  1127     3.351    3.0720       0.2790"
      ]
     },
     "execution_count": 59,
     "metadata": {},
     "output_type": "execute_result"
    }
   ],
   "source": [
    "df1"
   ]
  },
  {
   "cell_type": "code",
   "execution_count": 60,
   "metadata": {},
   "outputs": [
    {
     "data": {
      "text/html": [
       "<div>\n",
       "<style scoped>\n",
       "    .dataframe tbody tr th:only-of-type {\n",
       "        vertical-align: middle;\n",
       "    }\n",
       "\n",
       "    .dataframe tbody tr th {\n",
       "        vertical-align: top;\n",
       "    }\n",
       "\n",
       "    .dataframe thead th {\n",
       "        text-align: right;\n",
       "    }\n",
       "</style>\n",
       "<table border=\"1\" class=\"dataframe\">\n",
       "  <thead>\n",
       "    <tr style=\"text-align: right;\">\n",
       "      <th></th>\n",
       "      <th>date</th>\n",
       "      <th>antenne2</th>\n",
       "      <th>antenne3</th>\n",
       "      <th>diff antenne</th>\n",
       "    </tr>\n",
       "  </thead>\n",
       "  <tbody>\n",
       "    <tr>\n",
       "      <th>0</th>\n",
       "      <td>0907</td>\n",
       "      <td>287.337714</td>\n",
       "      <td>287.467036</td>\n",
       "      <td>-0.129322</td>\n",
       "    </tr>\n",
       "    <tr>\n",
       "      <th>1</th>\n",
       "      <td>1004</td>\n",
       "      <td>287.394802</td>\n",
       "      <td>287.357914</td>\n",
       "      <td>0.036888</td>\n",
       "    </tr>\n",
       "    <tr>\n",
       "      <th>2</th>\n",
       "      <td>1031</td>\n",
       "      <td>287.446529</td>\n",
       "      <td>287.473938</td>\n",
       "      <td>-0.027410</td>\n",
       "    </tr>\n",
       "    <tr>\n",
       "      <th>3</th>\n",
       "      <td>1127</td>\n",
       "      <td>287.407590</td>\n",
       "      <td>287.421774</td>\n",
       "      <td>-0.014184</td>\n",
       "    </tr>\n",
       "  </tbody>\n",
       "</table>\n",
       "</div>"
      ],
      "text/plain": [
       "   date    antenne2    antenne3  diff antenne\n",
       "0  0907  287.337714  287.467036     -0.129322\n",
       "1  1004  287.394802  287.357914      0.036888\n",
       "2  1031  287.446529  287.473938     -0.027410\n",
       "3  1127  287.407590  287.421774     -0.014184"
      ]
     },
     "execution_count": 60,
     "metadata": {},
     "output_type": "execute_result"
    }
   ],
   "source": [
    "df0"
   ]
  },
  {
   "cell_type": "code",
   "execution_count": 57,
   "metadata": {},
   "outputs": [],
   "source": [
    "df = pd.merge(df1,df0,on='date',how='inner')\n",
    "df.to_excel('statistic.xlsx')"
   ]
  }
 ],
 "metadata": {
  "kernelspec": {
   "display_name": "gnss_ir",
   "language": "python",
   "name": "python3"
  },
  "language_info": {
   "codemirror_mode": {
    "name": "ipython",
    "version": 3
   },
   "file_extension": ".py",
   "mimetype": "text/x-python",
   "name": "python",
   "nbconvert_exporter": "python",
   "pygments_lexer": "ipython3",
   "version": "3.9.12"
  },
  "orig_nbformat": 4,
  "vscode": {
   "interpreter": {
    "hash": "899cbdd3e6d213a089c367d62ece5cdfd458181ffdb9574f74f7a7425a23b7e4"
   }
  }
 },
 "nbformat": 4,
 "nbformat_minor": 2
}
