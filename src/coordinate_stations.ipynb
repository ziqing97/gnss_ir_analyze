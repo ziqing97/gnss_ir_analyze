{
 "cells": [
  {
   "cell_type": "code",
   "execution_count": 2,
   "metadata": {},
   "outputs": [],
   "source": [
    "import os\n",
    "import lib_transformation as transformation\n",
    "import math\n",
    "import pandas as pd\n",
    "import numpy as np\n",
    "import gmplot\n"
   ]
  },
  {
   "cell_type": "code",
   "execution_count": 3,
   "metadata": {},
   "outputs": [
    {
     "name": "stdout",
     "output_type": "stream",
     "text": [
      "48.72853910977598\n",
      "9.319034334819422\n",
      "287.3377137584612\n"
     ]
    }
   ],
   "source": [
    "# 20220907 #2 Esslingen\n",
    "x = 4159726.4937\n",
    "y = 682600.3818\n",
    "z = 4770915.4508\n",
    "lat,lon,height = transformation.xyz2latlon(x,y,z)\n",
    "print(lat/math.pi*180)\n",
    "print(lon/math.pi*180)\n",
    "print(height)"
   ]
  },
  {
   "cell_type": "code",
   "execution_count": 4,
   "metadata": {},
   "outputs": [
    {
     "name": "stdout",
     "output_type": "stream",
     "text": [
      "48.728582683141326\n",
      "9.319064325503835\n",
      "287.4670358905569\n"
     ]
    }
   ],
   "source": [
    "# 20220907 #3 Esslingen\n",
    "x = 4159722.6266\n",
    "y = 682601.9832\n",
    "z = 4770918.7444\n",
    "lat,lon,height = transformation.xyz2latlon(x,y,z)\n",
    "print(lat/math.pi*180)\n",
    "print(lon/math.pi*180)\n",
    "print(height)"
   ]
  },
  {
   "cell_type": "code",
   "execution_count": 5,
   "metadata": {},
   "outputs": [
    {
     "name": "stdout",
     "output_type": "stream",
     "text": [
      "48.72856382858048\n",
      "9.319034974888893\n",
      "287.39480240643024\n"
     ]
    }
   ],
   "source": [
    "# 20221004 #2 Esslingen\n",
    "x = 4159724.4844\n",
    "y = 682600.0998\n",
    "z = 4770917.3070\n",
    "lat,lon,height = transformation.xyz2latlon(x,y,z)\n",
    "print(lat/math.pi*180)\n",
    "print(lon/math.pi*180)\n",
    "print(height)"
   ]
  },
  {
   "cell_type": "code",
   "execution_count": 6,
   "metadata": {},
   "outputs": [
    {
     "name": "stdout",
     "output_type": "stream",
     "text": [
      "48.72857417015875\n",
      "9.319052392212559\n",
      "287.35791422519833\n"
     ]
    }
   ],
   "source": [
    "# 20221004 #3 Esslingen\n",
    "x = 4159723.3999\n",
    "y = 682601.2204\n",
    "z = 4770918.0379\n",
    "lat,lon,height = transformation.xyz2latlon(x,y,z)\n",
    "print(lat/math.pi*180)\n",
    "print(lon/math.pi*180)\n",
    "print(height)"
   ]
  },
  {
   "cell_type": "code",
   "execution_count": 7,
   "metadata": {},
   "outputs": [
    {
     "name": "stdout",
     "output_type": "stream",
     "text": [
      "48.7285594325732\n",
      "9.319032679809693\n",
      "287.44652853161097\n"
     ]
    }
   ],
   "source": [
    "# 20221031 #2 Esslingen\n",
    "x = 4159724.9080\n",
    "y = 682599.9982\n",
    "z = 4770917.0234\n",
    "lat,lon,height = transformation.xyz2latlon(x,y,z)\n",
    "print(lat/math.pi*180)\n",
    "print(lon/math.pi*180)\n",
    "print(height)"
   ]
  },
  {
   "cell_type": "code",
   "execution_count": 8,
   "metadata": {},
   "outputs": [
    {
     "name": "stdout",
     "output_type": "stream",
     "text": [
      "48.72856692334489\n",
      "9.319037052475062\n",
      "287.47393834311515\n"
     ]
    }
   ],
   "source": [
    "# 20221031 #3 Esslingen\n",
    "x = 4159724.2559\n",
    "y = 682600.2172\n",
    "z = 4770917.5935\n",
    "lat,lon,height = transformation.xyz2latlon(x,y,z)\n",
    "print(lat/math.pi*180)\n",
    "print(lon/math.pi*180)\n",
    "print(height)"
   ]
  },
  {
   "cell_type": "code",
   "execution_count": 9,
   "metadata": {},
   "outputs": [
    {
     "name": "stdout",
     "output_type": "stream",
     "text": [
      "48.72858580459038\n",
      "9.319086429908307\n",
      "287.40758965723217\n"
     ]
    }
   ],
   "source": [
    "# 20221127 #2 Esslingen\n",
    "x = 4159722.0671\n",
    "y = 682603.5394\n",
    "z = 4770918.9287\n",
    "lat,lon,height = transformation.xyz2latlon(x,y,z)\n",
    "print(lat/math.pi*180)\n",
    "print(lon/math.pi*180)\n",
    "print(height)"
   ]
  },
  {
   "cell_type": "code",
   "execution_count": 10,
   "metadata": {},
   "outputs": [
    {
     "name": "stdout",
     "output_type": "stream",
     "text": [
      "48.72851947999305\n",
      "9.319055797807783\n",
      "287.4217736981809\n"
     ]
    }
   ],
   "source": [
    "# 20221127 #2 Esslingen\n",
    "x = 4159727.9118\n",
    "y = 682602.2147\n",
    "z = 4770914.0740\n",
    "lat,lon,height = transformation.xyz2latlon(x,y,z)\n",
    "print(lat/math.pi*180)\n",
    "print(lon/math.pi*180)\n",
    "print(height)"
   ]
  }
 ],
 "metadata": {
  "kernelspec": {
   "display_name": "gnss_ir",
   "language": "python",
   "name": "python3"
  },
  "language_info": {
   "codemirror_mode": {
    "name": "ipython",
    "version": 3
   },
   "file_extension": ".py",
   "mimetype": "text/x-python",
   "name": "python",
   "nbconvert_exporter": "python",
   "pygments_lexer": "ipython3",
   "version": "3.9.12"
  },
  "orig_nbformat": 4,
  "vscode": {
   "interpreter": {
    "hash": "bef03f3b2611f05ae925db1195bade39f419d97b5bf9db298e90bacf7555e223"
   }
  }
 },
 "nbformat": 4,
 "nbformat_minor": 2
}
