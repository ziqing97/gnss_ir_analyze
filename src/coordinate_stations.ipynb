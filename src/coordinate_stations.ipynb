{
 "cells": [
  {
   "cell_type": "code",
   "execution_count": 1,
   "metadata": {},
   "outputs": [],
   "source": [
    "import transformation"
   ]
  },
  {
   "cell_type": "code",
   "execution_count": 2,
   "metadata": {},
   "outputs": [
    {
     "name": "stdout",
     "output_type": "stream",
     "text": [
      "48.72768449451249\n",
      "9.323810688868631\n",
      "285.73854255490005\n"
     ]
    }
   ],
   "source": [
    "# 20220522 #2\n",
    "import math\n",
    "x = 4159739.0228\n",
    "y = 682958.5492\n",
    "z = 4770851.5565\n",
    "lat,lon,height = transformation.xyz2latlon(x,y,z)\n",
    "print(lat/math.pi*180)\n",
    "print(lon/math.pi*180)\n",
    "print(height)\n",
    "#　azimut_mask = [315,90]"
   ]
  },
  {
   "cell_type": "code",
   "execution_count": 3,
   "metadata": {},
   "outputs": [
    {
     "name": "stdout",
     "output_type": "stream",
     "text": [
      "48.797647635874426\n",
      "9.214252131825374\n",
      "270.97025138139725\n"
     ]
    }
   ],
   "source": [
    "# 20220526 #2 on riverside\n",
    "import math\n",
    "x = 4155252.3307\n",
    "y = 674064.7850\n",
    "z = 4775969.2638\n",
    "lat,lon,height = transformation.xyz2latlon(x,y,z)\n",
    "print(lat/math.pi*180)\n",
    "print(lon/math.pi*180)\n",
    "print(height)\n",
    "\n",
    "# azimut 160-200"
   ]
  },
  {
   "cell_type": "code",
   "execution_count": 4,
   "metadata": {},
   "outputs": [
    {
     "name": "stdout",
     "output_type": "stream",
     "text": [
      "48.79781995676578\n",
      "9.21399821973801\n",
      "282.7226300742477\n"
     ]
    }
   ],
   "source": [
    "# 20220526 #3 on bridge\n",
    "import math\n",
    "x = 4155248.7268\n",
    "y = 674045.3014\n",
    "z = 4775990.7298\n",
    "lat,lon,height = transformation.xyz2latlon(x,y,z)\n",
    "print(lat/math.pi*180)\n",
    "print(lon/math.pi*180)\n",
    "print(height)\n",
    "\n",
    "# azimut 160-200"
   ]
  },
  {
   "cell_type": "code",
   "execution_count": null,
   "metadata": {},
   "outputs": [],
   "source": [
    "# 20220526 #3 on bridge\n",
    "import math\n",
    "x = 4155248.7268\n",
    "y = 674045.3014\n",
    "z = 4775990.7298\n",
    "lat,lon,height = transformation.xyz2latlon(x,y,z)\n",
    "print(lat/math.pi*180)\n",
    "print(lon/math.pi*180)\n",
    "print(height)\n",
    "\n",
    "# azimut 160-200"
   ]
  }
 ],
 "metadata": {
  "kernelspec": {
   "display_name": "Python 3.9.12 ('gnss_ir')",
   "language": "python",
   "name": "python3"
  },
  "language_info": {
   "codemirror_mode": {
    "name": "ipython",
    "version": 3
   },
   "file_extension": ".py",
   "mimetype": "text/x-python",
   "name": "python",
   "nbconvert_exporter": "python",
   "pygments_lexer": "ipython3",
   "version": "3.9.12"
  },
  "orig_nbformat": 4,
  "vscode": {
   "interpreter": {
    "hash": "bef03f3b2611f05ae925db1195bade39f419d97b5bf9db298e90bacf7555e223"
   }
  }
 },
 "nbformat": 4,
 "nbformat_minor": 2
}
