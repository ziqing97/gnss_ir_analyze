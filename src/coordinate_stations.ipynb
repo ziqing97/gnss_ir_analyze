{
 "cells": [
  {
   "cell_type": "code",
   "execution_count": 2,
   "metadata": {},
   "outputs": [],
   "source": [
    "import transformation\n",
    "import math"
   ]
  },
  {
   "cell_type": "code",
   "execution_count": 3,
   "metadata": {},
   "outputs": [
    {
     "name": "stdout",
     "output_type": "stream",
     "text": [
      "48.72768449451249\n",
      "9.323810688868631\n",
      "285.73854255490005\n"
     ]
    }
   ],
   "source": [
    "# 20220522 #2 on the island azimut[280,310]\n",
    "x = 4159739.0228\n",
    "y = 682958.5492\n",
    "z = 4770851.5565\n",
    "lat,lon,height = transformation.xyz2latlon(x,y,z)\n",
    "print(lat/math.pi*180)\n",
    "print(lon/math.pi*180)\n",
    "print(height)"
   ]
  },
  {
   "cell_type": "code",
   "execution_count": 4,
   "metadata": {},
   "outputs": [
    {
     "name": "stdout",
     "output_type": "stream",
     "text": [
      "48.72820681082022\n",
      "9.324031171354452\n",
      "286.3021425418556\n"
     ]
    }
   ],
   "source": [
    "# 20220522 #3 on riverside azimut[230,260]\n",
    "x = 4159693.6813\n",
    "y = 682967.5435\n",
    "z = 4770890.2960\n",
    "lat,lon,height = transformation.xyz2latlon(x,y,z)\n",
    "print(lat/math.pi*180)\n",
    "print(lon/math.pi*180)\n",
    "print(height)"
   ]
  },
  {
   "cell_type": "code",
   "execution_count": 6,
   "metadata": {},
   "outputs": [
    {
     "name": "stdout",
     "output_type": "stream",
     "text": [
      "48.797647635874426\n",
      "9.214252131825374\n",
      "270.97025138139725\n"
     ]
    }
   ],
   "source": [
    "# 20220526 #2 Cannstatt on riverside azi[165,195]\n",
    "x = 4155252.3307\n",
    "y = 674064.7850\n",
    "z = 4775969.2638\n",
    "lat,lon,height = transformation.xyz2latlon(x,y,z)\n",
    "print(lat/math.pi*180)\n",
    "print(lon/math.pi*180)\n",
    "print(height)"
   ]
  },
  {
   "cell_type": "code",
   "execution_count": 4,
   "metadata": {},
   "outputs": [
    {
     "name": "stdout",
     "output_type": "stream",
     "text": [
      "48.79781995676578\n",
      "9.21399821973801\n",
      "282.7226300742477\n"
     ]
    }
   ],
   "source": [
    "# 20220526 #3 Cannstatt on bridge [110,150]\n",
    "x = 4155248.7268\n",
    "y = 674045.3014\n",
    "z = 4775990.7298\n",
    "lat,lon,height = transformation.xyz2latlon(x,y,z)\n",
    "print(lat/math.pi*180)\n",
    "print(lon/math.pi*180)\n",
    "print(height)"
   ]
  },
  {
   "cell_type": "code",
   "execution_count": 8,
   "metadata": {},
   "outputs": [
    {
     "name": "stdout",
     "output_type": "stream",
     "text": [
      "48.72820313311982\n",
      "9.324089031684544\n",
      "291.8977361517027\n"
     ]
    }
   ],
   "source": [
    "# 2022618 #2 on Esslingen on riverside azimut[230,260]\n",
    "x = 4159696.9372\n",
    "y = 682972.3920\n",
    "z = 4770894.2318\n",
    "lat,lon,height = transformation.xyz2latlon(x,y,z)\n",
    "print(lat/math.pi*180)\n",
    "print(lon/math.pi*180)\n",
    "print(height)"
   ]
  },
  {
   "cell_type": "code",
   "execution_count": 9,
   "metadata": {},
   "outputs": [
    {
     "name": "stdout",
     "output_type": "stream",
     "text": [
      "48.727714930674054\n",
      "9.32390893693056\n",
      "293.26101338490844\n"
     ]
    }
   ],
   "source": [
    "# 2022618 #3 on Esslingen on island azimut[280,310]\n",
    "x = 4159740.2379\n",
    "y = 682966.0739\n",
    "z = 4770859.4430\n",
    "lat,lon,height = transformation.xyz2latlon(x,y,z)\n",
    "print(lat/math.pi*180)\n",
    "print(lon/math.pi*180)\n",
    "print(height)"
   ]
  },
  {
   "cell_type": "code",
   "execution_count": 10,
   "metadata": {},
   "outputs": [
    {
     "name": "stdout",
     "output_type": "stream",
     "text": [
      "48.79809623446331\n",
      "9.213878530246864\n",
      "275.49862428661436\n"
     ]
    }
   ],
   "source": [
    "# 2022622 #2 Cannstatt azimut[170,190] east side\n",
    "x = 4155222.6187\n",
    "y = 674032.1577\n",
    "z = 4776005.5336\n",
    "lat,lon,height = transformation.xyz2latlon(x,y,z)\n",
    "print(lat/math.pi*180)\n",
    "print(lon/math.pi*180)\n",
    "print(height)"
   ]
  },
  {
   "cell_type": "code",
   "execution_count": 11,
   "metadata": {},
   "outputs": [
    {
     "name": "stdout",
     "output_type": "stream",
     "text": [
      "48.796956280839225\n",
      "9.213817853337515\n",
      "273.0691900290549\n"
     ]
    }
   ],
   "source": [
    "# 2022622 #3 Cannstatt azimut [110,150] west side\n",
    "x = 4155315.9059\n",
    "y = 674042.7738\n",
    "z = 4775920.1963\n",
    "lat,lon,height = transformation.xyz2latlon(x,y,z)\n",
    "print(lat/math.pi*180)\n",
    "print(lon/math.pi*180)\n",
    "print(height)"
   ]
  },
  {
   "cell_type": "code",
   "execution_count": 12,
   "metadata": {},
   "outputs": [
    {
     "name": "stdout",
     "output_type": "stream",
     "text": [
      "48.72822532399648\n",
      "9.324091690245355\n",
      "286.67937488667667\n"
     ]
    }
   ],
   "source": [
    "# 2022715 #2 Esslingen riverside azimut[230,260]\n",
    "x = 4159691.6785\n",
    "y = 682971.7268\n",
    "z = 4770891.9376\n",
    "lat,lon,height = transformation.xyz2latlon(x,y,z)\n",
    "print(lat/math.pi*180)\n",
    "print(lon/math.pi*180)\n",
    "print(height)"
   ]
  },
  {
   "cell_type": "code",
   "execution_count": 14,
   "metadata": {},
   "outputs": [
    {
     "name": "stdout",
     "output_type": "stream",
     "text": [
      "48.727700443602714\n",
      "9.323986304024885\n",
      "292.6292056431994\n"
     ]
    }
   ],
   "source": [
    "# 2022715 #3 Esslingen island azimut[280,310]\n",
    "x = 4159740.0993 \n",
    "y = 682971.8195\n",
    "z = 4770857.9054\n",
    "lat,lon,height = transformation.xyz2latlon(x,y,z)\n",
    "print(lat/math.pi*180)\n",
    "print(lon/math.pi*180)\n",
    "print(height)"
   ]
  },
  {
   "cell_type": "code",
   "execution_count": 15,
   "metadata": {},
   "outputs": [
    {
     "name": "stdout",
     "output_type": "stream",
     "text": [
      "48.72859964021076\n",
      "9.319067153518054\n",
      "285.48788685537875\n"
     ]
    }
   ],
   "source": [
    "# 20220811 #2 Esslingen corner right [280,330]\n",
    "x = 4159719.9060\n",
    "y = 682601.7476\n",
    "z = 4770918.5008\n",
    "lat,lon,height = transformation.xyz2latlon(x,y,z)\n",
    "print(lat/math.pi*180)\n",
    "print(lon/math.pi*180)\n",
    "print(height)"
   ]
  },
  {
   "cell_type": "code",
   "execution_count": 16,
   "metadata": {},
   "outputs": [
    {
     "name": "stdout",
     "output_type": "stream",
     "text": [
      "48.72854427846195\n",
      "9.31903783195266\n",
      "287.3383013494313\n"
     ]
    }
   ],
   "source": [
    "# 20220811 #3 Esslingen corner left [280,330]\n",
    "x = 4159726.0261\n",
    "y = 682600.5658\n",
    "z = 4770915.8304\n",
    "lat,lon,height = transformation.xyz2latlon(x,y,z)\n",
    "print(lat/math.pi*180)\n",
    "print(lon/math.pi*180)\n",
    "print(height)"
   ]
  },
  {
   "cell_type": "code",
   "execution_count": 17,
   "metadata": {},
   "outputs": [
    {
     "name": "stdout",
     "output_type": "stream",
     "text": [
      "48.80924711915768\n",
      "9.216535777347602\n",
      "276.7783449096605\n"
     ]
    }
   ],
   "source": [
    "# 20220815 #2 Cannstatt on the bridge [30,60]\n",
    "x = 4154271.1119\n",
    "y = 674075.5474\n",
    "z = 4776823.2764\n",
    "lat,lon,height = transformation.xyz2latlon(x,y,z)\n",
    "print(lat/math.pi*180)\n",
    "print(lon/math.pi*180)\n",
    "print(height)"
   ]
  },
  {
   "cell_type": "code",
   "execution_count": 18,
   "metadata": {},
   "outputs": [
    {
     "name": "stdout",
     "output_type": "stream",
     "text": [
      "48.809116136017735\n",
      "9.216909304891729\n",
      "259.193433216773\n"
     ]
    }
   ],
   "source": [
    "# 20220815 #3 Cannstatt riverside [30,60]\n",
    "x = 4154266.1062\n",
    "y = 674102.5311\n",
    "z = 4776800.4502\n",
    "lat,lon,height = transformation.xyz2latlon(x,y,z)\n",
    "print(lat/math.pi*180)\n",
    "print(lon/math.pi*180)\n",
    "print(height)"
   ]
  },
  {
   "cell_type": "code",
   "execution_count": 19,
   "metadata": {},
   "outputs": [
    {
     "name": "stdout",
     "output_type": "stream",
     "text": [
      "48.72854584148074\n",
      "9.319033923442694\n",
      "285.0316561413929\n"
     ]
    }
   ],
   "source": [
    "# 20220907 #2 Esslingen left [280,330]\n",
    "x = 4159724.4423\n",
    "y = 682600.0145\n",
    "z = 4770914.2114\n",
    "lat,lon,height = transformation.xyz2latlon(x,y,z)\n",
    "print(lat/math.pi*180)\n",
    "print(lon/math.pi*180)\n",
    "print(height)"
   ]
  },
  {
   "cell_type": "code",
   "execution_count": 20,
   "metadata": {},
   "outputs": [
    {
     "name": "stdout",
     "output_type": "stream",
     "text": [
      "48.72859456043581\n",
      "9.319059965990323\n",
      "285.32747516501695\n"
     ]
    }
   ],
   "source": [
    "# 20220907 #3 Esslingen right [280,330]\n",
    "x = 4159720.3062 \n",
    "y = 682601.2774\n",
    "z = 4770918.0076\n",
    "lat,lon,height = transformation.xyz2latlon(x,y,z)\n",
    "print(lat/math.pi*180)\n",
    "print(lon/math.pi*180)\n",
    "print(height)"
   ]
  },
  {
   "cell_type": "code",
   "execution_count": 21,
   "metadata": {},
   "outputs": [
    {
     "name": "stdout",
     "output_type": "stream",
     "text": [
      "48.80913819909688\n",
      "9.21690971372905\n",
      "272.54989286512136\n"
     ]
    }
   ],
   "source": [
    "# 20220911 #2 Cannstatt riverside [30,60]\n",
    "x = 4154272.9614\n",
    "y = 674103.6739\n",
    "z = 4776812.1171\n",
    "lat,lon,height = transformation.xyz2latlon(x,y,z)\n",
    "print(lat/math.pi*180)\n",
    "print(lon/math.pi*180)\n",
    "print(height)"
   ]
  },
  {
   "cell_type": "code",
   "execution_count": 22,
   "metadata": {},
   "outputs": [
    {
     "name": "stdout",
     "output_type": "stream",
     "text": [
      "48.80928539769136\n",
      "9.216483133425514\n",
      "273.95382044650614\n"
     ]
    }
   ],
   "source": [
    "# 20220911 #3 Cannstatt on the bridge [30,60]\n",
    "x = 4154266.7330\n",
    "y = 674070.9194\n",
    "z = 4776823.9544\n",
    "lat,lon,height = transformation.xyz2latlon(x,y,z)\n",
    "print(lat/math.pi*180)\n",
    "print(lon/math.pi*180)\n",
    "print(height)"
   ]
  },
  {
   "cell_type": "code",
   "execution_count": 23,
   "metadata": {},
   "outputs": [
    {
     "name": "stdout",
     "output_type": "stream",
     "text": [
      "48.72857274938621\n",
      "9.319008606572833\n",
      "285.48405912239105\n"
     ]
    }
   ],
   "source": [
    "# 20221004 #2 Esslingen left [280,330]\n",
    "x = 4159722.8190\n",
    "y = 682597.8606\n",
    "z = 4770916.5253\n",
    "lat,lon,height = transformation.xyz2latlon(x,y,z)\n",
    "print(lat/math.pi*180)\n",
    "print(lon/math.pi*180)\n",
    "print(height)"
   ]
  },
  {
   "cell_type": "code",
   "execution_count": 24,
   "metadata": {},
   "outputs": [
    {
     "name": "stdout",
     "output_type": "stream",
     "text": [
      "48.728575052797325\n",
      "9.319037716484415\n",
      "285.3105999175459\n"
     ]
    }
   ],
   "source": [
    "# 20221004 #3 Esslingen right [280,330]\n",
    "x = 4159722.1693\n",
    "y = 682599.9243\n",
    "z = 4770916.5639\n",
    "lat,lon,height = transformation.xyz2latlon(x,y,z)\n",
    "print(lat/math.pi*180)\n",
    "print(lon/math.pi*180)\n",
    "print(height)"
   ]
  },
  {
   "cell_type": "code",
   "execution_count": 25,
   "metadata": {},
   "outputs": [
    {
     "name": "stdout",
     "output_type": "stream",
     "text": [
      "48.80925099221631\n",
      "9.216422749811235\n",
      "274.96715020481497\n"
     ]
    }
   ],
   "source": [
    "# 20221008 #2 Cannstatt bridge west azi[210 240]\n",
    "x = 4154270.9443\n",
    "y = 674067.1093\n",
    "z = 4776822.1971\n",
    "lat,lon,height = transformation.xyz2latlon(x,y,z)\n",
    "print(lat/math.pi*180)\n",
    "print(lon/math.pi*180)\n",
    "print(height)"
   ]
  },
  {
   "cell_type": "code",
   "execution_count": 26,
   "metadata": {},
   "outputs": [
    {
     "name": "stdout",
     "output_type": "stream",
     "text": [
      "48.80927243914386\n",
      "9.216470340177006\n",
      "274.7851349096745\n"
     ]
    }
   ],
   "source": [
    "# 20221008 #3 Cannstatt bridge east [30,60]\n",
    "x = 4154268.4944\n",
    "y = 674070.2532\n",
    "z = 4776823.6309\n",
    "lat,lon,height = transformation.xyz2latlon(x,y,z)\n",
    "print(lat/math.pi*180)\n",
    "print(lon/math.pi*180)\n",
    "print(height)"
   ]
  }
 ],
 "metadata": {
  "kernelspec": {
   "display_name": "Python 3.9.12 ('gnss_ir')",
   "language": "python",
   "name": "python3"
  },
  "language_info": {
   "codemirror_mode": {
    "name": "ipython",
    "version": 3
   },
   "file_extension": ".py",
   "mimetype": "text/x-python",
   "name": "python",
   "nbconvert_exporter": "python",
   "pygments_lexer": "ipython3",
   "version": "3.9.12"
  },
  "orig_nbformat": 4,
  "vscode": {
   "interpreter": {
    "hash": "bef03f3b2611f05ae925db1195bade39f419d97b5bf9db298e90bacf7555e223"
   }
  }
 },
 "nbformat": 4,
 "nbformat_minor": 2
}
