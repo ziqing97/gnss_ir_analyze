{
 "cells": [
  {
   "cell_type": "code",
   "execution_count": 2,
   "metadata": {},
   "outputs": [],
   "source": [
    "# Generating data\n",
    "from datetime import datetime,timezone\n",
    "import os\n",
    "import pickle\n",
    "from lib_data_process import libDataProcess as dapr"
   ]
  },
  {
   "cell_type": "code",
   "execution_count": null,
   "metadata": {},
   "outputs": [],
   "source": [
    "azimut_mask = [265,340]\n",
    "min_height = 2.5\n",
    "max_height = 3.5\n",
    "sample_rate = 1\n",
    "snr_list = ['snr1','snr2','snr5','snr7','snr8']\n",
    "\n",
    "path = os.path.abspath('../data/20220907/2')\n",
    "st = datetime(year=2022,month=9,day=7,hour=8,minute=0,second=0,tzinfo=timezone.utc)\n",
    "et = datetime(year=2022,month=9,day=7,hour=14,minute=0,second=0,tzinfo=timezone.utc)\n",
    "\n",
    "for max_elevation in range(25,51):\n",
    "    for t_range in range(15,46):\n",
    "        elevation_mask = [5,max_elevation]\n",
    "        dapr_case = dapr()\n",
    "        ts_dict,count_ts = dapr_case.generate_timeseries(path, azimut_mask, elevation_mask, min_height, max_height, t_range, st, et, snr_list, sample_rate)\n",
    "        result_dict = {'ts':ts_dict,'count':count_ts,'periodgram':dapr_case.power_list}\n",
    "        with open(f'../data/generated_data/check_range/loop/normal_elevation{max_elevation}_timerange_{t_range}_check.pkl', 'wb') as f:\n",
    "            pickle.dump(result_dict, f)"
   ]
  },
  {
   "cell_type": "code",
   "execution_count": 4,
   "metadata": {},
   "outputs": [],
   "source": [
    "azimut_mask = [265,340]\n",
    "min_height = 2.5\n",
    "max_height = 3.5\n",
    "sample_rate = 1\n",
    "snr_list = ['snr1','snr2','snr5','snr7','snr8']\n",
    "\n",
    "path = os.path.abspath('../data/20230216/2_rotate')\n",
    "st = datetime(year=2023,month=2,day=16,hour=13,minute=0,second=0,tzinfo=timezone.utc)\n",
    "et = datetime(year=2023,month=2,day=16,hour=17,minute=0,second=0,tzinfo=timezone.utc)\n",
    "\n",
    "# for max_elevation in range(30,61):\n",
    "for max_elevation in range(46,52):\n",
    "    for t_range in range(30,46):\n",
    "        elevation_mask = [5,max_elevation]\n",
    "        dapr_case = dapr()\n",
    "        ts_dict,count_ts = dapr_case.generate_timeseries(path, azimut_mask, elevation_mask, min_height, max_height, t_range, st, et, snr_list, sample_rate)\n",
    "        result_dict = {'ts':ts_dict,'count':count_ts,'periodgram':dapr_case.power_list}\n",
    "        with open(f'../data/generated_data/check_range/loop2/normal_elevation{max_elevation}_timerange_{t_range}_check.pkl', 'wb') as f:\n",
    "            pickle.dump(result_dict, f)"
   ]
  },
  {
   "cell_type": "code",
   "execution_count": null,
   "metadata": {},
   "outputs": [],
   "source": [
    "import pickle\n",
    "\n",
    "from tqdm import tqdm\n",
    "import numpy as np\n",
    "import pandas as pd\n",
    "import matplotlib\n",
    "import matplotlib.pyplot as plt\n",
    "import matplotlib.cm as cm\n",
    "\n",
    "\n",
    "import lib_import_other_datasource as imoda"
   ]
  },
  {
   "cell_type": "code",
   "execution_count": null,
   "metadata": {},
   "outputs": [],
   "source": [
    "plt.rcParams.update({'font.size': 12})"
   ]
  },
  {
   "cell_type": "code",
   "execution_count": null,
   "metadata": {},
   "outputs": [],
   "source": [
    "ante_h = imoda.get_antenne_height('0907')['2']\n",
    "mean_mat = np.zeros((26,31))\n",
    "std_mat = np.zeros((26,31))\n",
    "count_mat = np.zeros((26,31))\n",
    "for i,max_elevation in enumerate((range(25,51))):\n",
    "    for j,t_range in enumerate(range(15,46)):\n",
    "        with open(f'../data/generated_data/check_range/loop/normal_elevation{max_elevation}_timerange_{t_range}_check.pkl', 'rb') as f:\n",
    "            ts_dict = pickle.load(f)\n",
    "            mean_mat[i,j] = ante_h-np.nanmean(np.asarray(list(ts_dict['ts'].values())))\n",
    "            std_mat[i,j] = np.nanstd(np.asarray(list(ts_dict['ts'].values())))\n",
    "            count_mat[i,j] = len(np.asarray(list(ts_dict['ts'].values())))\n"
   ]
  },
  {
   "cell_type": "code",
   "execution_count": null,
   "metadata": {},
   "outputs": [],
   "source": [
    "fig,ax = plt.subplots()\n",
    "im = ax.imshow(mean_mat)\n",
    "cbar =fig.colorbar(im)\n",
    "ax.set_xticks([0,5,10,15,20,25,30])\n",
    "ax.set_xticklabels([15,20,25,30,35,40,45])\n",
    "ax.set_yticks([0,5,10,15,20,25])\n",
    "ax.set_yticklabels([25,30,35,40,45,50])\n",
    "ax.set_xlabel('time window length [min]')\n",
    "ax.set_ylabel('maximum elevation angle')\n",
    "cbar.ax.plot([0,1],[284.51,284.51],'red')\n",
    "ax.set_title('Mean water surface height with\\n different maximum elevation angle \\n and time window length')\n",
    "fig.savefig('../../write/bilder/kapitel4/check_mean.png',bbox_inches='tight')"
   ]
  },
  {
   "cell_type": "code",
   "execution_count": null,
   "metadata": {},
   "outputs": [],
   "source": [
    "fig,ax = plt.subplots()\n",
    "im = ax.imshow(std_mat)\n",
    "cbar =fig.colorbar(im)\n",
    "ax.set_xticks([0,5,10,15,20,25,30])\n",
    "ax.set_xticklabels([15,20,25,30,35,40,45])\n",
    "ax.set_yticks([0,5,10,15,20,25])\n",
    "ax.set_yticklabels([25,30,35,40,45,50])\n",
    "ax.set_xlabel('time window length')\n",
    "ax.set_ylabel('maximum elevation angle')\n",
    "ax.set_title('Standard deviation with\\n different maximum elevation angle \\n and time window length')\n",
    "fig.savefig('../../write/bilder/kapitel4/check_std.png',bbox_inches='tight')"
   ]
  },
  {
   "cell_type": "code",
   "execution_count": null,
   "metadata": {},
   "outputs": [],
   "source": [
    "xx = list(range(15,46))\n",
    "fig,ax = plt.subplots()\n",
    "im = ax.imshow(count_mat)\n",
    "cbar =fig.colorbar(im)\n",
    "ax.set_xticks([0,5,10,15,20,25,30])\n",
    "ax.set_xticklabels([15,20,25,30,35,40,45])\n",
    "ax.set_yticks([0,5,10,15,20,25])\n",
    "ax.set_yticklabels([25,30,35,40,45,50])\n",
    "ax.set_xlabel('time window length')\n",
    "ax.set_ylabel('maximum elevation angle')\n",
    "ax.set_title('Number of valid height with\\n different maximum elevation angle \\n and time window length')\n",
    "fig.savefig('../../write/bilder/kapitel4/check_count.png',bbox_inches='tight')"
   ]
  }
 ],
 "metadata": {
  "kernelspec": {
   "display_name": "gnss_ir",
   "language": "python",
   "name": "python3"
  },
  "language_info": {
   "codemirror_mode": {
    "name": "ipython",
    "version": 3
   },
   "file_extension": ".py",
   "mimetype": "text/x-python",
   "name": "python",
   "nbconvert_exporter": "python",
   "pygments_lexer": "ipython3",
   "version": "3.9.12"
  },
  "orig_nbformat": 4
 },
 "nbformat": 4,
 "nbformat_minor": 2
}
