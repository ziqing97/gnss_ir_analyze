{
 "cells": [
  {
   "cell_type": "code",
   "execution_count": 1,
   "metadata": {},
   "outputs": [],
   "source": [
    "import os\n",
    "from datetime import datetime,timezone,timedelta\n",
    "\n",
    "import numpy as np\n",
    "import pandas as pd\n",
    "import matplotlib\n",
    "import matplotlib.pyplot as plt\n",
    "import matplotlib.cm as cm\n",
    "from tqdm import tqdm\n",
    "from scipy import signal\n",
    "\n",
    "import data_filter as dafi\n",
    "import data_process as dapr\n",
    "import lib_plot"
   ]
  },
  {
   "attachments": {},
   "cell_type": "markdown",
   "metadata": {},
   "source": [
    "### define the function"
   ]
  },
  {
   "cell_type": "code",
   "execution_count": 2,
   "metadata": {},
   "outputs": [],
   "source": [
    "def generate_timeseries(main_path, azimut_mask, elevation_mask, min_height, max_height, t_range):\n",
    "    frequency = dapr.generate_frequency(min_height=min_height,max_height=max_height)\n",
    "    signal_ts = {}\n",
    "\n",
    "    for dt in tqdm(range(0,t_range-1)):\n",
    "        starttime = datetime(year=2022,month=10,day=31,hour=8,minute=0+dt,second=0,tzinfo=timezone.utc)\n",
    "        endtime = datetime(year=2022,month=10,day=31,hour=14,minute=0+dt,second=0,tzinfo=timezone.utc)\n",
    "        deltatime = timedelta(minutes=t_range)\n",
    "\n",
    "        data_dict = dafi.clean_data(main_path,azimut_mask=azimut_mask,elevation_mask=elevation_mask,sn1_trigger=True)\n",
    "\n",
    "        split_data_dict = dafi.split_data(data_dict,starttime,endtime,deltatime)\n",
    "        result_dict = dapr.data_prepare(split_data_dict,frequency=frequency)\n",
    "        result_dict_1031 = dapr.extract_height_as_max_peak(result_dict,frequency=frequency)\n",
    "\n",
    "        for satellite_code in result_dict_1031:\n",
    "            for t,p in zip(result_dict_1031[satellite_code]['time'],result_dict_1031[satellite_code]['power']):\n",
    "                if t in signal_ts:\n",
    "                    signal_ts[t] = np.multiply(p,signal_ts[t])\n",
    "                else:\n",
    "                    signal_ts[t] = p\n",
    "    height_ts = {}\n",
    "    for t in signal_ts:\n",
    "        p = signal_ts[t]\n",
    "        index = p==max(p)\n",
    "        h = frequency[index]\n",
    "        height_ts[t] = h[0]\n",
    "    return height_ts"
   ]
  },
  {
   "cell_type": "code",
   "execution_count": 6,
   "metadata": {},
   "outputs": [
    {
     "name": "stderr",
     "output_type": "stream",
     "text": [
      "100%|██████████| 9/9 [00:27<00:00,  3.10s/it]\n",
      "100%|██████████| 9/9 [00:32<00:00,  3.63s/it]\n",
      "100%|██████████| 14/14 [00:41<00:00,  2.95s/it]\n",
      "100%|██████████| 14/14 [00:45<00:00,  3.25s/it]\n",
      "100%|██████████| 19/19 [00:55<00:00,  2.94s/it]\n",
      "100%|██████████| 19/19 [01:00<00:00,  3.18s/it]\n",
      "100%|██████████| 24/24 [01:10<00:00,  2.93s/it]\n",
      "100%|██████████| 24/24 [01:22<00:00,  3.44s/it]\n",
      "100%|██████████| 29/29 [01:25<00:00,  2.96s/it]\n",
      "100%|██████████| 29/29 [01:30<00:00,  3.11s/it]\n",
      "100%|██████████| 9/9 [00:32<00:00,  3.62s/it]\n",
      "100%|██████████| 9/9 [00:42<00:00,  4.76s/it]\n",
      "100%|██████████| 14/14 [00:44<00:00,  3.16s/it]\n",
      "100%|██████████| 14/14 [00:57<00:00,  4.12s/it]\n",
      "100%|██████████| 19/19 [00:58<00:00,  3.07s/it]\n",
      "100%|██████████| 19/19 [01:10<00:00,  3.71s/it]\n",
      "100%|██████████| 24/24 [01:14<00:00,  3.08s/it]\n",
      "100%|██████████| 24/24 [01:21<00:00,  3.38s/it]\n",
      "100%|██████████| 29/29 [01:29<00:00,  3.07s/it]\n",
      "100%|██████████| 29/29 [01:35<00:00,  3.29s/it]\n",
      "100%|██████████| 9/9 [00:47<00:00,  5.31s/it]\n",
      "100%|██████████| 9/9 [00:55<00:00,  6.19s/it]\n",
      "100%|██████████| 14/14 [01:03<00:00,  4.53s/it]\n",
      "100%|██████████| 14/14 [01:13<00:00,  5.29s/it]\n",
      "100%|██████████| 19/19 [01:14<00:00,  3.93s/it]\n",
      "100%|██████████| 19/19 [01:32<00:00,  4.86s/it]\n",
      "100%|██████████| 24/24 [01:24<00:00,  3.53s/it]\n",
      "100%|██████████| 24/24 [01:47<00:00,  4.49s/it]\n",
      "100%|██████████| 29/29 [01:34<00:00,  3.26s/it]\n",
      "100%|██████████| 29/29 [01:58<00:00,  4.09s/it]\n",
      "100%|██████████| 9/9 [01:07<00:00,  7.48s/it]\n",
      "100%|██████████| 9/9 [01:15<00:00,  8.36s/it]\n",
      "100%|██████████| 14/14 [01:30<00:00,  6.43s/it]\n",
      "100%|██████████| 14/14 [01:41<00:00,  7.25s/it]\n",
      "100%|██████████| 19/19 [01:49<00:00,  5.74s/it]\n",
      "100%|██████████| 19/19 [02:03<00:00,  6.52s/it]\n",
      "100%|██████████| 24/24 [02:03<00:00,  5.15s/it]\n",
      "100%|██████████| 24/24 [02:19<00:00,  5.83s/it]\n",
      "100%|██████████| 29/29 [02:06<00:00,  4.38s/it]\n",
      "100%|██████████| 29/29 [02:27<00:00,  5.07s/it]\n",
      "100%|██████████| 9/9 [01:22<00:00,  9.15s/it]\n",
      "100%|██████████| 9/9 [01:29<00:00,  9.96s/it]\n",
      "100%|██████████| 14/14 [01:50<00:00,  7.90s/it]\n",
      "100%|██████████| 14/14 [02:01<00:00,  8.68s/it]\n",
      "100%|██████████| 19/19 [02:14<00:00,  7.08s/it]\n",
      "100%|██████████| 19/19 [02:28<00:00,  7.81s/it]\n",
      "100%|██████████| 24/24 [02:33<00:00,  6.38s/it]\n",
      "100%|██████████| 24/24 [02:50<00:00,  7.11s/it]\n",
      "100%|██████████| 29/29 [02:47<00:00,  5.78s/it]\n",
      "100%|██████████| 29/29 [03:10<00:00,  6.57s/it]\n",
      "100%|██████████| 9/9 [02:07<00:00, 14.19s/it]\n",
      "100%|██████████| 9/9 [02:17<00:00, 15.23s/it]\n",
      "100%|██████████| 14/14 [02:53<00:00, 12.40s/it]\n",
      "100%|██████████| 14/14 [02:59<00:00, 12.81s/it]\n",
      "100%|██████████| 19/19 [03:24<00:00, 10.78s/it]\n",
      "100%|██████████| 19/19 [03:38<00:00, 11.51s/it]\n",
      "100%|██████████| 24/24 [03:56<00:00,  9.84s/it]\n",
      "100%|██████████| 24/24 [04:09<00:00, 10.40s/it]\n",
      "100%|██████████| 29/29 [04:17<00:00,  8.88s/it]\n",
      "100%|██████████| 29/29 [04:40<00:00,  9.67s/it]\n",
      "100%|██████████| 9/9 [03:06<00:00, 20.76s/it]\n",
      "100%|██████████| 9/9 [03:07<00:00, 20.83s/it]\n",
      "100%|██████████| 14/14 [04:04<00:00, 17.44s/it]\n",
      "100%|██████████| 14/14 [04:12<00:00, 18.00s/it]\n",
      "100%|██████████| 19/19 [05:02<00:00, 15.94s/it]\n",
      "100%|██████████| 19/19 [05:13<00:00, 16.48s/it]\n",
      "100%|██████████| 24/24 [05:51<00:00, 14.66s/it]\n",
      "100%|██████████| 24/24 [06:08<00:00, 15.37s/it]\n",
      "100%|██████████| 29/29 [06:30<00:00, 13.47s/it]\n",
      "100%|██████████| 29/29 [06:49<00:00, 14.13s/it]\n"
     ]
    }
   ],
   "source": [
    "main_path_2 = os.path.abspath('../data/20221031/2/')\n",
    "main_path_3 = os.path.abspath('../data/20221031/3/')\n",
    "min_height = 2\n",
    "max_height = 6\n",
    "azimut_mask = [270,330]\n",
    "\n",
    "ts_dict = {}\n",
    "max_ele_settings = [20,25,30,40,50]\n",
    "t_range_settings = [15,20,25,30,60]\n",
    "for ele in max_ele_settings:\n",
    "    ts_dict[ele] = {}\n",
    "    for t_range in t_range_settings:\n",
    "        ts_dict[ele][t_range] = {}\n",
    "        elevation_mask = [3,ele]\n",
    "        ts_dict[ele][t_range][2] = generate_timeseries(main_path_2, azimut_mask, elevation_mask, min_height, max_height, t_range)\n",
    "        ts_dict[ele][t_range][3] = generate_timeseries(main_path_3, azimut_mask, elevation_mask, min_height, max_height, t_range)"
   ]
  },
  {
   "cell_type": "code",
   "execution_count": 8,
   "metadata": {},
   "outputs": [],
   "source": [
    "import pickle \n",
    "with open('saved_dictionary.pkl', 'wb') as f:\n",
    "    pickle.dump(ts_dict, f)"
   ]
  },
  {
   "cell_type": "code",
   "execution_count": 9,
   "metadata": {},
   "outputs": [],
   "source": [
    "with open('saved_dictionary.pkl', 'rb') as f:\n",
    "    ts_dict = pickle.load(f)"
   ]
  }
 ],
 "metadata": {
  "kernelspec": {
   "display_name": "gnss_ir",
   "language": "python",
   "name": "python3"
  },
  "language_info": {
   "codemirror_mode": {
    "name": "ipython",
    "version": 3
   },
   "file_extension": ".py",
   "mimetype": "text/x-python",
   "name": "python",
   "nbconvert_exporter": "python",
   "pygments_lexer": "ipython3",
   "version": "3.9.12"
  },
  "orig_nbformat": 4,
  "vscode": {
   "interpreter": {
    "hash": "899cbdd3e6d213a089c367d62ece5cdfd458181ffdb9574f74f7a7425a23b7e4"
   }
  }
 },
 "nbformat": 4,
 "nbformat_minor": 2
}
