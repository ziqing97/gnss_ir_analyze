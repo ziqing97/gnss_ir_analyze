{
 "cells": [
  {
   "cell_type": "code",
   "execution_count": 31,
   "metadata": {},
   "outputs": [],
   "source": [
    "import pickle \n",
    "import os\n",
    "from datetime import datetime,timezone,timedelta\n",
    "import pickle\n",
    "\n",
    "import numpy as np\n",
    "import pandas as pd\n",
    "import matplotlib\n",
    "import matplotlib.pyplot as plt\n",
    "import matplotlib.cm as cm\n",
    "from tqdm import tqdm\n",
    "from scipy import signal\n",
    "\n",
    "import data_filter as dafi\n",
    "import data_process as dapr\n",
    "import lib_plot"
   ]
  },
  {
   "cell_type": "code",
   "execution_count": 32,
   "metadata": {},
   "outputs": [],
   "source": [
    "azimut_mask = [270,330]\n",
    "elevation_mask = [3,30]\n",
    "min_height = 2\n",
    "max_height = 4\n",
    "t_range = 30"
   ]
  },
  {
   "cell_type": "code",
   "execution_count": 33,
   "metadata": {},
   "outputs": [
    {
     "name": "stderr",
     "output_type": "stream",
     "text": [
      "  0%|          | 0/29 [00:00<?, ?it/s]"
     ]
    },
    {
     "name": "stdout",
     "output_type": "stream",
     "text": [
      "warning\n",
      "warning\n",
      "warning\n"
     ]
    },
    {
     "name": "stderr",
     "output_type": "stream",
     "text": [
      "  3%|▎         | 1/29 [00:06<03:06,  6.67s/it]"
     ]
    },
    {
     "name": "stdout",
     "output_type": "stream",
     "text": [
      "warning\n",
      "warning\n",
      "warning\n"
     ]
    },
    {
     "name": "stderr",
     "output_type": "stream",
     "text": [
      "  7%|▋         | 2/29 [00:13<02:57,  6.57s/it]"
     ]
    },
    {
     "name": "stdout",
     "output_type": "stream",
     "text": [
      "warning\n",
      "warning\n",
      "warning\n"
     ]
    },
    {
     "name": "stderr",
     "output_type": "stream",
     "text": [
      " 10%|█         | 3/29 [00:19<02:52,  6.65s/it]"
     ]
    },
    {
     "name": "stdout",
     "output_type": "stream",
     "text": [
      "warning\n",
      "warning\n",
      "warning\n"
     ]
    },
    {
     "name": "stderr",
     "output_type": "stream",
     "text": [
      " 14%|█▍        | 4/29 [00:26<02:43,  6.52s/it]"
     ]
    },
    {
     "name": "stdout",
     "output_type": "stream",
     "text": [
      "warning\n",
      "warning\n"
     ]
    },
    {
     "name": "stderr",
     "output_type": "stream",
     "text": [
      " 17%|█▋        | 5/29 [00:32<02:33,  6.40s/it]"
     ]
    },
    {
     "name": "stdout",
     "output_type": "stream",
     "text": [
      "warning\n",
      "warning\n",
      "warning\n"
     ]
    },
    {
     "name": "stderr",
     "output_type": "stream",
     "text": [
      " 21%|██        | 6/29 [00:38<02:23,  6.25s/it]"
     ]
    },
    {
     "name": "stdout",
     "output_type": "stream",
     "text": [
      "warning\n",
      "warning\n",
      "warning\n"
     ]
    },
    {
     "name": "stderr",
     "output_type": "stream",
     "text": [
      " 24%|██▍       | 7/29 [00:44<02:14,  6.11s/it]"
     ]
    },
    {
     "name": "stdout",
     "output_type": "stream",
     "text": [
      "warning\n",
      "warning\n",
      "warning\n"
     ]
    },
    {
     "name": "stderr",
     "output_type": "stream",
     "text": [
      " 28%|██▊       | 8/29 [00:50<02:07,  6.08s/it]"
     ]
    },
    {
     "name": "stdout",
     "output_type": "stream",
     "text": [
      "warning\n",
      "warning\n",
      "warning\n"
     ]
    },
    {
     "name": "stderr",
     "output_type": "stream",
     "text": [
      " 31%|███       | 9/29 [00:56<02:01,  6.06s/it]"
     ]
    },
    {
     "name": "stdout",
     "output_type": "stream",
     "text": [
      "warning\n",
      "warning\n",
      "warning\n"
     ]
    },
    {
     "name": "stderr",
     "output_type": "stream",
     "text": [
      " 34%|███▍      | 10/29 [01:01<01:52,  5.92s/it]"
     ]
    },
    {
     "name": "stdout",
     "output_type": "stream",
     "text": [
      "warning\n",
      "warning\n",
      "warning\n"
     ]
    },
    {
     "name": "stderr",
     "output_type": "stream",
     "text": [
      " 38%|███▊      | 11/29 [01:07<01:45,  5.87s/it]"
     ]
    },
    {
     "name": "stdout",
     "output_type": "stream",
     "text": [
      "warning\n",
      "warning\n",
      "warning\n"
     ]
    },
    {
     "name": "stderr",
     "output_type": "stream",
     "text": [
      " 41%|████▏     | 12/29 [01:13<01:39,  5.88s/it]"
     ]
    },
    {
     "name": "stdout",
     "output_type": "stream",
     "text": [
      "warning\n",
      "warning\n",
      "warning\n"
     ]
    },
    {
     "name": "stderr",
     "output_type": "stream",
     "text": [
      " 45%|████▍     | 13/29 [01:19<01:33,  5.86s/it]"
     ]
    },
    {
     "name": "stdout",
     "output_type": "stream",
     "text": [
      "warning\n",
      "warning\n",
      "warning\n"
     ]
    },
    {
     "name": "stderr",
     "output_type": "stream",
     "text": [
      " 48%|████▊     | 14/29 [01:24<01:26,  5.80s/it]"
     ]
    },
    {
     "name": "stdout",
     "output_type": "stream",
     "text": [
      "warning\n",
      "warning\n",
      "warning\n"
     ]
    },
    {
     "name": "stderr",
     "output_type": "stream",
     "text": [
      " 52%|█████▏    | 15/29 [01:30<01:21,  5.79s/it]"
     ]
    },
    {
     "name": "stdout",
     "output_type": "stream",
     "text": [
      "warning\n",
      "warning\n",
      "warning\n"
     ]
    },
    {
     "name": "stderr",
     "output_type": "stream",
     "text": [
      " 55%|█████▌    | 16/29 [01:36<01:14,  5.73s/it]"
     ]
    },
    {
     "name": "stdout",
     "output_type": "stream",
     "text": [
      "warning\n",
      "warning\n",
      "warning\n"
     ]
    },
    {
     "name": "stderr",
     "output_type": "stream",
     "text": [
      " 59%|█████▊    | 17/29 [01:42<01:08,  5.73s/it]"
     ]
    },
    {
     "name": "stdout",
     "output_type": "stream",
     "text": [
      "warning\n",
      "warning\n",
      "warning\n"
     ]
    },
    {
     "name": "stderr",
     "output_type": "stream",
     "text": [
      " 62%|██████▏   | 18/29 [01:47<01:03,  5.74s/it]"
     ]
    },
    {
     "name": "stdout",
     "output_type": "stream",
     "text": [
      "warning\n",
      "warning\n",
      "warning\n"
     ]
    },
    {
     "name": "stderr",
     "output_type": "stream",
     "text": [
      " 66%|██████▌   | 19/29 [01:54<00:58,  5.89s/it]"
     ]
    },
    {
     "name": "stdout",
     "output_type": "stream",
     "text": [
      "warning\n",
      "warning\n",
      "warning\n"
     ]
    },
    {
     "name": "stderr",
     "output_type": "stream",
     "text": [
      " 69%|██████▉   | 20/29 [02:00<00:53,  5.92s/it]"
     ]
    },
    {
     "name": "stdout",
     "output_type": "stream",
     "text": [
      "warning\n",
      "warning\n",
      "warning\n"
     ]
    },
    {
     "name": "stderr",
     "output_type": "stream",
     "text": [
      " 72%|███████▏  | 21/29 [02:06<00:47,  5.99s/it]"
     ]
    },
    {
     "name": "stdout",
     "output_type": "stream",
     "text": [
      "warning\n",
      "warning\n",
      "warning\n"
     ]
    },
    {
     "name": "stderr",
     "output_type": "stream",
     "text": [
      " 76%|███████▌  | 22/29 [02:12<00:41,  5.99s/it]"
     ]
    },
    {
     "name": "stdout",
     "output_type": "stream",
     "text": [
      "warning\n",
      "warning\n"
     ]
    },
    {
     "name": "stderr",
     "output_type": "stream",
     "text": [
      " 79%|███████▉  | 23/29 [02:18<00:36,  6.16s/it]"
     ]
    },
    {
     "name": "stdout",
     "output_type": "stream",
     "text": [
      "warning\n",
      "warning\n",
      "warning\n"
     ]
    },
    {
     "name": "stderr",
     "output_type": "stream",
     "text": [
      " 83%|████████▎ | 24/29 [02:25<00:31,  6.21s/it]"
     ]
    },
    {
     "name": "stdout",
     "output_type": "stream",
     "text": [
      "warning\n",
      "warning\n",
      "warning\n"
     ]
    },
    {
     "name": "stderr",
     "output_type": "stream",
     "text": [
      " 86%|████████▌ | 25/29 [02:31<00:24,  6.21s/it]"
     ]
    },
    {
     "name": "stdout",
     "output_type": "stream",
     "text": [
      "warning\n",
      "warning\n",
      "warning\n"
     ]
    },
    {
     "name": "stderr",
     "output_type": "stream",
     "text": [
      " 90%|████████▉ | 26/29 [02:36<00:18,  6.03s/it]"
     ]
    },
    {
     "name": "stdout",
     "output_type": "stream",
     "text": [
      "warning\n",
      "warning\n",
      "warning\n"
     ]
    },
    {
     "name": "stderr",
     "output_type": "stream",
     "text": [
      " 93%|█████████▎| 27/29 [02:42<00:11,  5.97s/it]"
     ]
    },
    {
     "name": "stdout",
     "output_type": "stream",
     "text": [
      "warning\n",
      "warning\n",
      "warning\n"
     ]
    },
    {
     "name": "stderr",
     "output_type": "stream",
     "text": [
      " 97%|█████████▋| 28/29 [02:48<00:05,  5.97s/it]"
     ]
    },
    {
     "name": "stdout",
     "output_type": "stream",
     "text": [
      "warning\n",
      "warning\n",
      "warning\n"
     ]
    },
    {
     "name": "stderr",
     "output_type": "stream",
     "text": [
      "100%|██████████| 29/29 [02:54<00:00,  6.03s/it]\n",
      "  0%|          | 0/29 [00:00<?, ?it/s]"
     ]
    },
    {
     "name": "stdout",
     "output_type": "stream",
     "text": [
      "warning\n",
      "warning\n",
      "warning\n"
     ]
    },
    {
     "name": "stderr",
     "output_type": "stream",
     "text": [
      "  3%|▎         | 1/29 [00:06<03:10,  6.80s/it]"
     ]
    },
    {
     "name": "stdout",
     "output_type": "stream",
     "text": [
      "warning\n",
      "warning\n",
      "warning\n"
     ]
    },
    {
     "name": "stderr",
     "output_type": "stream",
     "text": [
      "  7%|▋         | 2/29 [00:13<03:02,  6.76s/it]"
     ]
    },
    {
     "name": "stdout",
     "output_type": "stream",
     "text": [
      "warning\n",
      "warning\n",
      "warning\n"
     ]
    },
    {
     "name": "stderr",
     "output_type": "stream",
     "text": [
      " 10%|█         | 3/29 [00:19<02:50,  6.54s/it]"
     ]
    },
    {
     "name": "stdout",
     "output_type": "stream",
     "text": [
      "warning\n",
      "warning\n",
      "warning\n"
     ]
    },
    {
     "name": "stderr",
     "output_type": "stream",
     "text": [
      " 14%|█▍        | 4/29 [00:26<02:40,  6.41s/it]"
     ]
    },
    {
     "name": "stdout",
     "output_type": "stream",
     "text": [
      "warning\n",
      "warning\n"
     ]
    },
    {
     "name": "stderr",
     "output_type": "stream",
     "text": [
      " 17%|█▋        | 5/29 [00:32<02:36,  6.51s/it]"
     ]
    },
    {
     "name": "stdout",
     "output_type": "stream",
     "text": [
      "warning\n",
      "warning\n",
      "warning\n"
     ]
    },
    {
     "name": "stderr",
     "output_type": "stream",
     "text": [
      " 21%|██        | 6/29 [00:38<02:23,  6.23s/it]"
     ]
    },
    {
     "name": "stdout",
     "output_type": "stream",
     "text": [
      "warning\n",
      "warning\n",
      "warning\n"
     ]
    },
    {
     "name": "stderr",
     "output_type": "stream",
     "text": [
      " 24%|██▍       | 7/29 [00:44<02:14,  6.11s/it]"
     ]
    },
    {
     "name": "stdout",
     "output_type": "stream",
     "text": [
      "warning\n",
      "warning\n",
      "warning\n"
     ]
    },
    {
     "name": "stderr",
     "output_type": "stream",
     "text": [
      " 28%|██▊       | 8/29 [00:49<02:05,  5.97s/it]"
     ]
    },
    {
     "name": "stdout",
     "output_type": "stream",
     "text": [
      "warning\n",
      "warning\n",
      "warning\n"
     ]
    },
    {
     "name": "stderr",
     "output_type": "stream",
     "text": [
      " 31%|███       | 9/29 [00:55<01:58,  5.92s/it]"
     ]
    },
    {
     "name": "stdout",
     "output_type": "stream",
     "text": [
      "warning\n",
      "warning\n",
      "warning\n"
     ]
    },
    {
     "name": "stderr",
     "output_type": "stream",
     "text": [
      " 34%|███▍      | 10/29 [01:01<01:50,  5.79s/it]"
     ]
    },
    {
     "name": "stdout",
     "output_type": "stream",
     "text": [
      "warning\n",
      "warning\n",
      "warning\n"
     ]
    },
    {
     "name": "stderr",
     "output_type": "stream",
     "text": [
      " 38%|███▊      | 11/29 [01:06<01:43,  5.76s/it]"
     ]
    },
    {
     "name": "stdout",
     "output_type": "stream",
     "text": [
      "warning\n",
      "warning\n",
      "warning\n"
     ]
    },
    {
     "name": "stderr",
     "output_type": "stream",
     "text": [
      " 41%|████▏     | 12/29 [01:13<01:40,  5.89s/it]"
     ]
    },
    {
     "name": "stdout",
     "output_type": "stream",
     "text": [
      "warning\n",
      "warning\n",
      "warning\n"
     ]
    },
    {
     "name": "stderr",
     "output_type": "stream",
     "text": [
      " 45%|████▍     | 13/29 [01:19<01:34,  5.91s/it]"
     ]
    },
    {
     "name": "stdout",
     "output_type": "stream",
     "text": [
      "warning\n",
      "warning\n",
      "warning\n"
     ]
    },
    {
     "name": "stderr",
     "output_type": "stream",
     "text": [
      " 48%|████▊     | 14/29 [01:24<01:28,  5.90s/it]"
     ]
    },
    {
     "name": "stdout",
     "output_type": "stream",
     "text": [
      "warning\n",
      "warning\n",
      "warning\n"
     ]
    },
    {
     "name": "stderr",
     "output_type": "stream",
     "text": [
      " 52%|█████▏    | 15/29 [01:30<01:22,  5.92s/it]"
     ]
    },
    {
     "name": "stdout",
     "output_type": "stream",
     "text": [
      "warning\n",
      "warning\n",
      "warning\n"
     ]
    },
    {
     "name": "stderr",
     "output_type": "stream",
     "text": [
      " 55%|█████▌    | 16/29 [01:36<01:16,  5.88s/it]"
     ]
    },
    {
     "name": "stdout",
     "output_type": "stream",
     "text": [
      "warning\n",
      "warning\n",
      "warning\n"
     ]
    },
    {
     "name": "stderr",
     "output_type": "stream",
     "text": [
      " 59%|█████▊    | 17/29 [01:42<01:11,  5.92s/it]"
     ]
    },
    {
     "name": "stdout",
     "output_type": "stream",
     "text": [
      "warning\n",
      "warning\n",
      "warning\n"
     ]
    },
    {
     "name": "stderr",
     "output_type": "stream",
     "text": [
      " 62%|██████▏   | 18/29 [01:48<01:05,  5.98s/it]"
     ]
    },
    {
     "name": "stdout",
     "output_type": "stream",
     "text": [
      "warning\n",
      "warning\n",
      "warning\n"
     ]
    },
    {
     "name": "stderr",
     "output_type": "stream",
     "text": [
      " 66%|██████▌   | 19/29 [01:55<01:01,  6.19s/it]"
     ]
    },
    {
     "name": "stdout",
     "output_type": "stream",
     "text": [
      "warning\n",
      "warning\n",
      "warning\n"
     ]
    },
    {
     "name": "stderr",
     "output_type": "stream",
     "text": [
      " 69%|██████▉   | 20/29 [02:02<00:56,  6.28s/it]"
     ]
    },
    {
     "name": "stdout",
     "output_type": "stream",
     "text": [
      "warning\n",
      "warning\n",
      "warning\n"
     ]
    },
    {
     "name": "stderr",
     "output_type": "stream",
     "text": [
      " 72%|███████▏  | 21/29 [02:08<00:51,  6.41s/it]"
     ]
    },
    {
     "name": "stdout",
     "output_type": "stream",
     "text": [
      "warning\n",
      "warning\n",
      "warning\n"
     ]
    },
    {
     "name": "stderr",
     "output_type": "stream",
     "text": [
      " 76%|███████▌  | 22/29 [02:15<00:45,  6.50s/it]"
     ]
    },
    {
     "name": "stdout",
     "output_type": "stream",
     "text": [
      "warning\n",
      "warning\n"
     ]
    },
    {
     "name": "stderr",
     "output_type": "stream",
     "text": [
      " 79%|███████▉  | 23/29 [02:22<00:39,  6.58s/it]"
     ]
    },
    {
     "name": "stdout",
     "output_type": "stream",
     "text": [
      "warning\n",
      "warning\n",
      "warning\n"
     ]
    },
    {
     "name": "stderr",
     "output_type": "stream",
     "text": [
      " 83%|████████▎ | 24/29 [02:28<00:33,  6.61s/it]"
     ]
    },
    {
     "name": "stdout",
     "output_type": "stream",
     "text": [
      "warning\n",
      "warning\n",
      "warning\n"
     ]
    },
    {
     "name": "stderr",
     "output_type": "stream",
     "text": [
      " 86%|████████▌ | 25/29 [02:35<00:26,  6.59s/it]"
     ]
    },
    {
     "name": "stdout",
     "output_type": "stream",
     "text": [
      "warning\n",
      "warning\n",
      "warning\n"
     ]
    },
    {
     "name": "stderr",
     "output_type": "stream",
     "text": [
      " 90%|████████▉ | 26/29 [02:41<00:19,  6.49s/it]"
     ]
    },
    {
     "name": "stdout",
     "output_type": "stream",
     "text": [
      "warning\n",
      "warning\n",
      "warning\n"
     ]
    },
    {
     "name": "stderr",
     "output_type": "stream",
     "text": [
      " 93%|█████████▎| 27/29 [02:47<00:12,  6.36s/it]"
     ]
    },
    {
     "name": "stdout",
     "output_type": "stream",
     "text": [
      "warning\n",
      "warning\n",
      "warning\n"
     ]
    },
    {
     "name": "stderr",
     "output_type": "stream",
     "text": [
      " 97%|█████████▋| 28/29 [02:53<00:06,  6.31s/it]"
     ]
    },
    {
     "name": "stdout",
     "output_type": "stream",
     "text": [
      "warning\n",
      "warning\n",
      "warning\n"
     ]
    },
    {
     "name": "stderr",
     "output_type": "stream",
     "text": [
      "100%|██████████| 29/29 [03:00<00:00,  6.21s/it]\n"
     ]
    }
   ],
   "source": [
    "main_path_2 = os.path.abspath('../data/20221127/2/')\n",
    "main_path_3 = os.path.abspath('../data/20221127/3/')\n",
    "\n",
    "ts_1031_2_old = dapr.generate_timeseries(main_path_2, azimut_mask, elevation_mask, min_height, max_height, t_range,11,27)\n",
    "ts_1031_3_old = dapr.generate_timeseries(main_path_3, azimut_mask, elevation_mask, min_height, max_height, t_range,11,27)\n"
   ]
  },
  {
   "cell_type": "code",
   "execution_count": 34,
   "metadata": {},
   "outputs": [
    {
     "data": {
      "image/png": "[encoded data removed]",
      "text/plain": [
       "<Figure size 900x300 with 1 Axes>"
      ]
     },
     "metadata": {},
     "output_type": "display_data"
    }
   ],
   "source": [
    "median_ts_2 = np.median(np.array(list(ts_1031_2_old.values())))\n",
    "median_ts_3 = np.median(np.array(list(ts_1031_3_old.values())))\n",
    "# ts_gauge = pd.read_csv('../data/gauge/20220907_gauge.csv')\n",
    "\n",
    "res_ts_1031_2 = -(np.array(list(ts_1031_2_old.values())) - median_ts_2)\n",
    "res_ts_1031_3 = -(np.array(list(ts_1031_3_old.values())) - median_ts_3)\n",
    "\n",
    "'''gauge_time = []\n",
    "gauge_mean = np.mean(ts_gauge['1'])\n",
    "res_ts_gauge = []\n",
    "for t,h in zip(ts_gauge['0'],ts_gauge['1']):\n",
    "    gauge_time.append(datetime.fromtimestamp(t,tz=timezone.utc))\n",
    "    res_ts_gauge.append(h-gauge_mean)'''\n",
    "\n",
    "\n",
    "plt.rcParams.update({'font.size': 10})\n",
    "fig,ax = plt.subplots()\n",
    "ax.scatter(list(ts_1031_2_old.keys()), res_ts_1031_2,s=1)\n",
    "ax.scatter(list(ts_1031_3_old.keys()), res_ts_1031_3,s=1)\n",
    "# ax.scatter(gauge_time,res_ts_gauge,s=10)\n",
    "ax.set_xlabel('time (date hour:minute)')\n",
    "ax.set_ylabel('heihgt(meter)')\n",
    "ax.set_title('rel water surface height 07.Sep (after separate the increasing and decreasing part)')\n",
    "ax.set_ylim([-1,1])\n",
    "fig.set_size_inches(9,3)"
   ]
  },
  {
   "cell_type": "code",
   "execution_count": 35,
   "metadata": {},
   "outputs": [],
   "source": [
    "with open('timeseries_ele30_time30.pkl', 'rb') as f:\n",
    "    ts_30_30_dict = pickle.load(f)\n"
   ]
  },
  {
   "cell_type": "code",
   "execution_count": 40,
   "metadata": {},
   "outputs": [
    {
     "data": {
      "image/png": "[encoded data removed]",
      "text/plain": [
       "<Figure size 900x300 with 1 Axes>"
      ]
     },
     "metadata": {},
     "output_type": "display_data"
    }
   ],
   "source": [
    "ts_1031_2_new = ts_30_30_dict['1127_2']\n",
    "ts_1031_3_new = ts_30_30_dict['1127_3']\n",
    "#ts_gauge = pd.read_csv('../data/gauge/20220907_gauge.csv')\n",
    "\n",
    "median_ts_2 = np.median(np.array(list(ts_1031_2_new.values())))\n",
    "median_ts_3 = np.median(np.array(list(ts_1031_3_new.values())))\n",
    "\n",
    "res_ts_1031_2 = -(np.array(list(ts_1031_2_new.values())) - median_ts_2)\n",
    "res_ts_1031_3 = -(np.array(list(ts_1031_3_new.values())) - median_ts_3)\n",
    "\n",
    "'''gauge_time = []\n",
    "gauge_mean = np.mean(ts_gauge['1'])\n",
    "res_ts_gauge = []\n",
    "for t,h in zip(ts_gauge['0'],ts_gauge['1']):\n",
    "    gauge_time.append(datetime.fromtimestamp(t,tz=timezone.utc))\n",
    "    res_ts_gauge.append(h-gauge_mean)'''\n",
    "\n",
    "\n",
    "plt.rcParams.update({'font.size': 10})\n",
    "fig,ax = plt.subplots()\n",
    "ax.scatter(list(ts_1031_2_new.keys()), res_ts_1031_2,s=1)\n",
    "ax.scatter(list(ts_1031_3_new.keys()), res_ts_1031_3,s=1)\n",
    "#ax.scatter(gauge_time,res_ts_gauge,s=10)\n",
    "ax.set_xlabel('time (date hour:minute)')\n",
    "ax.set_ylabel('heihgt(meter)')\n",
    "ax.set_title('rel water surface height 07.Sep (before separate the increasing and decreasing part)')\n",
    "ax.set_ylim([-1,1])\n",
    "fig.set_size_inches(9,3)"
   ]
  },
  {
   "cell_type": "code",
   "execution_count": 41,
   "metadata": {},
   "outputs": [],
   "source": [
    "length1 = len(list(ts_1031_2_new.keys()))\n",
    "length2 = len(list(ts_1031_2_old.keys()))"
   ]
  },
  {
   "cell_type": "code",
   "execution_count": 42,
   "metadata": {},
   "outputs": [
    {
     "name": "stdout",
     "output_type": "stream",
     "text": [
      "89\n",
      "89\n"
     ]
    }
   ],
   "source": [
    "print(length1)\n",
    "print(length2)"
   ]
  },
  {
   "cell_type": "code",
   "execution_count": 43,
   "metadata": {},
   "outputs": [
    {
     "data": {
      "text/plain": [
       "array([ 0.142, -0.12 ,  0.   , -0.201,  0.631, -0.413,  0.   ,  0.   ,\n",
       "       -0.121,  0.142,  0.   ,  0.   , -0.057,  0.072,  0.   ,  0.007,\n",
       "        0.012,  0.   ,  0.142,  0.047,  0.   , -0.125,  0.294,  0.   ,\n",
       "       -0.162,  0.323,  0.   , -0.186,  0.31 ,  0.   , -0.134,  0.248,\n",
       "        0.   , -0.336,  0.409,  0.   , -0.426,  0.428,  0.   ,  0.   ,\n",
       "        0.   ,  0.   ,  0.   ,  0.   ,  0.   ,  0.   ,  0.   , -0.275,\n",
       "       -0.015,  0.338, -0.187, -0.094,  0.319, -0.159, -0.116,  0.347,\n",
       "       -0.271,  0.118,  0.346, -0.202,  0.174,  0.365, -0.094,  0.106,\n",
       "        1.155, -0.104, -0.824,  1.159,  0.094, -0.03 ,  0.926,  0.23 ,\n",
       "       -0.023, -0.081,  0.351, -0.277,  0.352,  0.15 , -0.092,  0.221,\n",
       "        0.17 , -0.123,  0.233,  0.294, -0.247,  0.253,  0.194, -0.156,\n",
       "        0.037])"
      ]
     },
     "execution_count": 43,
     "metadata": {},
     "output_type": "execute_result"
    }
   ],
   "source": [
    "np.asarray(list(ts_1031_2_new.values())) - np.asarray(list(ts_1031_2_old.values()))"
   ]
  }
 ],
 "metadata": {
  "kernelspec": {
   "display_name": "gnss_ir",
   "language": "python",
   "name": "python3"
  },
  "language_info": {
   "codemirror_mode": {
    "name": "ipython",
    "version": 3
   },
   "file_extension": ".py",
   "mimetype": "text/x-python",
   "name": "python",
   "nbconvert_exporter": "python",
   "pygments_lexer": "ipython3",
   "version": "3.9.12"
  },
  "orig_nbformat": 4,
  "vscode": {
   "interpreter": {
    "hash": "899cbdd3e6d213a089c367d62ece5cdfd458181ffdb9574f74f7a7425a23b7e4"
   }
  }
 },
 "nbformat": 4,
 "nbformat_minor": 2
}
