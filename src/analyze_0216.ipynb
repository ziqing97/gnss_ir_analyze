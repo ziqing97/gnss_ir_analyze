{
 "cells": [
  {
   "cell_type": "code",
   "execution_count": null,
   "metadata": {},
   "outputs": [],
   "source": [
    "import os\n",
    "import pickle\n",
    "\n",
    "import lib_data_process as dapr\n"
   ]
  },
  {
   "cell_type": "code",
   "execution_count": null,
   "metadata": {},
   "outputs": [],
   "source": [
    "azimut_mask = [270,330]\n",
    "elevation_mask = [5,30]\n",
    "min_height = 2\n",
    "max_height = 4\n",
    "t_range = 30"
   ]
  },
  {
   "cell_type": "code",
   "execution_count": null,
   "metadata": {},
   "outputs": [],
   "source": [
    "main_path_1 = os.path.abspath('../data/20230217/1/')\n",
    "main_path_2 = os.path.abspath('../data/20230217/2/')\n",
    "main_path_r = os.path.abspath('../data/20230217/2_rotate/')\n",
    "\n",
    "ts_0217_1 = dapr.generate_timeseries(main_path_1, azimut_mask, elevation_mask, min_height, max_height, t_range, 2023, 2, 17,'L2')\n",
    "ts_0217_2 = dapr.generate_timeseries(main_path_2, azimut_mask, elevation_mask, min_height, max_height, t_range, 2023, 2, 17,'L2')\n",
    "ts_0217_r = dapr.generate_timeseries(main_path_r, azimut_mask, elevation_mask, min_height, max_height, t_range, 2023, 2, 17,'L2')"
   ]
  }
 ],
 "metadata": {
  "kernelspec": {
   "display_name": "gnss_ir",
   "language": "python",
   "name": "python3"
  },
  "language_info": {
   "name": "python",
   "version": "3.9.12"
  },
  "orig_nbformat": 4,
  "vscode": {
   "interpreter": {
    "hash": "bef03f3b2611f05ae925db1195bade39f419d97b5bf9db298e90bacf7555e223"
   }
  }
 },
 "nbformat": 4,
 "nbformat_minor": 2
}
