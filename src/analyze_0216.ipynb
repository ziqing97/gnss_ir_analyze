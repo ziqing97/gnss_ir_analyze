{
 "cells": [
  {
   "cell_type": "code",
   "execution_count": 5,
   "metadata": {},
   "outputs": [],
   "source": [
    "import os\n",
    "import pickle\n",
    "\n",
    "import matplotlib.pyplot as plt\n",
    "\n",
    "import lib_data_process as dapr\n",
    "import lib_plot\n"
   ]
  },
  {
   "cell_type": "code",
   "execution_count": 6,
   "metadata": {},
   "outputs": [],
   "source": [
    "azimut_mask = [270,330]\n",
    "elevation_mask = [5,30]\n",
    "min_height = 2\n",
    "max_height = 4\n",
    "t_range = 30"
   ]
  },
  {
   "cell_type": "code",
   "execution_count": 7,
   "metadata": {},
   "outputs": [
    {
     "name": "stderr",
     "output_type": "stream",
     "text": [
      "100%|██████████| 29/29 [06:07<00:00, 12.68s/it]\n",
      "100%|██████████| 29/29 [06:07<00:00, 12.69s/it]\n",
      "100%|██████████| 29/29 [01:53<00:00,  3.92s/it]\n"
     ]
    }
   ],
   "source": [
    "main_path_1 = os.path.abspath('../data/20230217/1/')\n",
    "main_path_2 = os.path.abspath('../data/20230217/2/')\n",
    "main_path_r = os.path.abspath('../data/20230217/2_rotate/')\n",
    "\n",
    "ts_0217_1 = dapr.generate_timeseries(main_path_1, azimut_mask, elevation_mask, min_height, max_height, t_range, 2023, 2, 16,'L1')\n",
    "ts_0217_2 = dapr.generate_timeseries(main_path_2, azimut_mask, elevation_mask, min_height, max_height, t_range, 2023, 2, 16,'L1')\n",
    "ts_0217_r = dapr.generate_timeseries(main_path_r, azimut_mask, elevation_mask, min_height, max_height, t_range, 2023, 2, 16,'L1')"
   ]
  },
  {
   "cell_type": "code",
   "execution_count": 8,
   "metadata": {},
   "outputs": [
    {
     "data": {
      "text/plain": [
       "<matplotlib.collections.PathCollection at 0x2ce2568f100>"
      ]
     },
     "execution_count": 8,
     "metadata": {},
     "output_type": "execute_result"
    },
    {
     "data": {
      "image/png": "[encoded data removed]",
      "text/plain": [
       "<Figure size 432x288 with 1 Axes>"
      ]
     },
     "metadata": {
      "needs_background": "light"
     },
     "output_type": "display_data"
    }
   ],
   "source": [
    "fig,ax = plt.subplots()\n",
    "ax.scatter(list(ts_0217_1.keys()), list(ts_0217_1.values()), s=1)\n",
    "ax.scatter(list(ts_0217_2.keys()), list(ts_0217_2.values()), s=1)\n",
    "ax.scatter(list(ts_0217_r.keys()), list(ts_0217_r.values()), s=1)"
   ]
  },
  {
   "cell_type": "code",
   "execution_count": 11,
   "metadata": {},
   "outputs": [
    {
     "name": "stderr",
     "output_type": "stream",
     "text": [
      "100%|██████████| 19/19 [01:18<00:00,  4.15s/it]\n"
     ]
    },
    {
     "data": {
      "text/plain": [
       "<matplotlib.collections.PathCollection at 0x2ce1c497fa0>"
      ]
     },
     "execution_count": 11,
     "metadata": {},
     "output_type": "execute_result"
    },
    {
     "data": {
      "image/png": "[encoded data removed]",
      "text/plain": [
       "<Figure size 432x288 with 1 Axes>"
      ]
     },
     "metadata": {
      "needs_background": "light"
     },
     "output_type": "display_data"
    }
   ],
   "source": [
    "ts_0217_r = dapr.generate_timeseries(main_path_r, azimut_mask, elevation_mask, min_height, max_height, 20, 2023, 2, 16,'L1')\n",
    "fig,ax = plt.subplots()\n",
    "ax.scatter(list(ts_0217_r.keys()), list(ts_0217_r.values()), s=1)"
   ]
  },
  {
   "cell_type": "code",
   "execution_count": 10,
   "metadata": {},
   "outputs": [
    {
     "data": {
      "text/plain": [
       "{}"
      ]
     },
     "execution_count": 10,
     "metadata": {},
     "output_type": "execute_result"
    }
   ],
   "source": [
    "ts_0217_r"
   ]
  }
 ],
 "metadata": {
  "kernelspec": {
   "display_name": "gnss_ir",
   "language": "python",
   "name": "python3"
  },
  "language_info": {
   "codemirror_mode": {
    "name": "ipython",
    "version": 3
   },
   "file_extension": ".py",
   "mimetype": "text/x-python",
   "name": "python",
   "nbconvert_exporter": "python",
   "pygments_lexer": "ipython3",
   "version": "3.9.12"
  },
  "orig_nbformat": 4,
  "vscode": {
   "interpreter": {
    "hash": "bef03f3b2611f05ae925db1195bade39f419d97b5bf9db298e90bacf7555e223"
   }
  }
 },
 "nbformat": 4,
 "nbformat_minor": 2
}
