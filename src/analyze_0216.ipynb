{
 "cells": [
  {
   "cell_type": "code",
   "execution_count": 33,
   "metadata": {},
   "outputs": [],
   "source": [
    "import pickle \n",
    "import os\n",
    "from datetime import datetime,timezone,timedelta\n",
    "import pickle\n",
    "\n",
    "import numpy as np\n",
    "import pandas as pd\n",
    "import matplotlib\n",
    "import matplotlib.pyplot as plt\n",
    "import matplotlib.cm as cm\n",
    "from tqdm import tqdm\n",
    "from scipy import signal\n",
    "\n",
    "import lib_data_filter as dafi\n",
    "import lib_data_process as dapr\n",
    "import lib_plot\n",
    "import lib_import_other_datasource as imoda"
   ]
  },
  {
   "cell_type": "code",
   "execution_count": 34,
   "metadata": {},
   "outputs": [],
   "source": [
    "datekey = '0216'\n",
    "ante_h = imoda.get_antenne_height(datekey)\n",
    "retrack_method = 'OCES'"
   ]
  },
  {
   "cell_type": "code",
   "execution_count": 35,
   "metadata": {},
   "outputs": [],
   "source": [
    "with open('../data/generated_data/270to330/timeseries_ele5_30_azi270_330_time30_all.pkl', 'rb') as f:\n",
    "    ts_dict = pickle.load(f)"
   ]
  },
  {
   "cell_type": "code",
   "execution_count": 36,
   "metadata": {},
   "outputs": [
    {
     "data": {
      "text/plain": [
       "{'1': 287.2321664504707, '2': 287.27779385913163, '2r': 287.2524313945323}"
      ]
     },
     "execution_count": 36,
     "metadata": {},
     "output_type": "execute_result"
    }
   ],
   "source": [
    "ante_h"
   ]
  },
  {
   "cell_type": "code",
   "execution_count": 37,
   "metadata": {},
   "outputs": [
    {
     "data": {
      "text/plain": [
       "dict_keys(['0811_2', '0811_3', '0907_2', '0907_3', '1004_2', '1004_3', '1031_2', '1031_3', '1127_2', '1127_3', '0216_1', '0216_2', '0216_r'])"
      ]
     },
     "execution_count": 37,
     "metadata": {},
     "output_type": "execute_result"
    }
   ],
   "source": [
    "ts_dict['ts'].keys()"
   ]
  },
  {
   "cell_type": "code",
   "execution_count": 38,
   "metadata": {},
   "outputs": [
    {
     "name": "stdout",
     "output_type": "stream",
     "text": [
      "mean 1 = 284.18 m,mean 2 = 284.31 m\n",
      "std 1 = 0.16 m, std 2 = 0.16\n"
     ]
    },
    {
     "data": {
      "image/png": "[encoded data removed]",
      "text/plain": [
       "<Figure size 648x144 with 1 Axes>"
      ]
     },
     "metadata": {
      "needs_background": "light"
     },
     "output_type": "display_data"
    }
   ],
   "source": [
    "# from gnss-r\n",
    "date_key = '0216'\n",
    "ts_1 = ts_dict['ts'][f'{date_key}_1']\n",
    "ts_2 = ts_dict['ts'][f'{date_key}_2']\n",
    "ts_2r = ts_dict['ts'][f'{date_key}_r']\n",
    "\n",
    "\n",
    "ante_h = imoda.get_antenne_height(date_key)\n",
    "fig,ax = plt.subplots()\n",
    "ax.scatter(list(ts_1.keys()), ante_h['1']-np.asarray(list(ts_1.values())), s=1)\n",
    "ax.scatter(list(ts_2.keys()), ante_h['2']-np.asarray(list(ts_2.values()))+0.2, s=1)\n",
    "ax.set_ylim([283,285])\n",
    "fig.set_size_inches(9,2)\n",
    "\n",
    "mean1 = np.nanmean(ante_h['1']-np.asarray(list(ts_1.values())))\n",
    "std1 = np.nanstd(ante_h['1']-np.asarray(list(ts_1.values())))\n",
    "mean2 = np.nanmean(ante_h['2']-np.asarray(list(ts_2.values()))+0.2)\n",
    "std2 = np.nanstd(ante_h['2']-np.asarray(list(ts_2.values()))+0.2)\n",
    "print(f'mean 1 = {round(mean1,2)} m,mean 2 = {round(mean2,2)} m')\n",
    "print(f'std 1 = {round(std1,2)} m, std 2 = {round(std2,2)}')"
   ]
  },
  {
   "cell_type": "code",
   "execution_count": 39,
   "metadata": {},
   "outputs": [
    {
     "name": "stdout",
     "output_type": "stream",
     "text": [
      "mean = 284.34 m\n",
      "std = 0.17 m\n"
     ]
    },
    {
     "data": {
      "image/png": "[encoded data removed]",
      "text/plain": [
       "<Figure size 648x144 with 1 Axes>"
      ]
     },
     "metadata": {
      "needs_background": "light"
     },
     "output_type": "display_data"
    }
   ],
   "source": [
    "fig,ax = plt.subplots()\n",
    "ax.scatter(list(ts_2r.keys()), ante_h['2r']-np.asarray(list(ts_2r.values())), s=1)\n",
    "ax.set_ylim([283,285])\n",
    "fig.set_size_inches(9,2)\n",
    "\n",
    "mean = np.nanmean(ante_h['2r']-np.asarray(list(ts_2r.values())))\n",
    "std = np.nanstd(ante_h['2r']-np.asarray(list(ts_2r.values())))\n",
    "print(f'mean = {round(mean,2)} m')\n",
    "print(f'std = {round(std,2)} m')"
   ]
  },
  {
   "cell_type": "code",
   "execution_count": 40,
   "metadata": {},
   "outputs": [],
   "source": [
    "with open('../data/generated_data/270to330/timeseries_ele5_50_time30_rotate.pkl', 'rb') as f:\n",
    "    ts_dict = pickle.load(f)\n"
   ]
  },
  {
   "cell_type": "code",
   "execution_count": 41,
   "metadata": {},
   "outputs": [
    {
     "name": "stdout",
     "output_type": "stream",
     "text": [
      "mean = 284.41 m\n",
      "std = 0.03 m\n"
     ]
    },
    {
     "data": {
      "image/png": "[encoded data removed]",
      "text/plain": [
       "<Figure size 648x144 with 1 Axes>"
      ]
     },
     "metadata": {
      "needs_background": "light"
     },
     "output_type": "display_data"
    }
   ],
   "source": [
    "ts_0216_r = ts_dict['ts']['0216_r']\n",
    "fig,ax = plt.subplots()\n",
    "ax.scatter(list(ts_0216_r.keys()), ante_h['2r']-np.asarray(list(ts_0216_r.values())), s=1)\n",
    "ax.set_ylim([283,285])\n",
    "\n",
    "fig.set_size_inches(9,2)\n",
    "mean = np.nanmean(ante_h['2r']-np.asarray(list(ts_0216_r.values())))\n",
    "std = np.nanstd(ante_h['2r']-np.asarray(list(ts_0216_r.values())))\n",
    "print(f'mean = {round(mean,2)} m')\n",
    "print(f'std = {round(std,2)} m')"
   ]
  }
 ],
 "metadata": {
  "kernelspec": {
   "display_name": "gnss_ir",
   "language": "python",
   "name": "python3"
  },
  "language_info": {
   "codemirror_mode": {
    "name": "ipython",
    "version": 3
   },
   "file_extension": ".py",
   "mimetype": "text/x-python",
   "name": "python",
   "nbconvert_exporter": "python",
   "pygments_lexer": "ipython3",
   "version": "3.9.12"
  },
  "orig_nbformat": 4,
  "vscode": {
   "interpreter": {
    "hash": "899cbdd3e6d213a089c367d62ece5cdfd458181ffdb9574f74f7a7425a23b7e4"
   }
  }
 },
 "nbformat": 4,
 "nbformat_minor": 2
}
