{
 "cells": [
  {
   "cell_type": "code",
   "execution_count": 13,
   "metadata": {},
   "outputs": [],
   "source": [
    "import os\n",
    "import matplotlib.pyplot as plt\n",
    "import data_filter as dafi\n",
    "import estimate_height as esth\n",
    "\n",
    "C = 299792458 # m/s\n",
    "FREQUENCY_GPS_L1 = 1575.42 * 10**6\n",
    "WAVELENTH_GPS_S1 = C/FREQUENCY_GPS_L1\n",
    "\n",
    "FREQUENCY_GLONASS_L1 = 1602 * 10**6\n",
    "WAVELENTH_GLONASS_S1 = C/FREQUENCY_GLONASS_L1"
   ]
  },
  {
   "cell_type": "code",
   "execution_count": 14,
   "metadata": {},
   "outputs": [],
   "source": [
    "main_path = os.path.abspath('../data/20221004/3/')\n",
    "data_dict = dafi.generate_dataframe(main_path)\n",
    "satellite_list = data_dict.keys()"
   ]
  },
  {
   "cell_type": "code",
   "execution_count": null,
   "metadata": {},
   "outputs": [],
   "source": [
    "azimut_mask = [270,330]\n",
    "elevation_mask = [0,25]\n",
    "min_height = 1\n",
    "max_height = 3 # meter\n",
    "time_length = 25 # minutes"
   ]
  },
  {
   "cell_type": "code",
   "execution_count": 15,
   "metadata": {},
   "outputs": [],
   "source": [
    "for satellite_code in satellite_list:\n",
    "    data_dict[satellite_code] = dafi.azimut_filter(data_dict[satellite_code],azimut_mask)\n",
    "    data_dict[satellite_code] = dafi.elevation_filter(data_dict[satellite_code],elevation_mask)\n",
    "time_dict = {}\n",
    "height_dict = {}\n",
    "azimut_dict = {}\n",
    "frequency_dict = {}\n",
    "power_dict = {}\n",
    "for satellite_code in satellite_list:\n",
    "    dataframe = data_dict[satellite_code]\n",
    "    try:\n",
    "        if satellite_code[0]=='R':\n",
    "            time_dict[satellite_code], height_dict[satellite_code], azimut_dict[satellite_code],\\\n",
    "            frequency_dict[satellite_code],power_dict[satellite_code] =\\\n",
    "            esth.split_result(dataframe,WAVELENTH_GLONASS_S1,time_length,min_height=1,max_height=4)\n",
    "        else:\n",
    "            time_dict[satellite_code], height_dict[satellite_code], azimut_dict[satellite_code],\\\n",
    "            frequency_dict[satellite_code],power_dict[satellite_code] =\\\n",
    "            esth.split_result(dataframe,WAVELENTH_GPS_S1,time_length,min_height=1,max_height=4)\n",
    "    except IndexError:\n",
    "        continue"
   ]
  },
  {
   "cell_type": "code",
   "execution_count": 16,
   "metadata": {},
   "outputs": [],
   "source": [
    "# for i,_ in enumerate(frequency_list):\n",
    "#     plt.plot(frequency_list[i],power_list[i],label=time_list[i])\n",
    "# plt.legend(loc=\"best\")"
   ]
  },
  {
   "cell_type": "code",
   "execution_count": 17,
   "metadata": {},
   "outputs": [
    {
     "data": {
      "text/plain": [
       "<matplotlib.legend.Legend at 0x1c108c5f460>"
      ]
     },
     "execution_count": 17,
     "metadata": {},
     "output_type": "execute_result"
    },
    {
     "data": {
      "image/png": "[encoded data removed]",
      "text/plain": [
       "<Figure size 432x288 with 1 Axes>"
      ]
     },
     "metadata": {
      "needs_background": "light"
     },
     "output_type": "display_data"
    }
   ],
   "source": [
    "for satellite_code in time_dict:\n",
    "    plt.scatter(azimut_dict[satellite_code],height_dict[satellite_code],label=satellite_code)\n",
    "\n",
    "plt.legend(loc=\"best\")"
   ]
  }
 ],
 "metadata": {
  "kernelspec": {
   "display_name": "Python 3.9.12 ('gnss_ir')",
   "language": "python",
   "name": "python3"
  },
  "language_info": {
   "codemirror_mode": {
    "name": "ipython",
    "version": 3
   },
   "file_extension": ".py",
   "mimetype": "text/x-python",
   "name": "python",
   "nbconvert_exporter": "python",
   "pygments_lexer": "ipython3",
   "version": "3.9.12"
  },
  "orig_nbformat": 4,
  "vscode": {
   "interpreter": {
    "hash": "bef03f3b2611f05ae925db1195bade39f419d97b5bf9db298e90bacf7555e223"
   }
  }
 },
 "nbformat": 4,
 "nbformat_minor": 2
}
