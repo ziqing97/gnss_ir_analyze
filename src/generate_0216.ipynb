{
 "cells": [
  {
   "cell_type": "code",
   "execution_count": 1,
   "metadata": {},
   "outputs": [],
   "source": [
    "from datetime import datetime,timezone\n",
    "import os\n",
    "import pickle\n",
    "\n",
    "from tqdm import tqdm\n",
    "\n",
    "from lib_data_process import libDataProcess as dapr"
   ]
  },
  {
   "cell_type": "code",
   "execution_count": 3,
   "metadata": {},
   "outputs": [],
   "source": [
    "path_list = [os.path.abspath('../data/20230216/1/'),\n",
    "             os.path.abspath('../data/20230216/2/'),\n",
    "             os.path.abspath('../data/20230216/2_rotate/'),]\n",
    "\n",
    "starttime_list = [datetime(year=2023,month=2,day=16,hour=7,minute=0,second=0,tzinfo=timezone.utc),\n",
    "                  datetime(year=2023,month=2,day=16,hour=7,minute=0,second=0,tzinfo=timezone.utc),\n",
    "                  datetime(year=2023,month=2,day=16,hour=7,minute=0,second=0,tzinfo=timezone.utc),]\n",
    "\n",
    "endtime_list = [datetime(year=2023,month=2,day=16,hour=19,minute=0,second=0,tzinfo=timezone.utc),\n",
    "            datetime(year=2023,month=2,day=16,hour=19,minute=0,second=0,tzinfo=timezone.utc),\n",
    "            datetime(year=2023,month=2,day=16,hour=19,minute=0,second=0,tzinfo=timezone.utc),]\n",
    "\n",
    "key_list = ['0216_1','0216_2',\n",
    "            '0216_r']\n",
    "\n"
   ]
  },
  {
   "cell_type": "code",
   "execution_count": 4,
   "metadata": {},
   "outputs": [
    {
     "name": "stderr",
     "output_type": "stream",
     "text": [
      "3it [4:51:01, 5820.42s/it]\n"
     ]
    }
   ],
   "source": [
    "azimut_mask = [265,340]\n",
    "elevation_mask = [5,50]\n",
    "min_height = 2.5\n",
    "max_height = 3.5\n",
    "t_range = 30\n",
    "sample_rate = 1\n",
    "ts_dict = {}\n",
    "count_ts = {}\n",
    "snr_list = ['snr1','snr2','snr5','snr7','snr8']\n",
    "for path,st,et,key in tqdm(zip(path_list,starttime_list,endtime_list,key_list)):\n",
    "    dapr_case = dapr()\n",
    "    ts_dict[key],count_ts[key] = dapr_case.generate_timeseries(path, azimut_mask, elevation_mask, min_height, max_height, t_range, st, et, snr_list, sample_rate)\n",
    "result_dict = {'ts':ts_dict,'count':count_ts,'periodgram':dapr_case.power_list}\n",
    "with open(f'../data/generated_data/timeseries0216_ele{elevation_mask[0]}_{elevation_mask[1]}_azi{azimut_mask[0]}_{azimut_mask[1]}_time{t_range}.pkl', 'wb') as f:\n",
    "    pickle.dump(result_dict, f)"
   ]
  }
 ],
 "metadata": {
  "kernelspec": {
   "display_name": "gnss_ir",
   "language": "python",
   "name": "python3"
  },
  "language_info": {
   "codemirror_mode": {
    "name": "ipython",
    "version": 3
   },
   "file_extension": ".py",
   "mimetype": "text/x-python",
   "name": "python",
   "nbconvert_exporter": "python",
   "pygments_lexer": "ipython3",
   "version": "3.9.16"
  },
  "orig_nbformat": 4
 },
 "nbformat": 4,
 "nbformat_minor": 2
}
