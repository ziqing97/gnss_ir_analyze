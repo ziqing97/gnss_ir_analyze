{
 "cells": [
  {
   "cell_type": "code",
   "execution_count": 21,
   "metadata": {},
   "outputs": [],
   "source": [
    "import pickle\n",
    "import numpy as np\n",
    "import pandas as pd\n",
    "import lib_import_other_datasource as imoda\n"
   ]
  },
  {
   "cell_type": "code",
   "execution_count": 22,
   "metadata": {},
   "outputs": [
    {
     "name": "stderr",
     "output_type": "stream",
     "text": [
      "/Users/yuziqing/Library/CloudStorage/OneDrive-个人/Studium/MA/gnss_ir_analyze/src/lib_import_other_datasource.py:29: FutureWarning: Calling float on a single element Series is deprecated and will raise a TypeError in the future. Use float(ser.iloc[0]) instead\n",
      "  ante_h['2'] = float(index['antenne2'])+0.2\n",
      "/Users/yuziqing/Library/CloudStorage/OneDrive-个人/Studium/MA/gnss_ir_analyze/src/lib_import_other_datasource.py:30: FutureWarning: Calling float on a single element Series is deprecated and will raise a TypeError in the future. Use float(ser.iloc[0]) instead\n",
      "  ante_h['3'] = float(index['antenne3'])+0.2\n",
      "/Users/yuziqing/Library/CloudStorage/OneDrive-个人/Studium/MA/gnss_ir_analyze/src/lib_import_other_datasource.py:29: FutureWarning: Calling float on a single element Series is deprecated and will raise a TypeError in the future. Use float(ser.iloc[0]) instead\n",
      "  ante_h['2'] = float(index['antenne2'])+0.2\n",
      "/Users/yuziqing/Library/CloudStorage/OneDrive-个人/Studium/MA/gnss_ir_analyze/src/lib_import_other_datasource.py:30: FutureWarning: Calling float on a single element Series is deprecated and will raise a TypeError in the future. Use float(ser.iloc[0]) instead\n",
      "  ante_h['3'] = float(index['antenne3'])+0.2\n",
      "/Users/yuziqing/Library/CloudStorage/OneDrive-个人/Studium/MA/gnss_ir_analyze/src/lib_import_other_datasource.py:29: FutureWarning: Calling float on a single element Series is deprecated and will raise a TypeError in the future. Use float(ser.iloc[0]) instead\n",
      "  ante_h['2'] = float(index['antenne2'])+0.2\n",
      "/Users/yuziqing/Library/CloudStorage/OneDrive-个人/Studium/MA/gnss_ir_analyze/src/lib_import_other_datasource.py:30: FutureWarning: Calling float on a single element Series is deprecated and will raise a TypeError in the future. Use float(ser.iloc[0]) instead\n",
      "  ante_h['3'] = float(index['antenne3'])+0.2\n",
      "/Users/yuziqing/Library/CloudStorage/OneDrive-个人/Studium/MA/gnss_ir_analyze/src/lib_import_other_datasource.py:29: FutureWarning: Calling float on a single element Series is deprecated and will raise a TypeError in the future. Use float(ser.iloc[0]) instead\n",
      "  ante_h['2'] = float(index['antenne2'])+0.2\n",
      "/Users/yuziqing/Library/CloudStorage/OneDrive-个人/Studium/MA/gnss_ir_analyze/src/lib_import_other_datasource.py:30: FutureWarning: Calling float on a single element Series is deprecated and will raise a TypeError in the future. Use float(ser.iloc[0]) instead\n",
      "  ante_h['3'] = float(index['antenne3'])+0.2\n",
      "/Users/yuziqing/Library/CloudStorage/OneDrive-个人/Studium/MA/gnss_ir_analyze/src/lib_import_other_datasource.py:29: FutureWarning: Calling float on a single element Series is deprecated and will raise a TypeError in the future. Use float(ser.iloc[0]) instead\n",
      "  ante_h['2'] = float(index['antenne2'])+0.2\n",
      "/Users/yuziqing/Library/CloudStorage/OneDrive-个人/Studium/MA/gnss_ir_analyze/src/lib_import_other_datasource.py:30: FutureWarning: Calling float on a single element Series is deprecated and will raise a TypeError in the future. Use float(ser.iloc[0]) instead\n",
      "  ante_h['3'] = float(index['antenne3'])+0.2\n",
      "/Users/yuziqing/Library/CloudStorage/OneDrive-个人/Studium/MA/gnss_ir_analyze/src/lib_import_other_datasource.py:22: FutureWarning: Calling float on a single element Series is deprecated and will raise a TypeError in the future. Use float(ser.iloc[0]) instead\n",
      "  ante_h['1'] = float(index['antenne1'])\n",
      "/Users/yuziqing/Library/CloudStorage/OneDrive-个人/Studium/MA/gnss_ir_analyze/src/lib_import_other_datasource.py:23: FutureWarning: Calling float on a single element Series is deprecated and will raise a TypeError in the future. Use float(ser.iloc[0]) instead\n",
      "  ante_h['2'] = float(index['antenne2'])+0.2\n",
      "/Users/yuziqing/Library/CloudStorage/OneDrive-个人/Studium/MA/gnss_ir_analyze/src/lib_import_other_datasource.py:24: FutureWarning: Calling float on a single element Series is deprecated and will raise a TypeError in the future. Use float(ser.iloc[0]) instead\n",
      "  ante_h['2r'] = float(index['antenne2r'])\n",
      "/Users/yuziqing/Library/CloudStorage/OneDrive-个人/Studium/MA/gnss_ir_analyze/src/lib_import_other_datasource.py:26: FutureWarning: Calling float on a single element Series is deprecated and will raise a TypeError in the future. Use float(ser.iloc[0]) instead\n",
      "  ante_h['1'] = float(index['antenne1'])\n",
      "/Users/yuziqing/Library/CloudStorage/OneDrive-个人/Studium/MA/gnss_ir_analyze/src/lib_import_other_datasource.py:27: FutureWarning: Calling float on a single element Series is deprecated and will raise a TypeError in the future. Use float(ser.iloc[0]) instead\n",
      "  ante_h['r'] = float(index['antenne2r'])\n",
      "/Users/yuziqing/Library/CloudStorage/OneDrive-个人/Studium/MA/gnss_ir_analyze/src/lib_import_other_datasource.py:26: FutureWarning: Calling float on a single element Series is deprecated and will raise a TypeError in the future. Use float(ser.iloc[0]) instead\n",
      "  ante_h['1'] = float(index['antenne1'])\n",
      "/Users/yuziqing/Library/CloudStorage/OneDrive-个人/Studium/MA/gnss_ir_analyze/src/lib_import_other_datasource.py:27: FutureWarning: Calling float on a single element Series is deprecated and will raise a TypeError in the future. Use float(ser.iloc[0]) instead\n",
      "  ante_h['r'] = float(index['antenne2r'])\n"
     ]
    }
   ],
   "source": [
    "with open('../data/generated_data/kapitel4/timeseries/timeseries_ele5_50_azi265_340_time30_all.pkl', 'rb') as f:\n",
    "    ts_dict = pickle.load(f)\n",
    "\n",
    "key_list = ['0811_2','0811_3',\n",
    "            '0907_2','0907_3',\n",
    "            '1004_2','1004_3',\n",
    "            '1031_2','1031_3',\n",
    "            '1127_2','1127_3',\n",
    "            '0216_1','0216_2']\n",
    "\n",
    "retrack_method = 'OCES'\n",
    "mean_dict = {}\n",
    "std_dict = {}\n",
    "for i,dk in enumerate(key_list):\n",
    "    date = dk[0:4]\n",
    "    ant = dk[-1]\n",
    "    if i%2 == 0:\n",
    "        ts = list(ts_dict['ts'][dk].values())\n",
    "    else:\n",
    "        ts = list(ts_dict['ts'][dk].values()) + ts\n",
    "        ante_h = imoda.get_antenne_height(date)[ant]\n",
    "        h_mean = ante_h-np.nanmean(ts)\n",
    "        h_std = np.nanstd(ts)\n",
    "        mean_dict[date] = h_mean\n",
    "        std_dict[date] = h_std\n",
    "\n",
    "with open('../data/generated_data/270to330/timeseries_ele5_30_azi270_330_time30_0315_all.pkl', 'rb') as f:\n",
    "    ts_dict = pickle.load(f)\n",
    "ts_0315_r1 = ts_dict['ts']['0315_r1']\n",
    "ts_0315_r2 = ts_dict['ts']['0315_r2']\n",
    "ts_0315_11 = ts_dict['ts']['0315_11']\n",
    "ts_0315_12 = ts_dict['ts']['0315_12']\n",
    "ts1 = list(ts_0315_11.values()) + list(ts_0315_12.values())\n",
    "ts2 = list(ts_0315_r1.values()) + list(ts_0315_r2.values())\n",
    "ante_h1 = imoda.get_antenne_height('0315-1')\n",
    "ante_h2 = imoda.get_antenne_height('0315-2')\n",
    "height_rotate_1 = ante_h1['1'] - 0.2 - np.asarray(list(ts_0315_r1.values()))\n",
    "height_rotate_2 = ante_h2['1'] - 0.2 - np.asarray(list(ts_0315_r2.values()))\n",
    "height_stand_1 = ante_h1['1'] - np.asarray(list(ts_0315_11.values()))\n",
    "height_stand_2 = ante_h2['1'] - np.asarray(list(ts_0315_12.values()))\n",
    "\n",
    "ts = np.concatenate((height_rotate_1,height_rotate_2,height_stand_1,height_stand_2),axis=0)\n",
    "\n",
    "mean_dict['0315'] = np.nanmean(ts)\n",
    "std_dict['0315'] = np.nanstd(ts)"
   ]
  },
  {
   "cell_type": "code",
   "execution_count": 23,
   "metadata": {},
   "outputs": [
    {
     "data": {
      "text/plain": [
       "{'0811': 284.572609920343,\n",
       " '0907': 284.5459108905569,\n",
       " '1004': 284.469633523444,\n",
       " '1031': 284.54068931587784,\n",
       " '1127': 284.58366424544465,\n",
       " '0216': 284.36931946154135,\n",
       " '0315': 284.5061014986082}"
      ]
     },
     "execution_count": 23,
     "metadata": {},
     "output_type": "execute_result"
    }
   ],
   "source": [
    "mean_dict"
   ]
  },
  {
   "cell_type": "code",
   "execution_count": 24,
   "metadata": {},
   "outputs": [
    {
     "data": {
      "text/plain": [
       "{'0811': 0.1927071715841037,\n",
       " '0907': 0.1446015259617936,\n",
       " '1004': 0.09947397691716105,\n",
       " '1031': 0.1535453653828928,\n",
       " '1127': 0.18248875917182208,\n",
       " '0216': 0.15508964355263186,\n",
       " '0315': 0.15387459036863638}"
      ]
     },
     "execution_count": 24,
     "metadata": {},
     "output_type": "execute_result"
    }
   ],
   "source": [
    "std_dict"
   ]
  },
  {
   "cell_type": "code",
   "execution_count": 25,
   "metadata": {},
   "outputs": [
    {
     "name": "stderr",
     "output_type": "stream",
     "text": [
      "/var/folders/3x/nl3jt7l14wn9gxs9xvkhh6qw0000gn/T/ipykernel_14971/2970500071.py:20: RuntimeWarning: Mean of empty slice\n",
      "  sentinel_statistic[rm][yeardate]['mean'] = np.nanmean(temp_list)\n",
      "/var/folders/3x/nl3jt7l14wn9gxs9xvkhh6qw0000gn/T/ipykernel_14971/2970500071.py:20: RuntimeWarning: Mean of empty slice\n",
      "  sentinel_statistic[rm][yeardate]['mean'] = np.nanmean(temp_list)\n",
      "/var/folders/3x/nl3jt7l14wn9gxs9xvkhh6qw0000gn/T/ipykernel_14971/2970500071.py:20: RuntimeWarning: Mean of empty slice\n",
      "  sentinel_statistic[rm][yeardate]['mean'] = np.nanmean(temp_list)\n",
      "/var/folders/3x/nl3jt7l14wn9gxs9xvkhh6qw0000gn/T/ipykernel_14971/2970500071.py:20: RuntimeWarning: Mean of empty slice\n",
      "  sentinel_statistic[rm][yeardate]['mean'] = np.nanmean(temp_list)\n",
      "/var/folders/3x/nl3jt7l14wn9gxs9xvkhh6qw0000gn/T/ipykernel_14971/2970500071.py:20: RuntimeWarning: Mean of empty slice\n",
      "  sentinel_statistic[rm][yeardate]['mean'] = np.nanmean(temp_list)\n",
      "/var/folders/3x/nl3jt7l14wn9gxs9xvkhh6qw0000gn/T/ipykernel_14971/2970500071.py:20: RuntimeWarning: Mean of empty slice\n",
      "  sentinel_statistic[rm][yeardate]['mean'] = np.nanmean(temp_list)\n",
      "/var/folders/3x/nl3jt7l14wn9gxs9xvkhh6qw0000gn/T/ipykernel_14971/2970500071.py:20: RuntimeWarning: Mean of empty slice\n",
      "  sentinel_statistic[rm][yeardate]['mean'] = np.nanmean(temp_list)\n",
      "/var/folders/3x/nl3jt7l14wn9gxs9xvkhh6qw0000gn/T/ipykernel_14971/2970500071.py:20: RuntimeWarning: Mean of empty slice\n",
      "  sentinel_statistic[rm][yeardate]['mean'] = np.nanmean(temp_list)\n",
      "/var/folders/3x/nl3jt7l14wn9gxs9xvkhh6qw0000gn/T/ipykernel_14971/2970500071.py:20: RuntimeWarning: Mean of empty slice\n",
      "  sentinel_statistic[rm][yeardate]['mean'] = np.nanmean(temp_list)\n",
      "/var/folders/3x/nl3jt7l14wn9gxs9xvkhh6qw0000gn/T/ipykernel_14971/2970500071.py:20: RuntimeWarning: Mean of empty slice\n",
      "  sentinel_statistic[rm][yeardate]['mean'] = np.nanmean(temp_list)\n",
      "/var/folders/3x/nl3jt7l14wn9gxs9xvkhh6qw0000gn/T/ipykernel_14971/2970500071.py:20: RuntimeWarning: Mean of empty slice\n",
      "  sentinel_statistic[rm][yeardate]['mean'] = np.nanmean(temp_list)\n",
      "/var/folders/3x/nl3jt7l14wn9gxs9xvkhh6qw0000gn/T/ipykernel_14971/2970500071.py:20: RuntimeWarning: Mean of empty slice\n",
      "  sentinel_statistic[rm][yeardate]['mean'] = np.nanmean(temp_list)\n",
      "/var/folders/3x/nl3jt7l14wn9gxs9xvkhh6qw0000gn/T/ipykernel_14971/2970500071.py:20: RuntimeWarning: Mean of empty slice\n",
      "  sentinel_statistic[rm][yeardate]['mean'] = np.nanmean(temp_list)\n",
      "/var/folders/3x/nl3jt7l14wn9gxs9xvkhh6qw0000gn/T/ipykernel_14971/2970500071.py:20: RuntimeWarning: Mean of empty slice\n",
      "  sentinel_statistic[rm][yeardate]['mean'] = np.nanmean(temp_list)\n",
      "/var/folders/3x/nl3jt7l14wn9gxs9xvkhh6qw0000gn/T/ipykernel_14971/2970500071.py:20: RuntimeWarning: Mean of empty slice\n",
      "  sentinel_statistic[rm][yeardate]['mean'] = np.nanmean(temp_list)\n",
      "/var/folders/3x/nl3jt7l14wn9gxs9xvkhh6qw0000gn/T/ipykernel_14971/2970500071.py:20: RuntimeWarning: Mean of empty slice\n",
      "  sentinel_statistic[rm][yeardate]['mean'] = np.nanmean(temp_list)\n",
      "/var/folders/3x/nl3jt7l14wn9gxs9xvkhh6qw0000gn/T/ipykernel_14971/2970500071.py:20: RuntimeWarning: Mean of empty slice\n",
      "  sentinel_statistic[rm][yeardate]['mean'] = np.nanmean(temp_list)\n",
      "/var/folders/3x/nl3jt7l14wn9gxs9xvkhh6qw0000gn/T/ipykernel_14971/2970500071.py:20: RuntimeWarning: Mean of empty slice\n",
      "  sentinel_statistic[rm][yeardate]['mean'] = np.nanmean(temp_list)\n",
      "/var/folders/3x/nl3jt7l14wn9gxs9xvkhh6qw0000gn/T/ipykernel_14971/2970500071.py:20: RuntimeWarning: Mean of empty slice\n",
      "  sentinel_statistic[rm][yeardate]['mean'] = np.nanmean(temp_list)\n",
      "/var/folders/3x/nl3jt7l14wn9gxs9xvkhh6qw0000gn/T/ipykernel_14971/2970500071.py:20: RuntimeWarning: Mean of empty slice\n",
      "  sentinel_statistic[rm][yeardate]['mean'] = np.nanmean(temp_list)\n",
      "/var/folders/3x/nl3jt7l14wn9gxs9xvkhh6qw0000gn/T/ipykernel_14971/2970500071.py:20: RuntimeWarning: Mean of empty slice\n",
      "  sentinel_statistic[rm][yeardate]['mean'] = np.nanmean(temp_list)\n",
      "/var/folders/3x/nl3jt7l14wn9gxs9xvkhh6qw0000gn/T/ipykernel_14971/2970500071.py:20: RuntimeWarning: Mean of empty slice\n",
      "  sentinel_statistic[rm][yeardate]['mean'] = np.nanmean(temp_list)\n",
      "/var/folders/3x/nl3jt7l14wn9gxs9xvkhh6qw0000gn/T/ipykernel_14971/2970500071.py:20: RuntimeWarning: Mean of empty slice\n",
      "  sentinel_statistic[rm][yeardate]['mean'] = np.nanmean(temp_list)\n",
      "/var/folders/3x/nl3jt7l14wn9gxs9xvkhh6qw0000gn/T/ipykernel_14971/2970500071.py:20: RuntimeWarning: Mean of empty slice\n",
      "  sentinel_statistic[rm][yeardate]['mean'] = np.nanmean(temp_list)\n",
      "/var/folders/3x/nl3jt7l14wn9gxs9xvkhh6qw0000gn/T/ipykernel_14971/2970500071.py:20: RuntimeWarning: Mean of empty slice\n",
      "  sentinel_statistic[rm][yeardate]['mean'] = np.nanmean(temp_list)\n",
      "/var/folders/3x/nl3jt7l14wn9gxs9xvkhh6qw0000gn/T/ipykernel_14971/2970500071.py:20: RuntimeWarning: Mean of empty slice\n",
      "  sentinel_statistic[rm][yeardate]['mean'] = np.nanmean(temp_list)\n",
      "/var/folders/3x/nl3jt7l14wn9gxs9xvkhh6qw0000gn/T/ipykernel_14971/2970500071.py:20: RuntimeWarning: Mean of empty slice\n",
      "  sentinel_statistic[rm][yeardate]['mean'] = np.nanmean(temp_list)\n",
      "/var/folders/3x/nl3jt7l14wn9gxs9xvkhh6qw0000gn/T/ipykernel_14971/2970500071.py:20: RuntimeWarning: Mean of empty slice\n",
      "  sentinel_statistic[rm][yeardate]['mean'] = np.nanmean(temp_list)\n",
      "/var/folders/3x/nl3jt7l14wn9gxs9xvkhh6qw0000gn/T/ipykernel_14971/2970500071.py:20: RuntimeWarning: Mean of empty slice\n",
      "  sentinel_statistic[rm][yeardate]['mean'] = np.nanmean(temp_list)\n",
      "/var/folders/3x/nl3jt7l14wn9gxs9xvkhh6qw0000gn/T/ipykernel_14971/2970500071.py:20: RuntimeWarning: Mean of empty slice\n",
      "  sentinel_statistic[rm][yeardate]['mean'] = np.nanmean(temp_list)\n",
      "/var/folders/3x/nl3jt7l14wn9gxs9xvkhh6qw0000gn/T/ipykernel_14971/2970500071.py:20: RuntimeWarning: Mean of empty slice\n",
      "  sentinel_statistic[rm][yeardate]['mean'] = np.nanmean(temp_list)\n",
      "/var/folders/3x/nl3jt7l14wn9gxs9xvkhh6qw0000gn/T/ipykernel_14971/2970500071.py:20: RuntimeWarning: Mean of empty slice\n",
      "  sentinel_statistic[rm][yeardate]['mean'] = np.nanmean(temp_list)\n"
     ]
    }
   ],
   "source": [
    "retrack_method = ['OCES','OCEP','OGS','ISS','ICES','ICEP','SICS']\n",
    "date_list = ['20220811','20220907','20221004','20221031','20221127','20230216','20230315']\n",
    "sentinel = {}\n",
    "sentinel_statistic = {}\n",
    "for rm in retrack_method:\n",
    "    sentinel[rm] = {}\n",
    "    sentinel_statistic[rm] = {}\n",
    "    for yeardate in date_list:\n",
    "        sentinel_statistic[rm][yeardate] = {}\n",
    "        sentinel[rm][yeardate] = np.asarray(list(imoda.get_sentinel_data(yeardate,rm).values()))\n",
    "        dk = yeardate[4:]\n",
    "        count = 0\n",
    "        count2 = 0\n",
    "        temp_list = []\n",
    "        for item in sentinel[rm][yeardate]:\n",
    "            count2+=1\n",
    "            if item<mean_dict[dk]+3*std_dict[dk] and item>mean_dict[dk]-3*std_dict[dk]:\n",
    "                count+=1\n",
    "                temp_list.append(item)\n",
    "        sentinel_statistic[rm][yeardate]['mean'] = np.nanmean(temp_list)\n",
    "        sentinel_statistic[rm][yeardate]['count'] = count\n",
    "        sentinel_statistic[rm][yeardate]['count2'] = count2\n",
    "    \n",
    "        \n",
    "    "
   ]
  },
  {
   "cell_type": "code",
   "execution_count": 26,
   "metadata": {},
   "outputs": [
    {
     "data": {
      "text/plain": [
       "{'OCES': {'20220811': {'mean': 284.80539999995403, 'count': 2, 'count2': 3},\n",
       "  '20220907': {'mean': nan, 'count': 0, 'count2': 5},\n",
       "  '20221004': {'mean': nan, 'count': 0, 'count2': 4},\n",
       "  '20221031': {'mean': 284.833649999986, 'count': 2, 'count2': 5},\n",
       "  '20221127': {'mean': 284.8497666666513, 'count': 3, 'count2': 4},\n",
       "  '20230216': {'mean': nan, 'count': 0, 'count2': 0},\n",
       "  '20230315': {'mean': 284.9304999999, 'count': 1, 'count2': 1}},\n",
       " 'OCEP': {'20220811': {'mean': nan, 'count': 0, 'count2': 3},\n",
       "  '20220907': {'mean': nan, 'count': 0, 'count2': 5},\n",
       "  '20221004': {'mean': nan, 'count': 0, 'count2': 4},\n",
       "  '20221031': {'mean': nan, 'count': 0, 'count2': 5},\n",
       "  '20221127': {'mean': nan, 'count': 0, 'count2': 4},\n",
       "  '20230216': {'mean': nan, 'count': 0, 'count2': 0},\n",
       "  '20230315': {'mean': nan, 'count': 0, 'count2': 1}},\n",
       " 'OGS': {'20220811': {'mean': 284.598249999981, 'count': 2, 'count2': 3},\n",
       "  '20220907': {'mean': nan, 'count': 0, 'count2': 5},\n",
       "  '20221004': {'mean': 284.645399999921, 'count': 1, 'count2': 4},\n",
       "  '20221031': {'mean': 284.71373333335697, 'count': 3, 'count2': 5},\n",
       "  '20221127': {'mean': 284.7524249999845, 'count': 4, 'count2': 4},\n",
       "  '20230216': {'mean': nan, 'count': 0, 'count2': 0},\n",
       "  '20230315': {'mean': 284.643699999899, 'count': 1, 'count2': 1}},\n",
       " 'ISS': {'20220811': {'mean': nan, 'count': 0, 'count2': 3},\n",
       "  '20220907': {'mean': nan, 'count': 0, 'count2': 5},\n",
       "  '20221004': {'mean': nan, 'count': 0, 'count2': 4},\n",
       "  '20221031': {'mean': nan, 'count': 0, 'count2': 5},\n",
       "  '20221127': {'mean': 284.94179999997095, 'count': 2, 'count2': 4},\n",
       "  '20230216': {'mean': nan, 'count': 0, 'count2': 0},\n",
       "  '20230315': {'mean': nan, 'count': 0, 'count2': 1}},\n",
       " 'ICES': {'20220811': {'mean': nan, 'count': 0, 'count2': 3},\n",
       "  '20220907': {'mean': nan, 'count': 0, 'count2': 5},\n",
       "  '20221004': {'mean': nan, 'count': 0, 'count2': 4},\n",
       "  '20221031': {'mean': nan, 'count': 0, 'count2': 5},\n",
       "  '20221127': {'mean': nan, 'count': 0, 'count2': 4},\n",
       "  '20230216': {'mean': nan, 'count': 0, 'count2': 0},\n",
       "  '20230315': {'mean': nan, 'count': 0, 'count2': 1}},\n",
       " 'ICEP': {'20220811': {'mean': 284.70193333333964, 'count': 3, 'count2': 3},\n",
       "  '20220907': {'mean': nan, 'count': 0, 'count2': 5},\n",
       "  '20221004': {'mean': nan, 'count': 0, 'count2': 4},\n",
       "  '20221031': {'mean': nan, 'count': 0, 'count2': 5},\n",
       "  '20221127': {'mean': 284.65259999997204, 'count': 2, 'count2': 4},\n",
       "  '20230216': {'mean': nan, 'count': 0, 'count2': 0},\n",
       "  '20230315': {'mean': 284.750199999893, 'count': 1, 'count2': 1}},\n",
       " 'SICS': {'20220811': {'mean': 284.876849999942, 'count': 2, 'count2': 3},\n",
       "  '20220907': {'mean': nan, 'count': 0, 'count2': 5},\n",
       "  '20221004': {'mean': nan, 'count': 0, 'count2': 4},\n",
       "  '20221031': {'mean': 284.941300000064, 'count': 1, 'count2': 5},\n",
       "  '20221127': {'mean': 284.9868499999865, 'count': 2, 'count2': 4},\n",
       "  '20230216': {'mean': nan, 'count': 0, 'count2': 0},\n",
       "  '20230315': {'mean': 284.944999999949, 'count': 1, 'count2': 1}}}"
      ]
     },
     "execution_count": 26,
     "metadata": {},
     "output_type": "execute_result"
    }
   ],
   "source": [
    "sentinel_statistic"
   ]
  }
 ],
 "metadata": {
  "kernelspec": {
   "display_name": "gnss_ir",
   "language": "python",
   "name": "python3"
  },
  "language_info": {
   "codemirror_mode": {
    "name": "ipython",
    "version": 3
   },
   "file_extension": ".py",
   "mimetype": "text/x-python",
   "name": "python",
   "nbconvert_exporter": "python",
   "pygments_lexer": "ipython3",
   "version": "3.9.16"
  },
  "orig_nbformat": 4,
  "vscode": {
   "interpreter": {
    "hash": "899cbdd3e6d213a089c367d62ece5cdfd458181ffdb9574f74f7a7425a23b7e4"
   }
  }
 },
 "nbformat": 4,
 "nbformat_minor": 2
}
