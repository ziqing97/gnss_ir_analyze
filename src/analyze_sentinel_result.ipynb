{
 "cells": [
  {
   "cell_type": "code",
   "execution_count": 13,
   "metadata": {},
   "outputs": [],
   "source": [
    "import pickle\n",
    "import numpy as np\n",
    "import pandas as pd\n",
    "import lib_import_other_datasource as imoda\n"
   ]
  },
  {
   "cell_type": "code",
   "execution_count": 21,
   "metadata": {},
   "outputs": [
    {
     "name": "stderr",
     "output_type": "stream",
     "text": [
      "/Users/yuziqing/Library/CloudStorage/OneDrive-个人/Studium/MA/gnss_ir_analyze/src/lib_import_other_datasource.py:29: FutureWarning: Calling float on a single element Series is deprecated and will raise a TypeError in the future. Use float(ser.iloc[0]) instead\n",
      "  ante_h['2'] = float(index['antenne2'])+0.2\n",
      "/Users/yuziqing/Library/CloudStorage/OneDrive-个人/Studium/MA/gnss_ir_analyze/src/lib_import_other_datasource.py:30: FutureWarning: Calling float on a single element Series is deprecated and will raise a TypeError in the future. Use float(ser.iloc[0]) instead\n",
      "  ante_h['3'] = float(index['antenne3'])+0.2\n",
      "/Users/yuziqing/Library/CloudStorage/OneDrive-个人/Studium/MA/gnss_ir_analyze/src/lib_import_other_datasource.py:29: FutureWarning: Calling float on a single element Series is deprecated and will raise a TypeError in the future. Use float(ser.iloc[0]) instead\n",
      "  ante_h['2'] = float(index['antenne2'])+0.2\n",
      "/Users/yuziqing/Library/CloudStorage/OneDrive-个人/Studium/MA/gnss_ir_analyze/src/lib_import_other_datasource.py:30: FutureWarning: Calling float on a single element Series is deprecated and will raise a TypeError in the future. Use float(ser.iloc[0]) instead\n",
      "  ante_h['3'] = float(index['antenne3'])+0.2\n",
      "/Users/yuziqing/Library/CloudStorage/OneDrive-个人/Studium/MA/gnss_ir_analyze/src/lib_import_other_datasource.py:29: FutureWarning: Calling float on a single element Series is deprecated and will raise a TypeError in the future. Use float(ser.iloc[0]) instead\n",
      "  ante_h['2'] = float(index['antenne2'])+0.2\n",
      "/Users/yuziqing/Library/CloudStorage/OneDrive-个人/Studium/MA/gnss_ir_analyze/src/lib_import_other_datasource.py:30: FutureWarning: Calling float on a single element Series is deprecated and will raise a TypeError in the future. Use float(ser.iloc[0]) instead\n",
      "  ante_h['3'] = float(index['antenne3'])+0.2\n",
      "/Users/yuziqing/Library/CloudStorage/OneDrive-个人/Studium/MA/gnss_ir_analyze/src/lib_import_other_datasource.py:29: FutureWarning: Calling float on a single element Series is deprecated and will raise a TypeError in the future. Use float(ser.iloc[0]) instead\n",
      "  ante_h['2'] = float(index['antenne2'])+0.2\n",
      "/Users/yuziqing/Library/CloudStorage/OneDrive-个人/Studium/MA/gnss_ir_analyze/src/lib_import_other_datasource.py:30: FutureWarning: Calling float on a single element Series is deprecated and will raise a TypeError in the future. Use float(ser.iloc[0]) instead\n",
      "  ante_h['3'] = float(index['antenne3'])+0.2\n",
      "/Users/yuziqing/Library/CloudStorage/OneDrive-个人/Studium/MA/gnss_ir_analyze/src/lib_import_other_datasource.py:29: FutureWarning: Calling float on a single element Series is deprecated and will raise a TypeError in the future. Use float(ser.iloc[0]) instead\n",
      "  ante_h['2'] = float(index['antenne2'])+0.2\n",
      "/Users/yuziqing/Library/CloudStorage/OneDrive-个人/Studium/MA/gnss_ir_analyze/src/lib_import_other_datasource.py:30: FutureWarning: Calling float on a single element Series is deprecated and will raise a TypeError in the future. Use float(ser.iloc[0]) instead\n",
      "  ante_h['3'] = float(index['antenne3'])+0.2\n",
      "/Users/yuziqing/Library/CloudStorage/OneDrive-个人/Studium/MA/gnss_ir_analyze/src/lib_import_other_datasource.py:22: FutureWarning: Calling float on a single element Series is deprecated and will raise a TypeError in the future. Use float(ser.iloc[0]) instead\n",
      "  ante_h['1'] = float(index['antenne1'])\n",
      "/Users/yuziqing/Library/CloudStorage/OneDrive-个人/Studium/MA/gnss_ir_analyze/src/lib_import_other_datasource.py:23: FutureWarning: Calling float on a single element Series is deprecated and will raise a TypeError in the future. Use float(ser.iloc[0]) instead\n",
      "  ante_h['2'] = float(index['antenne2'])+0.2\n",
      "/Users/yuziqing/Library/CloudStorage/OneDrive-个人/Studium/MA/gnss_ir_analyze/src/lib_import_other_datasource.py:24: FutureWarning: Calling float on a single element Series is deprecated and will raise a TypeError in the future. Use float(ser.iloc[0]) instead\n",
      "  ante_h['2r'] = float(index['antenne2r'])\n"
     ]
    }
   ],
   "source": [
    "with open('../data/generated_data/kapitel4/timeseries/timeseries_ele5_50_azi265_340_time30_all.pkl', 'rb') as f:\n",
    "    ts_dict = pickle.load(f)\n",
    "\n",
    "key_list = ['0811_2','0811_3',\n",
    "            '0907_2','0907_3',\n",
    "            '1004_2','1004_3',\n",
    "            '1031_2','1031_3',\n",
    "            '1127_2','1127_3',\n",
    "            '0216_1','0216_2']\n",
    "\n",
    "retrack_method = 'OCES'\n",
    "mean_dict = {}\n",
    "std_dict = {}\n",
    "for i,dk in enumerate(key_list):\n",
    "    date = dk[0:4]\n",
    "    ant = dk[-1]\n",
    "    if i%2 == 0:\n",
    "        ts = list(ts_dict['ts'][dk].values())\n",
    "    else:\n",
    "        ts = list(ts_dict['ts'][dk].values()) + ts\n",
    "        ante_h = imoda.get_antenne_height(date)[ant]\n",
    "        h_mean = ante_h-np.nanmean(ts)\n",
    "        h_std = np.nanstd(ts)\n",
    "        mean_dict[date] = h_mean\n",
    "        std_dict[date] = h_std"
   ]
  },
  {
   "cell_type": "code",
   "execution_count": 23,
   "metadata": {},
   "outputs": [
    {
     "data": {
      "text/plain": [
       "{'0811': 0.1927071715841037,\n",
       " '0907': 0.1446015259617936,\n",
       " '1004': 0.09947397691716105,\n",
       " '1031': 0.1535453653828928,\n",
       " '1127': 0.18248875917182208,\n",
       " '0216': 0.15508964355263186}"
      ]
     },
     "execution_count": 23,
     "metadata": {},
     "output_type": "execute_result"
    }
   ],
   "source": [
    "std_dict"
   ]
  },
  {
   "cell_type": "code",
   "execution_count": 33,
   "metadata": {},
   "outputs": [
    {
     "name": "stderr",
     "output_type": "stream",
     "text": [
      "/Users/yuziqing/anaconda3/envs/gnss_ir/lib/python3.9/site-packages/numpy/core/fromnumeric.py:3464: RuntimeWarning: Mean of empty slice.\n",
      "  return _methods._mean(a, axis=axis, dtype=dtype,\n",
      "/Users/yuziqing/anaconda3/envs/gnss_ir/lib/python3.9/site-packages/numpy/core/_methods.py:192: RuntimeWarning: invalid value encountered in scalar divide\n",
      "  ret = ret.dtype.type(ret / rcount)\n",
      "/Users/yuziqing/anaconda3/envs/gnss_ir/lib/python3.9/site-packages/numpy/core/fromnumeric.py:3464: RuntimeWarning: Mean of empty slice.\n",
      "  return _methods._mean(a, axis=axis, dtype=dtype,\n",
      "/Users/yuziqing/anaconda3/envs/gnss_ir/lib/python3.9/site-packages/numpy/core/_methods.py:192: RuntimeWarning: invalid value encountered in scalar divide\n",
      "  ret = ret.dtype.type(ret / rcount)\n",
      "/Users/yuziqing/anaconda3/envs/gnss_ir/lib/python3.9/site-packages/numpy/core/fromnumeric.py:3464: RuntimeWarning: Mean of empty slice.\n",
      "  return _methods._mean(a, axis=axis, dtype=dtype,\n",
      "/Users/yuziqing/anaconda3/envs/gnss_ir/lib/python3.9/site-packages/numpy/core/_methods.py:192: RuntimeWarning: invalid value encountered in scalar divide\n",
      "  ret = ret.dtype.type(ret / rcount)\n",
      "/Users/yuziqing/anaconda3/envs/gnss_ir/lib/python3.9/site-packages/numpy/core/fromnumeric.py:3464: RuntimeWarning: Mean of empty slice.\n",
      "  return _methods._mean(a, axis=axis, dtype=dtype,\n",
      "/Users/yuziqing/anaconda3/envs/gnss_ir/lib/python3.9/site-packages/numpy/core/_methods.py:192: RuntimeWarning: invalid value encountered in scalar divide\n",
      "  ret = ret.dtype.type(ret / rcount)\n",
      "/Users/yuziqing/anaconda3/envs/gnss_ir/lib/python3.9/site-packages/numpy/core/fromnumeric.py:3464: RuntimeWarning: Mean of empty slice.\n",
      "  return _methods._mean(a, axis=axis, dtype=dtype,\n",
      "/Users/yuziqing/anaconda3/envs/gnss_ir/lib/python3.9/site-packages/numpy/core/_methods.py:192: RuntimeWarning: invalid value encountered in scalar divide\n",
      "  ret = ret.dtype.type(ret / rcount)\n",
      "/Users/yuziqing/anaconda3/envs/gnss_ir/lib/python3.9/site-packages/numpy/core/fromnumeric.py:3464: RuntimeWarning: Mean of empty slice.\n",
      "  return _methods._mean(a, axis=axis, dtype=dtype,\n",
      "/Users/yuziqing/anaconda3/envs/gnss_ir/lib/python3.9/site-packages/numpy/core/_methods.py:192: RuntimeWarning: invalid value encountered in scalar divide\n",
      "  ret = ret.dtype.type(ret / rcount)\n",
      "/Users/yuziqing/anaconda3/envs/gnss_ir/lib/python3.9/site-packages/numpy/core/fromnumeric.py:3464: RuntimeWarning: Mean of empty slice.\n",
      "  return _methods._mean(a, axis=axis, dtype=dtype,\n",
      "/Users/yuziqing/anaconda3/envs/gnss_ir/lib/python3.9/site-packages/numpy/core/_methods.py:192: RuntimeWarning: invalid value encountered in scalar divide\n",
      "  ret = ret.dtype.type(ret / rcount)\n",
      "/Users/yuziqing/anaconda3/envs/gnss_ir/lib/python3.9/site-packages/numpy/core/fromnumeric.py:3464: RuntimeWarning: Mean of empty slice.\n",
      "  return _methods._mean(a, axis=axis, dtype=dtype,\n",
      "/Users/yuziqing/anaconda3/envs/gnss_ir/lib/python3.9/site-packages/numpy/core/_methods.py:192: RuntimeWarning: invalid value encountered in scalar divide\n",
      "  ret = ret.dtype.type(ret / rcount)\n",
      "/Users/yuziqing/anaconda3/envs/gnss_ir/lib/python3.9/site-packages/numpy/core/fromnumeric.py:3464: RuntimeWarning: Mean of empty slice.\n",
      "  return _methods._mean(a, axis=axis, dtype=dtype,\n",
      "/Users/yuziqing/anaconda3/envs/gnss_ir/lib/python3.9/site-packages/numpy/core/_methods.py:192: RuntimeWarning: invalid value encountered in scalar divide\n",
      "  ret = ret.dtype.type(ret / rcount)\n",
      "/Users/yuziqing/anaconda3/envs/gnss_ir/lib/python3.9/site-packages/numpy/core/fromnumeric.py:3464: RuntimeWarning: Mean of empty slice.\n",
      "  return _methods._mean(a, axis=axis, dtype=dtype,\n",
      "/Users/yuziqing/anaconda3/envs/gnss_ir/lib/python3.9/site-packages/numpy/core/_methods.py:192: RuntimeWarning: invalid value encountered in scalar divide\n",
      "  ret = ret.dtype.type(ret / rcount)\n",
      "/Users/yuziqing/anaconda3/envs/gnss_ir/lib/python3.9/site-packages/numpy/core/fromnumeric.py:3464: RuntimeWarning: Mean of empty slice.\n",
      "  return _methods._mean(a, axis=axis, dtype=dtype,\n",
      "/Users/yuziqing/anaconda3/envs/gnss_ir/lib/python3.9/site-packages/numpy/core/_methods.py:192: RuntimeWarning: invalid value encountered in scalar divide\n",
      "  ret = ret.dtype.type(ret / rcount)\n",
      "/Users/yuziqing/anaconda3/envs/gnss_ir/lib/python3.9/site-packages/numpy/core/fromnumeric.py:3464: RuntimeWarning: Mean of empty slice.\n",
      "  return _methods._mean(a, axis=axis, dtype=dtype,\n",
      "/Users/yuziqing/anaconda3/envs/gnss_ir/lib/python3.9/site-packages/numpy/core/_methods.py:192: RuntimeWarning: invalid value encountered in scalar divide\n",
      "  ret = ret.dtype.type(ret / rcount)\n",
      "/Users/yuziqing/anaconda3/envs/gnss_ir/lib/python3.9/site-packages/numpy/core/fromnumeric.py:3464: RuntimeWarning: Mean of empty slice.\n",
      "  return _methods._mean(a, axis=axis, dtype=dtype,\n",
      "/Users/yuziqing/anaconda3/envs/gnss_ir/lib/python3.9/site-packages/numpy/core/_methods.py:192: RuntimeWarning: invalid value encountered in scalar divide\n",
      "  ret = ret.dtype.type(ret / rcount)\n",
      "/Users/yuziqing/anaconda3/envs/gnss_ir/lib/python3.9/site-packages/numpy/core/fromnumeric.py:3464: RuntimeWarning: Mean of empty slice.\n",
      "  return _methods._mean(a, axis=axis, dtype=dtype,\n",
      "/Users/yuziqing/anaconda3/envs/gnss_ir/lib/python3.9/site-packages/numpy/core/_methods.py:192: RuntimeWarning: invalid value encountered in scalar divide\n",
      "  ret = ret.dtype.type(ret / rcount)\n",
      "/Users/yuziqing/anaconda3/envs/gnss_ir/lib/python3.9/site-packages/numpy/core/fromnumeric.py:3464: RuntimeWarning: Mean of empty slice.\n",
      "  return _methods._mean(a, axis=axis, dtype=dtype,\n",
      "/Users/yuziqing/anaconda3/envs/gnss_ir/lib/python3.9/site-packages/numpy/core/_methods.py:192: RuntimeWarning: invalid value encountered in scalar divide\n",
      "  ret = ret.dtype.type(ret / rcount)\n",
      "/Users/yuziqing/anaconda3/envs/gnss_ir/lib/python3.9/site-packages/numpy/core/fromnumeric.py:3464: RuntimeWarning: Mean of empty slice.\n",
      "  return _methods._mean(a, axis=axis, dtype=dtype,\n",
      "/Users/yuziqing/anaconda3/envs/gnss_ir/lib/python3.9/site-packages/numpy/core/_methods.py:192: RuntimeWarning: invalid value encountered in scalar divide\n",
      "  ret = ret.dtype.type(ret / rcount)\n",
      "/Users/yuziqing/anaconda3/envs/gnss_ir/lib/python3.9/site-packages/numpy/core/fromnumeric.py:3464: RuntimeWarning: Mean of empty slice.\n",
      "  return _methods._mean(a, axis=axis, dtype=dtype,\n",
      "/Users/yuziqing/anaconda3/envs/gnss_ir/lib/python3.9/site-packages/numpy/core/_methods.py:192: RuntimeWarning: invalid value encountered in scalar divide\n",
      "  ret = ret.dtype.type(ret / rcount)\n",
      "/Users/yuziqing/anaconda3/envs/gnss_ir/lib/python3.9/site-packages/numpy/core/fromnumeric.py:3464: RuntimeWarning: Mean of empty slice.\n",
      "  return _methods._mean(a, axis=axis, dtype=dtype,\n",
      "/Users/yuziqing/anaconda3/envs/gnss_ir/lib/python3.9/site-packages/numpy/core/_methods.py:192: RuntimeWarning: invalid value encountered in scalar divide\n",
      "  ret = ret.dtype.type(ret / rcount)\n",
      "/Users/yuziqing/anaconda3/envs/gnss_ir/lib/python3.9/site-packages/numpy/core/fromnumeric.py:3464: RuntimeWarning: Mean of empty slice.\n",
      "  return _methods._mean(a, axis=axis, dtype=dtype,\n",
      "/Users/yuziqing/anaconda3/envs/gnss_ir/lib/python3.9/site-packages/numpy/core/_methods.py:192: RuntimeWarning: invalid value encountered in scalar divide\n",
      "  ret = ret.dtype.type(ret / rcount)\n",
      "/Users/yuziqing/anaconda3/envs/gnss_ir/lib/python3.9/site-packages/numpy/core/fromnumeric.py:3464: RuntimeWarning: Mean of empty slice.\n",
      "  return _methods._mean(a, axis=axis, dtype=dtype,\n",
      "/Users/yuziqing/anaconda3/envs/gnss_ir/lib/python3.9/site-packages/numpy/core/_methods.py:192: RuntimeWarning: invalid value encountered in scalar divide\n",
      "  ret = ret.dtype.type(ret / rcount)\n",
      "/Users/yuziqing/anaconda3/envs/gnss_ir/lib/python3.9/site-packages/numpy/core/fromnumeric.py:3464: RuntimeWarning: Mean of empty slice.\n",
      "  return _methods._mean(a, axis=axis, dtype=dtype,\n",
      "/Users/yuziqing/anaconda3/envs/gnss_ir/lib/python3.9/site-packages/numpy/core/_methods.py:192: RuntimeWarning: invalid value encountered in scalar divide\n",
      "  ret = ret.dtype.type(ret / rcount)\n",
      "/Users/yuziqing/anaconda3/envs/gnss_ir/lib/python3.9/site-packages/numpy/core/fromnumeric.py:3464: RuntimeWarning: Mean of empty slice.\n",
      "  return _methods._mean(a, axis=axis, dtype=dtype,\n",
      "/Users/yuziqing/anaconda3/envs/gnss_ir/lib/python3.9/site-packages/numpy/core/_methods.py:192: RuntimeWarning: invalid value encountered in scalar divide\n",
      "  ret = ret.dtype.type(ret / rcount)\n",
      "/Users/yuziqing/anaconda3/envs/gnss_ir/lib/python3.9/site-packages/numpy/core/fromnumeric.py:3464: RuntimeWarning: Mean of empty slice.\n",
      "  return _methods._mean(a, axis=axis, dtype=dtype,\n",
      "/Users/yuziqing/anaconda3/envs/gnss_ir/lib/python3.9/site-packages/numpy/core/_methods.py:192: RuntimeWarning: invalid value encountered in scalar divide\n",
      "  ret = ret.dtype.type(ret / rcount)\n",
      "/Users/yuziqing/anaconda3/envs/gnss_ir/lib/python3.9/site-packages/numpy/core/fromnumeric.py:3464: RuntimeWarning: Mean of empty slice.\n",
      "  return _methods._mean(a, axis=axis, dtype=dtype,\n",
      "/Users/yuziqing/anaconda3/envs/gnss_ir/lib/python3.9/site-packages/numpy/core/_methods.py:192: RuntimeWarning: invalid value encountered in scalar divide\n",
      "  ret = ret.dtype.type(ret / rcount)\n",
      "/Users/yuziqing/anaconda3/envs/gnss_ir/lib/python3.9/site-packages/numpy/core/fromnumeric.py:3464: RuntimeWarning: Mean of empty slice.\n",
      "  return _methods._mean(a, axis=axis, dtype=dtype,\n",
      "/Users/yuziqing/anaconda3/envs/gnss_ir/lib/python3.9/site-packages/numpy/core/_methods.py:192: RuntimeWarning: invalid value encountered in scalar divide\n",
      "  ret = ret.dtype.type(ret / rcount)\n",
      "/Users/yuziqing/anaconda3/envs/gnss_ir/lib/python3.9/site-packages/numpy/core/fromnumeric.py:3464: RuntimeWarning: Mean of empty slice.\n",
      "  return _methods._mean(a, axis=axis, dtype=dtype,\n",
      "/Users/yuziqing/anaconda3/envs/gnss_ir/lib/python3.9/site-packages/numpy/core/_methods.py:192: RuntimeWarning: invalid value encountered in scalar divide\n",
      "  ret = ret.dtype.type(ret / rcount)\n",
      "/Users/yuziqing/anaconda3/envs/gnss_ir/lib/python3.9/site-packages/numpy/core/fromnumeric.py:3464: RuntimeWarning: Mean of empty slice.\n",
      "  return _methods._mean(a, axis=axis, dtype=dtype,\n",
      "/Users/yuziqing/anaconda3/envs/gnss_ir/lib/python3.9/site-packages/numpy/core/_methods.py:192: RuntimeWarning: invalid value encountered in scalar divide\n",
      "  ret = ret.dtype.type(ret / rcount)\n",
      "/Users/yuziqing/anaconda3/envs/gnss_ir/lib/python3.9/site-packages/numpy/core/fromnumeric.py:3464: RuntimeWarning: Mean of empty slice.\n",
      "  return _methods._mean(a, axis=axis, dtype=dtype,\n",
      "/Users/yuziqing/anaconda3/envs/gnss_ir/lib/python3.9/site-packages/numpy/core/_methods.py:192: RuntimeWarning: invalid value encountered in scalar divide\n",
      "  ret = ret.dtype.type(ret / rcount)\n",
      "/Users/yuziqing/anaconda3/envs/gnss_ir/lib/python3.9/site-packages/numpy/core/fromnumeric.py:3464: RuntimeWarning: Mean of empty slice.\n",
      "  return _methods._mean(a, axis=axis, dtype=dtype,\n",
      "/Users/yuziqing/anaconda3/envs/gnss_ir/lib/python3.9/site-packages/numpy/core/_methods.py:192: RuntimeWarning: invalid value encountered in scalar divide\n",
      "  ret = ret.dtype.type(ret / rcount)\n"
     ]
    }
   ],
   "source": [
    "retrack_method = ['OCES','OCEP','OGS','ISS','ICES','ICEP','SICS']\n",
    "date_list = ['20220811','20220907','20221004','20221031','20221127','20230216']\n",
    "sentinel = {}\n",
    "sentinel_statistic = {}\n",
    "for rm in retrack_method:\n",
    "    sentinel[rm] = {}\n",
    "    sentinel_statistic[rm] = {}\n",
    "    for yeardate in date_list:\n",
    "        sentinel_statistic[rm][yeardate] = {}\n",
    "        sentinel[rm][yeardate] = np.asarray(list(imoda.get_sentinel_data(yeardate,rm).values()))\n",
    "        dk = yeardate[4:]\n",
    "        count = 0\n",
    "        temp_list = []\n",
    "        for item in sentinel[rm][yeardate]:\n",
    "            if item<mean_dict[dk]+3*std_dict[dk] and item>mean_dict[dk]-3*std_dict[dk]:\n",
    "                count+=1\n",
    "                temp_list.append(item)\n",
    "        sentinel_statistic[rm][yeardate]['mean'] = np.mean(temp_list)\n",
    "        sentinel_statistic[rm][yeardate]['count'] = count\n",
    "        \n",
    "    "
   ]
  },
  {
   "cell_type": "code",
   "execution_count": 32,
   "metadata": {},
   "outputs": [
    {
     "data": {
      "text/plain": [
       "{'OCES': {'20220811': {'mean': 284.737199999974, 'count': 1},\n",
       "  '20220907': {'mean': nan, 'count': 0},\n",
       "  '20221004': {'mean': nan, 'count': 0},\n",
       "  '20221031': {'mean': nan, 'count': 0},\n",
       "  '20221127': {'mean': 284.718800000031, 'count': 1},\n",
       "  '20230216': {'mean': nan, 'count': 0}},\n",
       " 'OCEP': {'20220811': {'mean': nan, 'count': 0},\n",
       "  '20220907': {'mean': nan, 'count': 0},\n",
       "  '20221004': {'mean': nan, 'count': 0},\n",
       "  '20221031': {'mean': nan, 'count': 0},\n",
       "  '20221127': {'mean': nan, 'count': 0},\n",
       "  '20230216': {'mean': nan, 'count': 0}},\n",
       " 'OGS': {'20220811': {'mean': 284.598249999981, 'count': 2},\n",
       "  '20220907': {'mean': nan, 'count': 0},\n",
       "  '20221004': {'mean': nan, 'count': 0},\n",
       "  '20221031': {'mean': 284.594000000041, 'count': 1},\n",
       "  '20221127': {'mean': 284.6486499999885, 'count': 2},\n",
       "  '20230216': {'mean': nan, 'count': 0}},\n",
       " 'ISS': {'20220811': {'mean': nan, 'count': 0},\n",
       "  '20220907': {'mean': nan, 'count': 0},\n",
       "  '20221004': {'mean': nan, 'count': 0},\n",
       "  '20221031': {'mean': nan, 'count': 0},\n",
       "  '20221127': {'mean': nan, 'count': 0},\n",
       "  '20230216': {'mean': nan, 'count': 0}},\n",
       " 'ICES': {'20220811': {'mean': nan, 'count': 0},\n",
       "  '20220907': {'mean': nan, 'count': 0},\n",
       "  '20221004': {'mean': nan, 'count': 0},\n",
       "  '20221031': {'mean': nan, 'count': 0},\n",
       "  '20221127': {'mean': nan, 'count': 0},\n",
       "  '20230216': {'mean': nan, 'count': 0}},\n",
       " 'ICEP': {'20220811': {'mean': 284.58460000006, 'count': 2},\n",
       "  '20220907': {'mean': nan, 'count': 0},\n",
       "  '20221004': {'mean': nan, 'count': 0},\n",
       "  '20221031': {'mean': nan, 'count': 0},\n",
       "  '20221127': {'mean': nan, 'count': 0},\n",
       "  '20230216': {'mean': nan, 'count': 0}},\n",
       " 'SICS': {'20220811': {'mean': nan, 'count': 0},\n",
       "  '20220907': {'mean': nan, 'count': 0},\n",
       "  '20221004': {'mean': nan, 'count': 0},\n",
       "  '20221031': {'mean': nan, 'count': 0},\n",
       "  '20221127': {'mean': nan, 'count': 0},\n",
       "  '20230216': {'mean': nan, 'count': 0}}}"
      ]
     },
     "execution_count": 32,
     "metadata": {},
     "output_type": "execute_result"
    }
   ],
   "source": [
    "sentinel_statistic"
   ]
  },
  {
   "cell_type": "code",
   "execution_count": 26,
   "metadata": {},
   "outputs": [
    {
     "data": {
      "text/plain": [
       "array([284.945])"
      ]
     },
     "execution_count": 26,
     "metadata": {},
     "output_type": "execute_result"
    }
   ],
   "source": [
    "sentinel[rm][date]"
   ]
  }
 ],
 "metadata": {
  "kernelspec": {
   "display_name": "gnss_ir",
   "language": "python",
   "name": "python3"
  },
  "language_info": {
   "codemirror_mode": {
    "name": "ipython",
    "version": 3
   },
   "file_extension": ".py",
   "mimetype": "text/x-python",
   "name": "python",
   "nbconvert_exporter": "python",
   "pygments_lexer": "ipython3",
   "version": "3.9.16"
  },
  "orig_nbformat": 4,
  "vscode": {
   "interpreter": {
    "hash": "899cbdd3e6d213a089c367d62ece5cdfd458181ffdb9574f74f7a7425a23b7e4"
   }
  }
 },
 "nbformat": 4,
 "nbformat_minor": 2
}
