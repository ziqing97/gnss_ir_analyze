{
 "cells": [
  {
   "cell_type": "code",
   "execution_count": 17,
   "metadata": {},
   "outputs": [],
   "source": [
    "import numpy as np\n",
    "import lib_import_other_datasource as imoda\n"
   ]
  },
  {
   "cell_type": "code",
   "execution_count": 25,
   "metadata": {},
   "outputs": [],
   "source": [
    "retrack_method = ['OCES','OCEP','OGS','ISS','ICES','ICEP','SICS']\n",
    "date_list = ['0811','0907','1004','1031','1127']\n",
    "gauge = []\n",
    "sentinel_best = {'OCES':[],'OCEP':[],'OGS':[],'ISS':[],'ICES':[],'ICEP':[],'SICS':[]}\n",
    "sentinel_mean = {'OCES':[],'OCEP':[],'OGS':[],'ISS':[],'ICES':[],'ICEP':[],'SICS':[]}"
   ]
  },
  {
   "cell_type": "code",
   "execution_count": 34,
   "metadata": {},
   "outputs": [],
   "source": [
    "date_key = '1031'\n",
    "i = 0\n",
    "for item in retrack_method:\n",
    "    item = 'ISS'\n",
    "    # from gauge\n",
    "    ts_gauge = imoda.get_gauge_data(date_key)\n",
    "    gauge_truth = ts_gauge[list(ts_gauge.keys())[5]]\n",
    "    gauge.append(gauge_truth)\n",
    "    # from sentinel\n",
    "    ts_sentinel = np.asarray(list(imoda.get_sentinel_data(date_key,item).values()))\n",
    "    diff = ts_sentinel - gauge_truth\n",
    "    index = diff == min(diff)\n",
    "    if ts_sentinel[index].any():\n",
    "        sentinel_best[item].append(ts_sentinel[index])\n",
    "    else:\n",
    "        sentinel_best[item].append(np.nan)\n",
    "    "
   ]
  },
  {
   "cell_type": "code",
   "execution_count": 38,
   "metadata": {},
   "outputs": [
    {
     "data": {
      "text/plain": [
       "False"
      ]
     },
     "execution_count": 38,
     "metadata": {},
     "output_type": "execute_result"
    }
   ],
   "source": [
    "ts_sentinel[index].any()"
   ]
  }
 ],
 "metadata": {
  "kernelspec": {
   "display_name": "gnss_ir",
   "language": "python",
   "name": "python3"
  },
  "language_info": {
   "codemirror_mode": {
    "name": "ipython",
    "version": 3
   },
   "file_extension": ".py",
   "mimetype": "text/x-python",
   "name": "python",
   "nbconvert_exporter": "python",
   "pygments_lexer": "ipython3",
   "version": "3.9.12"
  },
  "orig_nbformat": 4,
  "vscode": {
   "interpreter": {
    "hash": "899cbdd3e6d213a089c367d62ece5cdfd458181ffdb9574f74f7a7425a23b7e4"
   }
  }
 },
 "nbformat": 4,
 "nbformat_minor": 2
}
