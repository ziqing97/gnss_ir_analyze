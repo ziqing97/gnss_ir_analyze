{
 "cells": [
  {
   "cell_type": "code",
   "execution_count": null,
   "metadata": {},
   "outputs": [],
   "source": [
    "# uncertainty\n",
    "ts_uc_2 = ts_dict['uc_ts'][f'{date_key}_2']\n",
    "ts_t_2 = np.array(list(ts_uc_2.keys()))\n",
    "\n",
    "ts_uc_upper = h_ts_2 + np.array(list(ts_uc_2.values()))\n",
    "ts_uc_under = h_ts_2 - np.array(list(ts_uc_2.values()))\n",
    "\n",
    "df_temp = pd.DataFrame({'Time':ts_t_2,'Upper':ts_uc_upper,'Under':ts_uc_under})\n",
    "df_temp = df_temp[df_temp['Upper'].notnull()]\n",
    "df_temp1 = df_temp.sort_values(by=['Time'],ascending=True)\n",
    "df_temp2 = df_temp.sort_values(by=['Time'],ascending=False)"
   ]
  },
  {
   "cell_type": "code",
   "execution_count": null,
   "metadata": {},
   "outputs": [],
   "source": [
    "t = list(df_temp1.Time) + list(df_temp2.Time)\n",
    "tempt = []\n",
    "for item in t:\n",
    "    tempt.append(item.timestamp())\n",
    "unix = np.asarray([tempt])\n",
    "patch = np.asarray([list(df_temp1.Upper) + list(df_temp2.Under)])\n",
    "path = np.append(unix,patch,axis=0).T\n",
    "\n",
    "\n",
    "import matplotlib.patches as patches\n",
    "import matplotlib.pyplot as plt\n",
    "fig = plt.figure()\n",
    "ax = fig.gca()\n",
    "ax.scatter(df_temp1.Time,df_temp1.Upper)\n",
    "ax.scatter(df_temp2.Time,df_temp2.Under)\n",
    "# ax.add_patch(patches.Polygon(path))"
   ]
  }
 ],
 "metadata": {
  "language_info": {
   "name": "python"
  },
  "orig_nbformat": 4
 },
 "nbformat": 4,
 "nbformat_minor": 2
}
