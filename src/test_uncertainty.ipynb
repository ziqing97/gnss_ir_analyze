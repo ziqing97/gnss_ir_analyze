{
 "cells": [
  {
   "cell_type": "code",
   "execution_count": null,
   "metadata": {},
   "outputs": [],
   "source": [
    "import pickle \n",
    "import os\n",
    "from datetime import datetime,timezone,timedelta\n",
    "import pickle\n",
    "\n",
    "import numpy as np\n",
    "import pandas as pd\n",
    "import matplotlib\n",
    "import matplotlib.pyplot as plt\n",
    "import matplotlib.cm as cm\n",
    "from tqdm import tqdm\n",
    "from scipy import signal\n",
    "\n",
    "import data_filter as dafi\n",
    "import data_process as dapr\n",
    "import lib_plot"
   ]
  },
  {
   "cell_type": "code",
   "execution_count": null,
   "metadata": {},
   "outputs": [],
   "source": [
    "azimut_mask = [270,330]\n",
    "elevation_mask = [3,30]\n",
    "min_height = 2\n",
    "max_height = 4\n",
    "t_range = 30\n",
    "main_path_2 = os.path.abspath('../data/20220904/2/')\n",
    "main_path_3 = os.path.abspath('../data/20220904/3/')\n",
    "\n",
    "main_path = main_path_2\n",
    "month = 9\n",
    "day = 4"
   ]
  },
  {
   "cell_type": "code",
   "execution_count": null,
   "metadata": {},
   "outputs": [],
   "source": [
    "frequency = dapr.generate_frequency(min_height=min_height,max_height=max_height)\n",
    "signal_ts = {}\n",
    "\n",
    "for dt in tqdm(range(0,t_range-1)):\n",
    "    starttime = datetime(year=2022,month=month,day=day,hour=8,\\\n",
    "        minute=0+dt,second=0,tzinfo=timezone.utc)\n",
    "    endtime = datetime(year=2022,month=month,day=day,hour=14,\\\n",
    "        minute=0+dt,second=0,tzinfo=timezone.utc)\n",
    "    deltatime = timedelta(minutes=t_range)\n",
    "\n",
    "    data_dict = dafi.clean_data(main_path,azimut_mask=azimut_mask,\\\n",
    "        elevation_mask=elevation_mask,sn1_trigger=True)\n",
    "\n",
    "    split_data_dict = dafi.split_data(data_dict,starttime,endtime,deltatime)\n",
    "    result_dict = dapr.data_prepare(split_data_dict,frequency=frequency)\n",
    "    result_dict_1031 = dapr.extract_height_as_max_peak(result_dict,frequency=frequency)\n",
    "\n",
    "    for satellite_code in result_dict_1031:\n",
    "        for t,p in zip(result_dict_1031[satellite_code]['time'],\\\n",
    "            result_dict_1031[satellite_code]['power']):\n",
    "            if t in signal_ts:\n",
    "                signal_ts[t] = np.multiply(p,signal_ts[t])\n",
    "            else:\n",
    "                signal_ts[t] = p\n",
    "height_ts = {}\n",
    "for t in signal_ts:\n",
    "    p = signal_ts[t]\n",
    "    index = p==max(p)\n",
    "    h = frequency[index]\n",
    "    height_ts[t] = h[0]"
   ]
  }
 ],
 "metadata": {
  "kernelspec": {
   "display_name": "gnss_ir",
   "language": "python",
   "name": "python3"
  },
  "language_info": {
   "name": "python",
   "version": "3.9.12 (main, Apr  4 2022, 05:22:27) [MSC v.1916 64 bit (AMD64)]"
  },
  "orig_nbformat": 4,
  "vscode": {
   "interpreter": {
    "hash": "bef03f3b2611f05ae925db1195bade39f419d97b5bf9db298e90bacf7555e223"
   }
  }
 },
 "nbformat": 4,
 "nbformat_minor": 2
}
