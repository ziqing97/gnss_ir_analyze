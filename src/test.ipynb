{
 "cells": [
  {
   "cell_type": "code",
   "execution_count": 1,
   "metadata": {},
   "outputs": [],
   "source": [
    "from datetime import timedelta\n",
    "\n",
    "import numpy as np\n",
    "import pandas as pd\n",
    "import matplotlib.pyplot as plt\n",
    "\n",
    "import transformation\n",
    "import data_filter as dafi\n",
    "import estimate_height as esth"
   ]
  },
  {
   "cell_type": "code",
   "execution_count": 2,
   "metadata": {},
   "outputs": [
    {
     "name": "stdout",
     "output_type": "stream",
     "text": [
      "48.797647635874426\n",
      "9.214252131825374\n",
      "270.97025138139725\n"
     ]
    }
   ],
   "source": [
    "import math\n",
    "x = 4155252.3307\n",
    "y = 674064.7850\n",
    "z = 4775969.2638\n",
    "lat,lon,height = transformation.xyz2latlon(x,y,z)\n",
    "print(lat/math.pi*180)\n",
    "print(lon/math.pi*180)\n",
    "print(height)"
   ]
  },
  {
   "cell_type": "code",
   "execution_count": 3,
   "metadata": {},
   "outputs": [],
   "source": [
    "main_path = 'E:/OneDrive/Studium/MA/data/20220526/2/'\n",
    "#main_path = 'E:/OneDrive/Studium/MA/data/20220526/3/'\n",
    "\n",
    "data_dict = dafi.generate_dataframe(main_path)\n",
    "satellite_list = data_dict.keys()\n",
    "\n",
    "azimut_mask = [140,320]\n",
    "elevation_mask = [0,60]\n",
    "for satellite_code in satellite_list:\n",
    "    data_dict[satellite_code] = dafi.azimut_filter(data_dict[satellite_code],azimut_mask)\n",
    "    data_dict[satellite_code] = dafi.elevation_filter(data_dict[satellite_code],elevation_mask)"
   ]
  },
  {
   "cell_type": "code",
   "execution_count": 4,
   "metadata": {},
   "outputs": [
    {
     "name": "stdout",
     "output_type": "stream",
     "text": [
      "dict_keys(['G01', 'G03', 'G04', 'G06', 'G09', 'G17', 'G19', 'G31', 'G11', 'G02', 'R04', 'R05', 'R06', 'R14', 'R15', 'R20', 'R21', 'R22', 'R07', 'E04', 'E05', 'E09', 'E11', 'E36', 'E34', 'E01', 'G07', 'E31', 'G20', 'G16', 'G30', 'R23', 'R09'])\n"
     ]
    }
   ],
   "source": [
    "print(satellite_list)"
   ]
  },
  {
   "cell_type": "code",
   "execution_count": 7,
   "metadata": {},
   "outputs": [
    {
     "name": "stdout",
     "output_type": "stream",
     "text": [
      "                          time   azimut  elevation   snr1   snr2\n",
      "0    2022-05-26 19:31:05+00:00  306.753     41.273  46.45  40.50\n",
      "1    2022-05-26 19:31:06+00:00  306.749     41.280  46.55  39.45\n",
      "2    2022-05-26 19:31:07+00:00  306.746     41.287  46.35  39.85\n",
      "3    2022-05-26 19:31:08+00:00  306.743     41.293  46.30  39.70\n",
      "4    2022-05-26 19:31:09+00:00  306.740     41.300  46.35  40.15\n",
      "...                        ...      ...        ...    ...    ...\n",
      "7980 2022-05-26 21:44:05+00:00  219.754     44.444  49.60  49.65\n",
      "7981 2022-05-26 21:44:06+00:00  219.747     44.437  49.55  49.60\n",
      "7982 2022-05-26 21:44:07+00:00  219.741     44.430  49.60  49.60\n",
      "7983 2022-05-26 21:44:08+00:00  219.735     44.423  49.60  49.60\n",
      "7984 2022-05-26 21:44:09+00:00  219.728     44.417  49.65  49.70\n",
      "\n",
      "[6978 rows x 5 columns]\n"
     ]
    }
   ],
   "source": [
    "satellite_code = 'G06'\n",
    "dataframe = data_dict[satellite_code]\n",
    "print(dataframe)\n"
   ]
  },
  {
   "cell_type": "code",
   "execution_count": null,
   "metadata": {},
   "outputs": [],
   "source": [
    "min_height = 1\n",
    "max_height = 3 # meter\n",
    "time_interval = 2 # minutes\n",
    "time_delta = timedelta(minutes=time_interval)\n",
    "\n",
    "if not dataframe.empty:\n",
    "    time_list, height_list, azimut_list = esth.split_result(dataframe,time_interval,min_height,max_height)\n"
   ]
  },
  {
   "cell_type": "code",
   "execution_count": 6,
   "metadata": {},
   "outputs": [
    {
     "name": "stdout",
     "output_type": "stream",
     "text": [
      "[Timestamp('2022-05-26 19:32:05+0000', tz='UTC'), Timestamp('2022-05-26 19:34:05+0000', tz='UTC'), Timestamp('2022-05-26 19:36:05+0000', tz='UTC'), Timestamp('2022-05-26 19:38:05+0000', tz='UTC'), Timestamp('2022-05-26 19:40:05+0000', tz='UTC'), Timestamp('2022-05-26 19:42:05+0000', tz='UTC'), Timestamp('2022-05-26 19:44:05+0000', tz='UTC'), Timestamp('2022-05-26 19:46:05+0000', tz='UTC'), Timestamp('2022-05-26 19:48:05+0000', tz='UTC'), Timestamp('2022-05-26 19:50:05+0000', tz='UTC'), Timestamp('2022-05-26 19:52:05+0000', tz='UTC'), Timestamp('2022-05-26 19:54:05+0000', tz='UTC'), Timestamp('2022-05-26 19:56:05+0000', tz='UTC'), Timestamp('2022-05-26 19:58:05+0000', tz='UTC'), Timestamp('2022-05-26 20:00:05+0000', tz='UTC'), Timestamp('2022-05-26 20:02:05+0000', tz='UTC'), Timestamp('2022-05-26 20:04:05+0000', tz='UTC'), Timestamp('2022-05-26 20:06:05+0000', tz='UTC'), Timestamp('2022-05-26 20:08:05+0000', tz='UTC'), Timestamp('2022-05-26 20:10:05+0000', tz='UTC'), Timestamp('2022-05-26 20:12:05+0000', tz='UTC'), Timestamp('2022-05-26 20:14:05+0000', tz='UTC'), Timestamp('2022-05-26 20:16:05+0000', tz='UTC'), Timestamp('2022-05-26 20:18:05+0000', tz='UTC'), Timestamp('2022-05-26 20:20:05+0000', tz='UTC'), Timestamp('2022-05-26 20:22:05+0000', tz='UTC'), Timestamp('2022-05-26 20:24:05+0000', tz='UTC'), Timestamp('2022-05-26 20:26:05+0000', tz='UTC'), Timestamp('2022-05-26 20:28:05+0000', tz='UTC'), Timestamp('2022-05-26 20:30:05+0000', tz='UTC'), Timestamp('2022-05-26 20:32:05+0000', tz='UTC'), Timestamp('2022-05-26 20:34:05+0000', tz='UTC'), Timestamp('2022-05-26 20:36:05+0000', tz='UTC'), Timestamp('2022-05-26 20:38:05+0000', tz='UTC'), Timestamp('2022-05-26 20:40:05+0000', tz='UTC'), Timestamp('2022-05-26 20:42:05+0000', tz='UTC'), Timestamp('2022-05-26 20:44:05+0000', tz='UTC'), Timestamp('2022-05-26 20:46:05+0000', tz='UTC'), Timestamp('2022-05-26 20:48:05+0000', tz='UTC'), Timestamp('2022-05-26 20:50:05+0000', tz='UTC'), Timestamp('2022-05-26 20:52:05+0000', tz='UTC'), Timestamp('2022-05-26 20:54:05+0000', tz='UTC'), Timestamp('2022-05-26 20:56:05+0000', tz='UTC'), Timestamp('2022-05-26 20:58:05+0000', tz='UTC'), Timestamp('2022-05-26 21:00:05+0000', tz='UTC'), Timestamp('2022-05-26 21:02:05+0000', tz='UTC'), Timestamp('2022-05-26 21:04:05+0000', tz='UTC'), Timestamp('2022-05-26 21:06:05+0000', tz='UTC'), Timestamp('2022-05-26 21:08:05+0000', tz='UTC'), Timestamp('2022-05-26 21:10:05+0000', tz='UTC'), Timestamp('2022-05-26 21:12:05+0000', tz='UTC'), Timestamp('2022-05-26 21:14:05+0000', tz='UTC'), Timestamp('2022-05-26 21:16:05+0000', tz='UTC'), Timestamp('2022-05-26 21:18:05+0000', tz='UTC'), Timestamp('2022-05-26 21:20:05+0000', tz='UTC'), Timestamp('2022-05-26 21:22:05+0000', tz='UTC'), Timestamp('2022-05-26 21:24:05+0000', tz='UTC'), Timestamp('2022-05-26 21:26:05+0000', tz='UTC'), Timestamp('2022-05-26 21:28:05+0000', tz='UTC'), Timestamp('2022-05-26 21:30:05+0000', tz='UTC'), Timestamp('2022-05-26 21:32:05+0000', tz='UTC'), Timestamp('2022-05-26 21:34:05+0000', tz='UTC'), Timestamp('2022-05-26 21:36:05+0000', tz='UTC'), Timestamp('2022-05-26 21:38:05+0000', tz='UTC'), Timestamp('2022-05-26 21:40:05+0000', tz='UTC'), Timestamp('2022-05-26 21:42:05+0000', tz='UTC')]\n",
      "[array([2.17761425]), array([2.80758756]), array([2.86220689]), array([2.30725439]), array([2.67773126]), array([2.41408309]), array([2.80360107]), array([2.53912799]), array([2.95869771]), array([2.68510818]), array([2.77033515]), nan, array([2.96100199]), array([2.66248435]), nan, array([2.88815927]), array([2.55580818]), nan, nan, nan, nan, nan, nan, nan, nan, nan, nan, nan, nan, nan, nan, nan, nan, nan, nan, nan, nan, nan, nan, nan, nan, nan, nan, nan, nan, nan, nan, nan, nan, nan, nan, array([2.90075001]), nan, nan, array([2.92272806]), nan, array([2.66897579]), array([2.95895756]), array([2.84477366]), array([2.74409431]), array([2.65187431]), array([2.90959945]), array([2.82176149]), nan, array([2.35351957]), array([2.29099545])]\n"
     ]
    },
    {
     "name": "stderr",
     "output_type": "stream",
     "text": [
      "f:\\Anaconda\\envs\\gnss_ir\\lib\\site-packages\\numpy\\core\\shape_base.py:65: VisibleDeprecationWarning: Creating an ndarray from ragged nested sequences (which is a list-or-tuple of lists-or-tuples-or ndarrays with different lengths or shapes) is deprecated. If you meant to do this, you must specify 'dtype=object' when creating the ndarray.\n",
      "  ary = asanyarray(ary)\n"
     ]
    },
    {
     "data": {
      "text/plain": [
       "[<matplotlib.lines.Line2D at 0x1fef61c57f0>]"
      ]
     },
     "execution_count": 6,
     "metadata": {},
     "output_type": "execute_result"
    },
    {
     "data": {
      "image/png": "[encoded data removed]",
      "text/plain": [
       "<Figure size 432x288 with 1 Axes>"
      ]
     },
     "metadata": {
      "needs_background": "light"
     },
     "output_type": "display_data"
    }
   ],
   "source": [
    "print(time_list)\n",
    "print(height_list)\n",
    "\n",
    "plt.plot(time_list,height_list)"
   ]
  }
 ],
 "metadata": {
  "kernelspec": {
   "display_name": "Python 3.9.12 ('gnss_ir')",
   "language": "python",
   "name": "python3"
  },
  "language_info": {
   "codemirror_mode": {
    "name": "ipython",
    "version": 3
   },
   "file_extension": ".py",
   "mimetype": "text/x-python",
   "name": "python",
   "nbconvert_exporter": "python",
   "pygments_lexer": "ipython3",
   "version": "3.9.12"
  },
  "orig_nbformat": 4,
  "vscode": {
   "interpreter": {
    "hash": "bef03f3b2611f05ae925db1195bade39f419d97b5bf9db298e90bacf7555e223"
   }
  }
 },
 "nbformat": 4,
 "nbformat_minor": 2
}
