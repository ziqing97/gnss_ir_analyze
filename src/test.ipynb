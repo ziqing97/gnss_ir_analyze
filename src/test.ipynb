{
 "cells": [
  {
   "cell_type": "code",
   "execution_count": 15,
   "metadata": {},
   "outputs": [],
   "source": [
    "import os\n",
    "from datetime import datetime,timezone,timedelta\n",
    "from csv import reader\n",
    "\n",
    "import numpy as np\n",
    "import pandas as pd\n",
    "from astropy.timeseries import LombScargle\n",
    "\n",
    "import matplotlib.pyplot as plt\n",
    "\n",
    "from scipy import signal\n",
    "\n",
    "import data_filter as dafi\n",
    "import data_process as dapr\n",
    "import lib_plot"
   ]
  },
  {
   "cell_type": "code",
   "execution_count": 22,
   "metadata": {},
   "outputs": [],
   "source": [
    "main_path = os.path.abspath('../data/20221031/2/')\n",
    "\n",
    "\n",
    "azimut_mask = [270,330]\n",
    "elevation_mask = [0,50]\n",
    "min_height = 2\n",
    "max_height = 6\n",
    "frequency = dapr.generate_frequency(min_height=min_height,max_height=max_height)\n",
    "starttime = datetime(year=2022,month=10,day=31,hour=8,minute=0,second=0,tzinfo=timezone.utc)\n",
    "endtime = datetime(year=2022,month=10,day=31,hour=14,minute=0,second=0,tzinfo=timezone.utc)\n",
    "deltatime = timedelta(minutes=10)\n",
    "\n",
    "data_dict = dafi.clean_data(main_path,azimut_mask=azimut_mask,elevation_mask=elevation_mask,sn1_trigger=True)\n",
    "\n",
    "\n",
    "split_data_dict = dafi.split_data(data_dict,starttime,endtime,deltatime)"
   ]
  },
  {
   "cell_type": "code",
   "execution_count": 23,
   "metadata": {},
   "outputs": [
    {
     "ename": "",
     "evalue": "",
     "output_type": "error",
     "traceback": [
      "\u001b[1;31mCanceled future for execute_request message before replies were done"
     ]
    },
    {
     "ename": "",
     "evalue": "",
     "output_type": "error",
     "traceback": [
      "\u001b[1;31m在当前单元格或上一个单元格中执行代码时 Kernel 崩溃。请查看单元格中的代码，以确定故障的可能原因。有关详细信息，请单击 <a href='https://aka.ms/vscodeJupyterKernelCrash'>此处</a>。有关更多详细信息，请查看 Jupyter <a href='command:jupyter.viewOutput'>log</a>。"
     ]
    }
   ],
   "source": [
    "# 太短也删了吧\n",
    "result_dict,debug_ele,debug_snr = dapr.data_prepare(split_data_dict,frequency=frequency)"
   ]
  },
  {
   "cell_type": "code",
   "execution_count": 18,
   "metadata": {},
   "outputs": [],
   "source": [
    "result_dict = dapr.extract_height_as_max_peak(result_dict,frequency=frequency)"
   ]
  },
  {
   "cell_type": "code",
   "execution_count": 19,
   "metadata": {},
   "outputs": [
    {
     "data": {
      "image/png": "[encoded data removed]",
      "text/plain": [
       "<Figure size 640x480 with 1 Axes>"
      ]
     },
     "metadata": {},
     "output_type": "display_data"
    }
   ],
   "source": [
    "for satellite_code in result_dict:\n",
    "    for i,height in enumerate(result_dict[satellite_code]['maximal_height']):\n",
    "        plt.scatter(result_dict[satellite_code]['elevation'][i]['avg'],height)"
   ]
  },
  {
   "cell_type": "code",
   "execution_count": 20,
   "metadata": {},
   "outputs": [
    {
     "data": {
      "text/plain": [
       "[{'avg': 23.470235849056603, 'min': 22.843, 'max': 24.073},\n",
       " {'avg': 24.42274111675127, 'min': 24.076, 'max': 24.759}]"
      ]
     },
     "execution_count": 20,
     "metadata": {},
     "output_type": "execute_result"
    }
   ],
   "source": [
    "result_dict[satellite_code]['elevation']"
   ]
  },
  {
   "cell_type": "code",
   "execution_count": 21,
   "metadata": {},
   "outputs": [
    {
     "data": {
      "text/plain": [
       "'\\ntry:\\n    para = np.dot(np.linalg.solve(np.dot(design_matrix.T,design_matrix),                design_matrix.T),snr_sort)\\nexcept:\\n    height = []\\n    frequency = float(\"nan\")\\n    power = float(\"nan\")\\nelse:\\n    snr_ref = snr_sort - (elevation_sort**2 * para[0,0] +                 para[1,0]*elevation_sort + para[2,0])\\n\\n    # lsp analysis\\n    x_data = (np.sin(elevation_sort.T*np.pi/180) * 4 * np.pi / wavelength).ravel()\\n    y_data = snr_ref.ravel()\\n    frequency = np.arange(min_height,max_height,0.001)\\n\\n    power = signal.lombscargle(x_data,y_data,frequency,normalize=True)\\n    plt.plot(frequency,power)\\n    peaks,_= signal.find_peaks(power)\\n    if peaks.size != 0:\\n        peaks_power = power[peaks]\\n\\n        height_peak = frequency[peaks]\\n        height = height_peak[peaks_power==max(peaks_power)]\\n    else:\\n        height = []\\n'"
      ]
     },
     "execution_count": 21,
     "metadata": {},
     "output_type": "execute_result"
    }
   ],
   "source": [
    "\n",
    "'''\n",
    "try:\n",
    "    para = np.dot(np.linalg.solve(np.dot(design_matrix.T,design_matrix),\\\n",
    "                design_matrix.T),snr_sort)\n",
    "except:\n",
    "    height = []\n",
    "    frequency = float(\"nan\")\n",
    "    power = float(\"nan\")\n",
    "else:\n",
    "    snr_ref = snr_sort - (elevation_sort**2 * para[0,0] + \\\n",
    "                para[1,0]*elevation_sort + para[2,0])\n",
    "\n",
    "    # lsp analysis\n",
    "    x_data = (np.sin(elevation_sort.T*np.pi/180) * 4 * np.pi / wavelength).ravel()\n",
    "    y_data = snr_ref.ravel()\n",
    "    frequency = np.arange(min_height,max_height,0.001)\n",
    "\n",
    "    power = signal.lombscargle(x_data,y_data,frequency,normalize=True)\n",
    "    plt.plot(frequency,power)\n",
    "    peaks,_= signal.find_peaks(power)\n",
    "    if peaks.size != 0:\n",
    "        peaks_power = power[peaks]\n",
    "\n",
    "        height_peak = frequency[peaks]\n",
    "        height = height_peak[peaks_power==max(peaks_power)]\n",
    "    else:\n",
    "        height = []\n",
    "'''"
   ]
  }
 ],
 "metadata": {
  "kernelspec": {
   "display_name": "Python 3.9.12 ('gnss_ir')",
   "language": "python",
   "name": "python3"
  },
  "language_info": {
   "codemirror_mode": {
    "name": "ipython",
    "version": 3
   },
   "file_extension": ".py",
   "mimetype": "text/x-python",
   "name": "python",
   "nbconvert_exporter": "python",
   "pygments_lexer": "ipython3",
   "version": "3.9.12"
  },
  "orig_nbformat": 4,
  "vscode": {
   "interpreter": {
    "hash": "899cbdd3e6d213a089c367d62ece5cdfd458181ffdb9574f74f7a7425a23b7e4"
   }
  }
 },
 "nbformat": 4,
 "nbformat_minor": 2
}
