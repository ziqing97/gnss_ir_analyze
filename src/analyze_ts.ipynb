{
 "cells": [
  {
   "cell_type": "code",
   "execution_count": 1,
   "metadata": {},
   "outputs": [],
   "source": [
    "import pickle\n",
    "\n",
    "import numpy as np\n",
    "\n",
    "import lib_import_other_datasource as imoda"
   ]
  },
  {
   "cell_type": "code",
   "execution_count": 2,
   "metadata": {},
   "outputs": [],
   "source": [
    "with open('../data/generated_data/kapitel4/timeseries/timeseries_ele5_32_azi265_340_time39_all.pkl', 'rb') as f:\n",
    "    ts_dict = pickle.load(f)\n",
    "\n",
    "key_list = ['0811_2','0811_3',\n",
    "            '0907_2','0907_3',\n",
    "            '1004_2','1004_3',\n",
    "            '1031_2','1031_3',\n",
    "            '1127_2','1127_3',\n",
    "            '0216_1','0216_2']\n",
    "\n",
    "retrack_method = 'OCES'\n",
    "mean_dict = {}\n",
    "std_dict = {}"
   ]
  },
  {
   "cell_type": "code",
   "execution_count": 3,
   "metadata": {},
   "outputs": [
    {
     "name": "stderr",
     "output_type": "stream",
     "text": [
      "/Users/yuziqing/Library/CloudStorage/OneDrive-个人/Studium/MA/gnss_ir_analyze/src/lib_import_other_datasource.py:29: FutureWarning: Calling float on a single element Series is deprecated and will raise a TypeError in the future. Use float(ser.iloc[0]) instead\n",
      "  ante_h['2'] = float(index['antenne2'])+0.2\n",
      "/Users/yuziqing/Library/CloudStorage/OneDrive-个人/Studium/MA/gnss_ir_analyze/src/lib_import_other_datasource.py:30: FutureWarning: Calling float on a single element Series is deprecated and will raise a TypeError in the future. Use float(ser.iloc[0]) instead\n",
      "  ante_h['3'] = float(index['antenne3'])+0.2\n",
      "/Users/yuziqing/Library/CloudStorage/OneDrive-个人/Studium/MA/gnss_ir_analyze/src/lib_import_other_datasource.py:29: FutureWarning: Calling float on a single element Series is deprecated and will raise a TypeError in the future. Use float(ser.iloc[0]) instead\n",
      "  ante_h['2'] = float(index['antenne2'])+0.2\n",
      "/Users/yuziqing/Library/CloudStorage/OneDrive-个人/Studium/MA/gnss_ir_analyze/src/lib_import_other_datasource.py:30: FutureWarning: Calling float on a single element Series is deprecated and will raise a TypeError in the future. Use float(ser.iloc[0]) instead\n",
      "  ante_h['3'] = float(index['antenne3'])+0.2\n",
      "/Users/yuziqing/Library/CloudStorage/OneDrive-个人/Studium/MA/gnss_ir_analyze/src/lib_import_other_datasource.py:29: FutureWarning: Calling float on a single element Series is deprecated and will raise a TypeError in the future. Use float(ser.iloc[0]) instead\n",
      "  ante_h['2'] = float(index['antenne2'])+0.2\n",
      "/Users/yuziqing/Library/CloudStorage/OneDrive-个人/Studium/MA/gnss_ir_analyze/src/lib_import_other_datasource.py:30: FutureWarning: Calling float on a single element Series is deprecated and will raise a TypeError in the future. Use float(ser.iloc[0]) instead\n",
      "  ante_h['3'] = float(index['antenne3'])+0.2\n",
      "/Users/yuziqing/Library/CloudStorage/OneDrive-个人/Studium/MA/gnss_ir_analyze/src/lib_import_other_datasource.py:29: FutureWarning: Calling float on a single element Series is deprecated and will raise a TypeError in the future. Use float(ser.iloc[0]) instead\n",
      "  ante_h['2'] = float(index['antenne2'])+0.2\n",
      "/Users/yuziqing/Library/CloudStorage/OneDrive-个人/Studium/MA/gnss_ir_analyze/src/lib_import_other_datasource.py:30: FutureWarning: Calling float on a single element Series is deprecated and will raise a TypeError in the future. Use float(ser.iloc[0]) instead\n",
      "  ante_h['3'] = float(index['antenne3'])+0.2\n",
      "/Users/yuziqing/Library/CloudStorage/OneDrive-个人/Studium/MA/gnss_ir_analyze/src/lib_import_other_datasource.py:29: FutureWarning: Calling float on a single element Series is deprecated and will raise a TypeError in the future. Use float(ser.iloc[0]) instead\n",
      "  ante_h['2'] = float(index['antenne2'])+0.2\n",
      "/Users/yuziqing/Library/CloudStorage/OneDrive-个人/Studium/MA/gnss_ir_analyze/src/lib_import_other_datasource.py:30: FutureWarning: Calling float on a single element Series is deprecated and will raise a TypeError in the future. Use float(ser.iloc[0]) instead\n",
      "  ante_h['3'] = float(index['antenne3'])+0.2\n",
      "/Users/yuziqing/Library/CloudStorage/OneDrive-个人/Studium/MA/gnss_ir_analyze/src/lib_import_other_datasource.py:29: FutureWarning: Calling float on a single element Series is deprecated and will raise a TypeError in the future. Use float(ser.iloc[0]) instead\n",
      "  ante_h['2'] = float(index['antenne2'])+0.2\n",
      "/Users/yuziqing/Library/CloudStorage/OneDrive-个人/Studium/MA/gnss_ir_analyze/src/lib_import_other_datasource.py:30: FutureWarning: Calling float on a single element Series is deprecated and will raise a TypeError in the future. Use float(ser.iloc[0]) instead\n",
      "  ante_h['3'] = float(index['antenne3'])+0.2\n",
      "/Users/yuziqing/Library/CloudStorage/OneDrive-个人/Studium/MA/gnss_ir_analyze/src/lib_import_other_datasource.py:29: FutureWarning: Calling float on a single element Series is deprecated and will raise a TypeError in the future. Use float(ser.iloc[0]) instead\n",
      "  ante_h['2'] = float(index['antenne2'])+0.2\n",
      "/Users/yuziqing/Library/CloudStorage/OneDrive-个人/Studium/MA/gnss_ir_analyze/src/lib_import_other_datasource.py:30: FutureWarning: Calling float on a single element Series is deprecated and will raise a TypeError in the future. Use float(ser.iloc[0]) instead\n",
      "  ante_h['3'] = float(index['antenne3'])+0.2\n",
      "/Users/yuziqing/Library/CloudStorage/OneDrive-个人/Studium/MA/gnss_ir_analyze/src/lib_import_other_datasource.py:29: FutureWarning: Calling float on a single element Series is deprecated and will raise a TypeError in the future. Use float(ser.iloc[0]) instead\n",
      "  ante_h['2'] = float(index['antenne2'])+0.2\n",
      "/Users/yuziqing/Library/CloudStorage/OneDrive-个人/Studium/MA/gnss_ir_analyze/src/lib_import_other_datasource.py:30: FutureWarning: Calling float on a single element Series is deprecated and will raise a TypeError in the future. Use float(ser.iloc[0]) instead\n",
      "  ante_h['3'] = float(index['antenne3'])+0.2\n",
      "/Users/yuziqing/Library/CloudStorage/OneDrive-个人/Studium/MA/gnss_ir_analyze/src/lib_import_other_datasource.py:29: FutureWarning: Calling float on a single element Series is deprecated and will raise a TypeError in the future. Use float(ser.iloc[0]) instead\n",
      "  ante_h['2'] = float(index['antenne2'])+0.2\n",
      "/Users/yuziqing/Library/CloudStorage/OneDrive-个人/Studium/MA/gnss_ir_analyze/src/lib_import_other_datasource.py:30: FutureWarning: Calling float on a single element Series is deprecated and will raise a TypeError in the future. Use float(ser.iloc[0]) instead\n",
      "  ante_h['3'] = float(index['antenne3'])+0.2\n",
      "/Users/yuziqing/Library/CloudStorage/OneDrive-个人/Studium/MA/gnss_ir_analyze/src/lib_import_other_datasource.py:29: FutureWarning: Calling float on a single element Series is deprecated and will raise a TypeError in the future. Use float(ser.iloc[0]) instead\n",
      "  ante_h['2'] = float(index['antenne2'])+0.2\n",
      "/Users/yuziqing/Library/CloudStorage/OneDrive-个人/Studium/MA/gnss_ir_analyze/src/lib_import_other_datasource.py:30: FutureWarning: Calling float on a single element Series is deprecated and will raise a TypeError in the future. Use float(ser.iloc[0]) instead\n",
      "  ante_h['3'] = float(index['antenne3'])+0.2\n",
      "/Users/yuziqing/Library/CloudStorage/OneDrive-个人/Studium/MA/gnss_ir_analyze/src/lib_import_other_datasource.py:22: FutureWarning: Calling float on a single element Series is deprecated and will raise a TypeError in the future. Use float(ser.iloc[0]) instead\n",
      "  ante_h['1'] = float(index['antenne1'])\n",
      "/Users/yuziqing/Library/CloudStorage/OneDrive-个人/Studium/MA/gnss_ir_analyze/src/lib_import_other_datasource.py:23: FutureWarning: Calling float on a single element Series is deprecated and will raise a TypeError in the future. Use float(ser.iloc[0]) instead\n",
      "  ante_h['2'] = float(index['antenne2'])+0.2\n",
      "/Users/yuziqing/Library/CloudStorage/OneDrive-个人/Studium/MA/gnss_ir_analyze/src/lib_import_other_datasource.py:24: FutureWarning: Calling float on a single element Series is deprecated and will raise a TypeError in the future. Use float(ser.iloc[0]) instead\n",
      "  ante_h['2r'] = float(index['antenne2r'])\n",
      "/Users/yuziqing/Library/CloudStorage/OneDrive-个人/Studium/MA/gnss_ir_analyze/src/lib_import_other_datasource.py:22: FutureWarning: Calling float on a single element Series is deprecated and will raise a TypeError in the future. Use float(ser.iloc[0]) instead\n",
      "  ante_h['1'] = float(index['antenne1'])\n",
      "/Users/yuziqing/Library/CloudStorage/OneDrive-个人/Studium/MA/gnss_ir_analyze/src/lib_import_other_datasource.py:23: FutureWarning: Calling float on a single element Series is deprecated and will raise a TypeError in the future. Use float(ser.iloc[0]) instead\n",
      "  ante_h['2'] = float(index['antenne2'])+0.2\n",
      "/Users/yuziqing/Library/CloudStorage/OneDrive-个人/Studium/MA/gnss_ir_analyze/src/lib_import_other_datasource.py:24: FutureWarning: Calling float on a single element Series is deprecated and will raise a TypeError in the future. Use float(ser.iloc[0]) instead\n",
      "  ante_h['2r'] = float(index['antenne2r'])\n"
     ]
    }
   ],
   "source": [
    "for dk in key_list:\n",
    "    date = dk[0:4]\n",
    "    ant = dk[-1]\n",
    "    ts = ts_dict['ts'][dk]\n",
    "    ante_h = imoda.get_antenne_height(date)[ant]\n",
    "    h_mean = ante_h-np.nanmean(list(ts.values()))\n",
    "    h_std = np.nanstd(list(ts.values()))\n",
    "    mean_dict[dk] = h_mean\n",
    "    std_dict[dk] = h_std"
   ]
  },
  {
   "cell_type": "code",
   "execution_count": 4,
   "metadata": {},
   "outputs": [
    {
     "data": {
      "text/plain": [
       "{'0811_2': 284.5177881502752,\n",
       " '0811_3': 284.51603399272545,\n",
       " '0907_2': 284.5065137584612,\n",
       " '0907_3': 284.4790885221359,\n",
       " '1004_2': 284.4626072844791,\n",
       " '1004_3': 284.51313161650273,\n",
       " '1031_2': 284.55709797605545,\n",
       " '1031_3': 284.4657337976607,\n",
       " '1127_2': 284.52583433808326,\n",
       " '1127_3': 284.6414795805339,\n",
       " '0216_1': 284.21295657392756,\n",
       " '0216_2': 284.2745028755251}"
      ]
     },
     "execution_count": 4,
     "metadata": {},
     "output_type": "execute_result"
    }
   ],
   "source": [
    "mean_dict"
   ]
  },
  {
   "cell_type": "code",
   "execution_count": 5,
   "metadata": {},
   "outputs": [
    {
     "data": {
      "text/plain": [
       "{'0811_2': 0.2228002829480828,\n",
       " '0811_3': 0.1645045056643793,\n",
       " '0907_2': 0.043379800124287285,\n",
       " '0907_3': 0.06967327788304825,\n",
       " '1004_2': 0.076115194954967,\n",
       " '1004_3': 0.0624273884443075,\n",
       " '1031_2': 0.1502594817112412,\n",
       " '1031_3': 0.11073772855170314,\n",
       " '1127_2': 0.11704587990877138,\n",
       " '1127_3': 0.15614298300552332,\n",
       " '0216_1': 0.1098734456492097,\n",
       " '0216_2': 0.12631051284990513}"
      ]
     },
     "execution_count": 5,
     "metadata": {},
     "output_type": "execute_result"
    }
   ],
   "source": [
    "std_dict"
   ]
  },
  {
   "cell_type": "code",
   "execution_count": 6,
   "metadata": {},
   "outputs": [
    {
     "data": {
      "text/plain": [
       "{'0811': 284.48263636363635,\n",
       " '0907': 284.50718181818183,\n",
       " '1004': 284.499,\n",
       " '1031': 284.4926363636364}"
      ]
     },
     "execution_count": 6,
     "metadata": {},
     "output_type": "execute_result"
    }
   ],
   "source": [
    "key_list = ['0811','0907','1004','1031']\n",
    "gauge_mean_dict = {}\n",
    "for dk in key_list: \n",
    "    ts_gauge = imoda.get_gauge_data(dk)\n",
    "    gauge_mean_dict[dk] = np.mean(list(ts_gauge.values()))\n",
    "\n",
    "gauge_mean_dict"
   ]
  },
  {
   "cell_type": "code",
   "execution_count": 7,
   "metadata": {},
   "outputs": [
    {
     "data": {
      "text/plain": [
       "{datetime.datetime(2022, 10, 31, 8, 45, tzinfo=datetime.timezone.utc): 284.469,\n",
       " datetime.datetime(2022, 10, 31, 9, 0, tzinfo=datetime.timezone.utc): 284.469,\n",
       " datetime.datetime(2022, 10, 31, 9, 15, tzinfo=datetime.timezone.utc): 284.469,\n",
       " datetime.datetime(2022, 10, 31, 9, 30, tzinfo=datetime.timezone.utc): 284.469,\n",
       " datetime.datetime(2022, 10, 31, 9, 45, tzinfo=datetime.timezone.utc): 284.469,\n",
       " datetime.datetime(2022, 10, 31, 10, 0, tzinfo=datetime.timezone.utc): 284.479,\n",
       " datetime.datetime(2022, 10, 31, 10, 15, tzinfo=datetime.timezone.utc): 284.489,\n",
       " datetime.datetime(2022, 10, 31, 10, 30, tzinfo=datetime.timezone.utc): 284.519,\n",
       " datetime.datetime(2022, 10, 31, 10, 45, tzinfo=datetime.timezone.utc): 284.529,\n",
       " datetime.datetime(2022, 10, 31, 11, 0, tzinfo=datetime.timezone.utc): 284.529,\n",
       " datetime.datetime(2022, 10, 31, 11, 15, tzinfo=datetime.timezone.utc): 284.529}"
      ]
     },
     "execution_count": 7,
     "metadata": {},
     "output_type": "execute_result"
    }
   ],
   "source": [
    "ts_gauge"
   ]
  }
 ],
 "metadata": {
  "kernelspec": {
   "display_name": "gnss_ir",
   "language": "python",
   "name": "python3"
  },
  "language_info": {
   "codemirror_mode": {
    "name": "ipython",
    "version": 3
   },
   "file_extension": ".py",
   "mimetype": "text/x-python",
   "name": "python",
   "nbconvert_exporter": "python",
   "pygments_lexer": "ipython3",
   "version": "3.9.16"
  },
  "orig_nbformat": 4,
  "vscode": {
   "interpreter": {
    "hash": "899cbdd3e6d213a089c367d62ece5cdfd458181ffdb9574f74f7a7425a23b7e4"
   }
  }
 },
 "nbformat": 4,
 "nbformat_minor": 2
}
