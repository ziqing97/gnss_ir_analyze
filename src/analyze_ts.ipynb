{
 "cells": [
  {
   "cell_type": "code",
   "execution_count": 2,
   "metadata": {},
   "outputs": [],
   "source": [
    "import pickle\n",
    "\n",
    "import numpy as np\n",
    "\n",
    "import lib_import_other_datasource as imoda"
   ]
  },
  {
   "cell_type": "code",
   "execution_count": 2,
   "metadata": {},
   "outputs": [],
   "source": [
    "with open('../data/generated_data/kapitel4/timeseries/timeseries_ele5_50_azi265_340_time30_all.pkl', 'rb') as f:\n",
    "    ts_dict = pickle.load(f)\n",
    "\n",
    "key_list = ['0811_2','0811_3',\n",
    "            '0907_2','0907_3',\n",
    "            '1004_2','1004_3',\n",
    "            '1031_2','1031_3',\n",
    "            '1127_2','1127_3',\n",
    "            '0216_1','0216_2']\n",
    "\n",
    "retrack_method = 'OCES'\n",
    "mean_dict = {}\n",
    "std_dict = {}"
   ]
  },
  {
   "cell_type": "code",
   "execution_count": 4,
   "metadata": {},
   "outputs": [
    {
     "name": "stderr",
     "output_type": "stream",
     "text": [
      "/Users/yuziqing/Library/CloudStorage/OneDrive-个人/Studium/MA/gnss_ir_analyze/src/lib_import_other_datasource.py:29: FutureWarning: Calling float on a single element Series is deprecated and will raise a TypeError in the future. Use float(ser.iloc[0]) instead\n",
      "  ante_h['2'] = float(index['antenne2'])+0.2\n",
      "/Users/yuziqing/Library/CloudStorage/OneDrive-个人/Studium/MA/gnss_ir_analyze/src/lib_import_other_datasource.py:30: FutureWarning: Calling float on a single element Series is deprecated and will raise a TypeError in the future. Use float(ser.iloc[0]) instead\n",
      "  ante_h['3'] = float(index['antenne3'])+0.2\n",
      "/Users/yuziqing/Library/CloudStorage/OneDrive-个人/Studium/MA/gnss_ir_analyze/src/lib_import_other_datasource.py:29: FutureWarning: Calling float on a single element Series is deprecated and will raise a TypeError in the future. Use float(ser.iloc[0]) instead\n",
      "  ante_h['2'] = float(index['antenne2'])+0.2\n",
      "/Users/yuziqing/Library/CloudStorage/OneDrive-个人/Studium/MA/gnss_ir_analyze/src/lib_import_other_datasource.py:30: FutureWarning: Calling float on a single element Series is deprecated and will raise a TypeError in the future. Use float(ser.iloc[0]) instead\n",
      "  ante_h['3'] = float(index['antenne3'])+0.2\n",
      "/Users/yuziqing/Library/CloudStorage/OneDrive-个人/Studium/MA/gnss_ir_analyze/src/lib_import_other_datasource.py:29: FutureWarning: Calling float on a single element Series is deprecated and will raise a TypeError in the future. Use float(ser.iloc[0]) instead\n",
      "  ante_h['2'] = float(index['antenne2'])+0.2\n",
      "/Users/yuziqing/Library/CloudStorage/OneDrive-个人/Studium/MA/gnss_ir_analyze/src/lib_import_other_datasource.py:30: FutureWarning: Calling float on a single element Series is deprecated and will raise a TypeError in the future. Use float(ser.iloc[0]) instead\n",
      "  ante_h['3'] = float(index['antenne3'])+0.2\n",
      "/Users/yuziqing/Library/CloudStorage/OneDrive-个人/Studium/MA/gnss_ir_analyze/src/lib_import_other_datasource.py:29: FutureWarning: Calling float on a single element Series is deprecated and will raise a TypeError in the future. Use float(ser.iloc[0]) instead\n",
      "  ante_h['2'] = float(index['antenne2'])+0.2\n",
      "/Users/yuziqing/Library/CloudStorage/OneDrive-个人/Studium/MA/gnss_ir_analyze/src/lib_import_other_datasource.py:30: FutureWarning: Calling float on a single element Series is deprecated and will raise a TypeError in the future. Use float(ser.iloc[0]) instead\n",
      "  ante_h['3'] = float(index['antenne3'])+0.2\n",
      "/Users/yuziqing/Library/CloudStorage/OneDrive-个人/Studium/MA/gnss_ir_analyze/src/lib_import_other_datasource.py:29: FutureWarning: Calling float on a single element Series is deprecated and will raise a TypeError in the future. Use float(ser.iloc[0]) instead\n",
      "  ante_h['2'] = float(index['antenne2'])+0.2\n",
      "/Users/yuziqing/Library/CloudStorage/OneDrive-个人/Studium/MA/gnss_ir_analyze/src/lib_import_other_datasource.py:30: FutureWarning: Calling float on a single element Series is deprecated and will raise a TypeError in the future. Use float(ser.iloc[0]) instead\n",
      "  ante_h['3'] = float(index['antenne3'])+0.2\n",
      "/Users/yuziqing/Library/CloudStorage/OneDrive-个人/Studium/MA/gnss_ir_analyze/src/lib_import_other_datasource.py:29: FutureWarning: Calling float on a single element Series is deprecated and will raise a TypeError in the future. Use float(ser.iloc[0]) instead\n",
      "  ante_h['2'] = float(index['antenne2'])+0.2\n",
      "/Users/yuziqing/Library/CloudStorage/OneDrive-个人/Studium/MA/gnss_ir_analyze/src/lib_import_other_datasource.py:30: FutureWarning: Calling float on a single element Series is deprecated and will raise a TypeError in the future. Use float(ser.iloc[0]) instead\n",
      "  ante_h['3'] = float(index['antenne3'])+0.2\n",
      "/Users/yuziqing/Library/CloudStorage/OneDrive-个人/Studium/MA/gnss_ir_analyze/src/lib_import_other_datasource.py:29: FutureWarning: Calling float on a single element Series is deprecated and will raise a TypeError in the future. Use float(ser.iloc[0]) instead\n",
      "  ante_h['2'] = float(index['antenne2'])+0.2\n",
      "/Users/yuziqing/Library/CloudStorage/OneDrive-个人/Studium/MA/gnss_ir_analyze/src/lib_import_other_datasource.py:30: FutureWarning: Calling float on a single element Series is deprecated and will raise a TypeError in the future. Use float(ser.iloc[0]) instead\n",
      "  ante_h['3'] = float(index['antenne3'])+0.2\n",
      "/Users/yuziqing/Library/CloudStorage/OneDrive-个人/Studium/MA/gnss_ir_analyze/src/lib_import_other_datasource.py:29: FutureWarning: Calling float on a single element Series is deprecated and will raise a TypeError in the future. Use float(ser.iloc[0]) instead\n",
      "  ante_h['2'] = float(index['antenne2'])+0.2\n",
      "/Users/yuziqing/Library/CloudStorage/OneDrive-个人/Studium/MA/gnss_ir_analyze/src/lib_import_other_datasource.py:30: FutureWarning: Calling float on a single element Series is deprecated and will raise a TypeError in the future. Use float(ser.iloc[0]) instead\n",
      "  ante_h['3'] = float(index['antenne3'])+0.2\n",
      "/Users/yuziqing/Library/CloudStorage/OneDrive-个人/Studium/MA/gnss_ir_analyze/src/lib_import_other_datasource.py:29: FutureWarning: Calling float on a single element Series is deprecated and will raise a TypeError in the future. Use float(ser.iloc[0]) instead\n",
      "  ante_h['2'] = float(index['antenne2'])+0.2\n",
      "/Users/yuziqing/Library/CloudStorage/OneDrive-个人/Studium/MA/gnss_ir_analyze/src/lib_import_other_datasource.py:30: FutureWarning: Calling float on a single element Series is deprecated and will raise a TypeError in the future. Use float(ser.iloc[0]) instead\n",
      "  ante_h['3'] = float(index['antenne3'])+0.2\n",
      "/Users/yuziqing/Library/CloudStorage/OneDrive-个人/Studium/MA/gnss_ir_analyze/src/lib_import_other_datasource.py:29: FutureWarning: Calling float on a single element Series is deprecated and will raise a TypeError in the future. Use float(ser.iloc[0]) instead\n",
      "  ante_h['2'] = float(index['antenne2'])+0.2\n",
      "/Users/yuziqing/Library/CloudStorage/OneDrive-个人/Studium/MA/gnss_ir_analyze/src/lib_import_other_datasource.py:30: FutureWarning: Calling float on a single element Series is deprecated and will raise a TypeError in the future. Use float(ser.iloc[0]) instead\n",
      "  ante_h['3'] = float(index['antenne3'])+0.2\n",
      "/Users/yuziqing/Library/CloudStorage/OneDrive-个人/Studium/MA/gnss_ir_analyze/src/lib_import_other_datasource.py:22: FutureWarning: Calling float on a single element Series is deprecated and will raise a TypeError in the future. Use float(ser.iloc[0]) instead\n",
      "  ante_h['1'] = float(index['antenne1'])\n",
      "/Users/yuziqing/Library/CloudStorage/OneDrive-个人/Studium/MA/gnss_ir_analyze/src/lib_import_other_datasource.py:23: FutureWarning: Calling float on a single element Series is deprecated and will raise a TypeError in the future. Use float(ser.iloc[0]) instead\n",
      "  ante_h['2'] = float(index['antenne2'])+0.2\n",
      "/Users/yuziqing/Library/CloudStorage/OneDrive-个人/Studium/MA/gnss_ir_analyze/src/lib_import_other_datasource.py:24: FutureWarning: Calling float on a single element Series is deprecated and will raise a TypeError in the future. Use float(ser.iloc[0]) instead\n",
      "  ante_h['2r'] = float(index['antenne2r'])\n",
      "/Users/yuziqing/Library/CloudStorage/OneDrive-个人/Studium/MA/gnss_ir_analyze/src/lib_import_other_datasource.py:22: FutureWarning: Calling float on a single element Series is deprecated and will raise a TypeError in the future. Use float(ser.iloc[0]) instead\n",
      "  ante_h['1'] = float(index['antenne1'])\n",
      "/Users/yuziqing/Library/CloudStorage/OneDrive-个人/Studium/MA/gnss_ir_analyze/src/lib_import_other_datasource.py:23: FutureWarning: Calling float on a single element Series is deprecated and will raise a TypeError in the future. Use float(ser.iloc[0]) instead\n",
      "  ante_h['2'] = float(index['antenne2'])+0.2\n",
      "/Users/yuziqing/Library/CloudStorage/OneDrive-个人/Studium/MA/gnss_ir_analyze/src/lib_import_other_datasource.py:24: FutureWarning: Calling float on a single element Series is deprecated and will raise a TypeError in the future. Use float(ser.iloc[0]) instead\n",
      "  ante_h['2r'] = float(index['antenne2r'])\n"
     ]
    }
   ],
   "source": [
    "for dk in key_list:\n",
    "    date = dk[0:4]\n",
    "    ant = dk[-1]\n",
    "    ts = ts_dict['ts'][dk]\n",
    "    ante_h = imoda.get_antenne_height(date)[ant]\n",
    "    h_mean = ante_h-np.nanmean(list(ts.values()))\n",
    "    h_std = np.nanstd(list(ts.values()))\n",
    "    mean_dict[dk] = h_mean\n",
    "    std_dict[dk] = h_std"
   ]
  },
  {
   "cell_type": "code",
   "execution_count": 5,
   "metadata": {},
   "outputs": [
    {
     "data": {
      "text/plain": [
       "{'0811_2': 284.66787334871094,\n",
       " '0811_3': 284.4889702149865,\n",
       " '0907_2': 284.48972975846124,\n",
       " '0907_3': 284.47158060600407,\n",
       " '1004_2': 284.450103105731,\n",
       " '1004_3': 284.526449436466,\n",
       " '1031_2': 284.52746553948504,\n",
       " '1031_3': 284.52683065080754,\n",
       " '1127_2': 284.5181818902419,\n",
       " '1127_3': 284.6375798206299,\n",
       " '0216_1': 284.1860090160684,\n",
       " '0216_2': 284.30273155383577}"
      ]
     },
     "execution_count": 5,
     "metadata": {},
     "output_type": "execute_result"
    }
   ],
   "source": [
    "mean_dict"
   ]
  },
  {
   "cell_type": "code",
   "execution_count": 6,
   "metadata": {},
   "outputs": [
    {
     "data": {
      "text/plain": [
       "{'0811_2': 0.20990737984602653,\n",
       " '0811_3': 0.1273573668054923,\n",
       " '0907_2': 0.13419317323916308,\n",
       " '0907_3': 0.11356494163255497,\n",
       " '1004_2': 0.08501205467502139,\n",
       " '1004_3': 0.07841148790975476,\n",
       " '1031_2': 0.15962104473330022,\n",
       " '1031_3': 0.14604357864658285,\n",
       " '1127_2': 0.1772551469609076,\n",
       " '1127_3': 0.17207062255417852,\n",
       " '0216_1': 0.1280961225557677,\n",
       " '0216_2': 0.15374450580455026}"
      ]
     },
     "execution_count": 6,
     "metadata": {},
     "output_type": "execute_result"
    }
   ],
   "source": [
    "std_dict"
   ]
  },
  {
   "cell_type": "code",
   "execution_count": 8,
   "metadata": {},
   "outputs": [
    {
     "data": {
      "text/plain": [
       "{'0811': 284.48263636363635,\n",
       " '0907': 284.50718181818183,\n",
       " '1004': 284.499,\n",
       " '1031': 284.4926363636364}"
      ]
     },
     "execution_count": 8,
     "metadata": {},
     "output_type": "execute_result"
    }
   ],
   "source": [
    "key_list = ['0811','0907','1004','1031']\n",
    "gauge_mean_dict = {}\n",
    "for dk in key_list: \n",
    "    ts_gauge = imoda.get_gauge_data(dk)\n",
    "    gauge_mean_dict[dk] = np.mean(list(ts_gauge.values()))\n",
    "\n",
    "gauge_mean_dict"
   ]
  },
  {
   "cell_type": "code",
   "execution_count": 7,
   "metadata": {},
   "outputs": [
    {
     "data": {
      "text/plain": [
       "{datetime.datetime(2022, 10, 31, 8, 45, tzinfo=datetime.timezone.utc): 284.469,\n",
       " datetime.datetime(2022, 10, 31, 9, 0, tzinfo=datetime.timezone.utc): 284.469,\n",
       " datetime.datetime(2022, 10, 31, 9, 15, tzinfo=datetime.timezone.utc): 284.469,\n",
       " datetime.datetime(2022, 10, 31, 9, 30, tzinfo=datetime.timezone.utc): 284.469,\n",
       " datetime.datetime(2022, 10, 31, 9, 45, tzinfo=datetime.timezone.utc): 284.469,\n",
       " datetime.datetime(2022, 10, 31, 10, 0, tzinfo=datetime.timezone.utc): 284.479,\n",
       " datetime.datetime(2022, 10, 31, 10, 15, tzinfo=datetime.timezone.utc): 284.489,\n",
       " datetime.datetime(2022, 10, 31, 10, 30, tzinfo=datetime.timezone.utc): 284.519,\n",
       " datetime.datetime(2022, 10, 31, 10, 45, tzinfo=datetime.timezone.utc): 284.529,\n",
       " datetime.datetime(2022, 10, 31, 11, 0, tzinfo=datetime.timezone.utc): 284.529,\n",
       " datetime.datetime(2022, 10, 31, 11, 15, tzinfo=datetime.timezone.utc): 284.529}"
      ]
     },
     "execution_count": 7,
     "metadata": {},
     "output_type": "execute_result"
    }
   ],
   "source": [
    "ts_gauge"
   ]
  }
 ],
 "metadata": {
  "kernelspec": {
   "display_name": "gnss_ir",
   "language": "python",
   "name": "python3"
  },
  "language_info": {
   "codemirror_mode": {
    "name": "ipython",
    "version": 3
   },
   "file_extension": ".py",
   "mimetype": "text/x-python",
   "name": "python",
   "nbconvert_exporter": "python",
   "pygments_lexer": "ipython3",
   "version": "3.9.16"
  },
  "orig_nbformat": 4,
  "vscode": {
   "interpreter": {
    "hash": "899cbdd3e6d213a089c367d62ece5cdfd458181ffdb9574f74f7a7425a23b7e4"
   }
  }
 },
 "nbformat": 4,
 "nbformat_minor": 2
}
