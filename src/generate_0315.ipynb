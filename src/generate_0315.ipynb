{
 "cells": [
  {
   "cell_type": "code",
   "execution_count": 1,
   "metadata": {},
   "outputs": [],
   "source": [
    "from datetime import datetime,timezone\n",
    "import os\n",
    "import pickle\n",
    "\n",
    "from tqdm import tqdm\n",
    "\n",
    "from lib_data_process import libDataProcess as dapr"
   ]
  },
  {
   "cell_type": "code",
   "execution_count": 2,
   "metadata": {},
   "outputs": [],
   "source": [
    "path_list = [os.path.abspath('../data/20230315/1_1/'),\n",
    "             os.path.abspath('../data/20230315/1_2/'),\n",
    "             os.path.abspath('../data/20230315/4_1/'),\n",
    "             os.path.abspath('../data/20230315/4_2/')]\n",
    "\n",
    "starttime_list = [datetime(year=2023,month=3,day=15,hour=7,minute=0,second=0,tzinfo=timezone.utc),\n",
    "                  datetime(year=2023,month=3,day=15,hour=7,minute=0,second=0,tzinfo=timezone.utc),\n",
    "                  datetime(year=2023,month=3,day=15,hour=7,minute=0,second=0,tzinfo=timezone.utc),\n",
    "                  datetime(year=2023,month=3,day=15,hour=7,minute=0,second=0,tzinfo=timezone.utc)]\n",
    "\n",
    "endtime_list = [datetime(year=2023,month=3,day=15,hour=15,minute=0,second=0,tzinfo=timezone.utc),\n",
    "                datetime(year=2023,month=3,day=15,hour=15,minute=0,second=0,tzinfo=timezone.utc),\n",
    "                datetime(year=2023,month=3,day=15,hour=15,minute=0,second=0,tzinfo=timezone.utc),\n",
    "                datetime(year=2023,month=3,day=15,hour=15,minute=0,second=0,tzinfo=timezone.utc)]\n",
    "\n",
    "key_list = ['0315_11','0315_12','0315_r1','0315_r2']\n",
    "\n"
   ]
  },
  {
   "cell_type": "code",
   "execution_count": 3,
   "metadata": {},
   "outputs": [
    {
     "name": "stderr",
     "output_type": "stream",
     "text": [
      "4it [1:01:48, 927.19s/it]\n"
     ]
    }
   ],
   "source": [
    "azimut_mask = [280,320]\n",
    "elevation_mask = [5,50]\n",
    "min_height = 2.5\n",
    "max_height = 3.5\n",
    "t_range = 30\n",
    "sample_rate = 1\n",
    "ts_dict = {}\n",
    "count_ts = {}\n",
    "snr_list = ['snr1','snr2','snr5','snr7','snr8']\n",
    "for path,st,et,key in tqdm(zip(path_list,starttime_list,endtime_list,key_list)):\n",
    "    dapr_case = dapr()\n",
    "    ts_dict[key],count_ts[key] = dapr_case.generate_timeseries(path, azimut_mask, elevation_mask, min_height, max_height, t_range, st, et, snr_list, sample_rate)\n",
    "result_dict = {'ts':ts_dict,'count':count_ts,'periodgram':dapr_case.power_list}\n",
    "with open(f'../data/generated_data/timeseries_ele{elevation_mask[0]}_{elevation_mask[1]}_azi{azimut_mask[0]}_{azimut_mask[1]}_time{t_range}_0315_all.pkl', 'wb') as f:\n",
    "    pickle.dump(result_dict, f)"
   ]
  }
 ],
 "metadata": {
  "kernelspec": {
   "display_name": "gnss_ir",
   "language": "python",
   "name": "python3"
  },
  "language_info": {
   "codemirror_mode": {
    "name": "ipython",
    "version": 3
   },
   "file_extension": ".py",
   "mimetype": "text/x-python",
   "name": "python",
   "nbconvert_exporter": "python",
   "pygments_lexer": "ipython3",
   "version": "3.9.12"
  },
  "orig_nbformat": 4
 },
 "nbformat": 4,
 "nbformat_minor": 2
}
