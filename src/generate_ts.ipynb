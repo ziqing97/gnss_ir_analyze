{
 "cells": [
  {
   "cell_type": "code",
   "execution_count": 1,
   "metadata": {},
   "outputs": [],
   "source": [
    "from datetime import datetime,timezone\n",
    "import os\n",
    "import pickle\n",
    "from tqdm import tqdm\n",
    "\n",
    "from lib_data_process import libDataProcess as dapr"
   ]
  },
  {
   "cell_type": "code",
   "execution_count": 2,
   "metadata": {},
   "outputs": [],
   "source": [
    "path_list = [os.path.abspath('../data/20220811/2/'),\n",
    "             os.path.abspath('../data/20220811/3/'),\n",
    "             os.path.abspath('../data/20220907/2/'),\n",
    "             os.path.abspath('../data/20220907/3/'),\n",
    "             os.path.abspath('../data/20221004/2/'),\n",
    "             os.path.abspath('../data/20221004/3/'),\n",
    "             os.path.abspath('../data/20221031/2/'),\n",
    "             os.path.abspath('../data/20221031/3/'),\n",
    "             os.path.abspath('../data/20221127/2/'),\n",
    "             os.path.abspath('../data/20221127/3/'),\n",
    "             os.path.abspath('../data/20230216/1/'),\n",
    "             os.path.abspath('../data/20230216/2/')]\n",
    "\n",
    "starttime_list = [datetime(year=2022,month=8,day=11,hour=8,minute=0,second=0,tzinfo=timezone.utc),\n",
    "                  datetime(year=2022,month=8,day=11,hour=8,minute=0,second=0,tzinfo=timezone.utc),\n",
    "                  datetime(year=2022,month=9,day=7,hour=8,minute=0,second=0,tzinfo=timezone.utc),\n",
    "                  datetime(year=2022,month=9,day=7,hour=8,minute=0,second=0,tzinfo=timezone.utc),\n",
    "                  datetime(year=2022,month=10,day=4,hour=8,minute=0,second=0,tzinfo=timezone.utc),\n",
    "                  datetime(year=2022,month=10,day=4,hour=8,minute=0,second=0,tzinfo=timezone.utc),\n",
    "                  datetime(year=2022,month=10,day=31,hour=8,minute=0,second=0,tzinfo=timezone.utc),\n",
    "                  datetime(year=2022,month=10,day=31,hour=8,minute=0,second=0,tzinfo=timezone.utc),\n",
    "                  datetime(year=2022,month=11,day=27,hour=8,minute=0,second=0,tzinfo=timezone.utc),\n",
    "                  datetime(year=2022,month=11,day=27,hour=8,minute=0,second=0,tzinfo=timezone.utc),\n",
    "                  datetime(year=2023,month=2,day=16,hour=7,minute=0,second=0,tzinfo=timezone.utc),\n",
    "                  datetime(year=2023,month=2,day=16,hour=7,minute=0,second=0,tzinfo=timezone.utc)]\n",
    "\n",
    "endtime_list = [datetime(year=2022,month=8,day=11,hour=14,minute=0,second=0,tzinfo=timezone.utc),\n",
    "            datetime(year=2022,month=8,day=11,hour=14,minute=0,second=0,tzinfo=timezone.utc),\n",
    "            datetime(year=2022,month=9,day=7,hour=14,minute=0,second=0,tzinfo=timezone.utc),\n",
    "            datetime(year=2022,month=9,day=7,hour=14,minute=0,second=0,tzinfo=timezone.utc),\n",
    "            datetime(year=2022,month=10,day=4,hour=14,minute=0,second=0,tzinfo=timezone.utc),\n",
    "            datetime(year=2022,month=10,day=4,hour=14,minute=0,second=0,tzinfo=timezone.utc),\n",
    "            datetime(year=2022,month=10,day=31,hour=14,minute=0,second=0,tzinfo=timezone.utc),\n",
    "            datetime(year=2022,month=10,day=31,hour=14,minute=0,second=0,tzinfo=timezone.utc),\n",
    "            datetime(year=2022,month=11,day=27,hour=14,minute=0,second=0,tzinfo=timezone.utc),\n",
    "            datetime(year=2022,month=11,day=27,hour=14,minute=0,second=0,tzinfo=timezone.utc),\n",
    "            datetime(year=2023,month=2,day=16,hour=19,minute=0,second=0,tzinfo=timezone.utc),\n",
    "            datetime(year=2023,month=2,day=16,hour=19,minute=0,second=0,tzinfo=timezone.utc)]\n",
    "\n",
    "key_list = ['0811_2','0811_3',\n",
    "            '0907_2','0907_3',\n",
    "            '1004_2','1004_3',\n",
    "            '1031_2','1031_3',\n",
    "            '1127_2','1127_3',\n",
    "            '0216_1','0216_2']\n",
    "\n"
   ]
  },
  {
   "cell_type": "code",
   "execution_count": 3,
   "metadata": {},
   "outputs": [
    {
     "name": "stderr",
     "output_type": "stream",
     "text": [
      "0it [00:00, ?it/s]"
     ]
    },
    {
     "name": "stderr",
     "output_type": "stream",
     "text": [
      "12it [4:22:18, 1311.51s/it]\n"
     ]
    }
   ],
   "source": [
    "azimut_mask = [265,340]\n",
    "elevation_mask = [5,32]\n",
    "min_height = 2.5\n",
    "max_height = 3.5\n",
    "t_range = 39\n",
    "sample_rate = 1\n",
    "ts_dict = {}\n",
    "count_ts = {}\n",
    "uc_ts = {}\n",
    "snr_list = ['snr1','snr2','snr5','snr7','snr8']\n",
    "for path,st,et,key in tqdm(zip(path_list,starttime_list,endtime_list,key_list)):\n",
    "    dapr_case = dapr()\n",
    "    ts_dict[key], uc_ts[key], count_ts[key] = dapr_case.generate_timeseries(path, azimut_mask, elevation_mask, min_height, max_height, t_range, st, et, snr_list, sample_rate)\n",
    "result_dict = {'ts':ts_dict,'uc_ts':uc_ts,'count':count_ts,'periodgram':dapr_case.power_list}\n",
    "with open(f'../data/generated_data/kapitel4/timeseries/timeseries_ele{elevation_mask[0]}_{elevation_mask[1]}_azi{azimut_mask[0]}_{azimut_mask[1]}_time{t_range}_all.pkl', 'wb') as f:\n",
    "    pickle.dump(result_dict, f)"
   ]
  },
  {
   "cell_type": "code",
   "execution_count": 4,
   "metadata": {},
   "outputs": [
    {
     "name": "stderr",
     "output_type": "stream",
     "text": [
      "1it [12:11, 731.84s/it]\n"
     ]
    }
   ],
   "source": [
    "path_list = [os.path.abspath('../data/20230216/2_rotate/')]\n",
    "starttime_list = [datetime(year=2023,month=2,day=16,hour=7,minute=0,second=0,tzinfo=timezone.utc)]\n",
    "endtime_list = [datetime(year=2023,month=2,day=16,hour=19,minute=0,second=0,tzinfo=timezone.utc)]\n",
    "key_list = ['0216_r']\n",
    "\n",
    "\n",
    "azimut_mask = [265,340]\n",
    "elevation_mask = [5,40]\n",
    "min_height = 2.5\n",
    "max_height = 3.5\n",
    "t_range = 30 # minutes\n",
    "sample_rate = 1 # seconds\n",
    "ts_dict = {}\n",
    "count_ts = {}\n",
    "uc_ts = {}\n",
    "snr_list = ['snr1','snr2','snr5','snr7','snr8']\n",
    "for path,st,et,key in tqdm(zip(path_list,starttime_list,endtime_list,key_list)):\n",
    "    dapr_case = dapr()\n",
    "    ts_dict[key], uc_ts[key], count_ts[key] = dapr_case.generate_timeseries(path, azimut_mask, elevation_mask, min_height, max_height, t_range, st, et, snr_list, sample_rate)\n",
    "result_dict = {'ts':ts_dict,'uc_ts':uc_ts,'count':count_ts,'periodgram':dapr_case.power_list}\n",
    "with open(f'../data/generated_data/ts0216_rotate.pkl', 'wb') as f:\n",
    "    pickle.dump(result_dict, f)"
   ]
  },
  {
   "cell_type": "code",
   "execution_count": 5,
   "metadata": {},
   "outputs": [
    {
     "name": "stderr",
     "output_type": "stream",
     "text": [
      "2it [36:59, 1109.66s/it]\n"
     ]
    }
   ],
   "source": [
    "path_list = [os.path.abspath('../data/20230315/1_1/'),\n",
    "             os.path.abspath('../data/20230315/1_2/')]\n",
    "starttime_list = [datetime(year=2023,month=3,day=15,hour=7,minute=0,second=0,tzinfo=timezone.utc),\n",
    "                  datetime(year=2023,month=3,day=15,hour=7,minute=0,second=0,tzinfo=timezone.utc)]\n",
    "endtime_list = [datetime(year=2023,month=3,day=15,hour=15,minute=0,second=0,tzinfo=timezone.utc),\n",
    "                datetime(year=2023,month=3,day=15,hour=15,minute=0,second=0,tzinfo=timezone.utc)]\n",
    "key_list = ['0315_11','0315_12']\n",
    "\n",
    "azimut_mask = [265,340]\n",
    "elevation_mask = [5,32]\n",
    "min_height = 2.5\n",
    "max_height = 3.5\n",
    "t_range = 39\n",
    "sample_rate = 1\n",
    "ts_dict = {}\n",
    "count_ts = {}\n",
    "uc_ts = {}\n",
    "snr_list = ['snr1','snr2','snr5','snr7','snr8']\n",
    "for path,st,et,key in tqdm(zip(path_list,starttime_list,endtime_list,key_list)):\n",
    "    dapr_case = dapr()\n",
    "    ts_dict[key], uc_ts[key], count_ts[key] = dapr_case.generate_timeseries(path, azimut_mask, elevation_mask, min_height, max_height, t_range, st, et, snr_list, sample_rate)\n",
    "result_dict = {'ts':ts_dict,'uc_ts':uc_ts,'count':count_ts,'periodgram':dapr_case.power_list}\n",
    "with open(f'../data/generated_data/ts0315_2.pkl', 'wb') as f:\n",
    "    pickle.dump(result_dict, f)"
   ]
  },
  {
   "cell_type": "code",
   "execution_count": 6,
   "metadata": {},
   "outputs": [
    {
     "name": "stderr",
     "output_type": "stream",
     "text": [
      "2it [36:28, 1094.38s/it]\n"
     ]
    }
   ],
   "source": [
    "path_list = [os.path.abspath('../data/20230315/4_1/'),\n",
    "             os.path.abspath('../data/20230315/4_2/')]\n",
    "\n",
    "starttime_list = [datetime(year=2023,month=3,day=15,hour=7,minute=0,second=0,tzinfo=timezone.utc),\n",
    "                  datetime(year=2023,month=3,day=15,hour=7,minute=0,second=0,tzinfo=timezone.utc)]\n",
    "\n",
    "endtime_list = [datetime(year=2023,month=3,day=15,hour=15,minute=0,second=0,tzinfo=timezone.utc),\n",
    "                datetime(year=2023,month=3,day=15,hour=15,minute=0,second=0,tzinfo=timezone.utc)]\n",
    "\n",
    "key_list = ['0315_r1','0315_r2']\n",
    "\n",
    "azimut_mask = [265,340]\n",
    "elevation_mask = [5,60]\n",
    "min_height = 2.5\n",
    "max_height = 3.5\n",
    "t_range = 30\n",
    "sample_rate = 1\n",
    "ts_dict = {}\n",
    "count_ts = {}\n",
    "uc_ts = {}\n",
    "snr_list = ['snr1','snr2','snr5','snr7','snr8']\n",
    "for path,st,et,key in tqdm(zip(path_list,starttime_list,endtime_list,key_list)):\n",
    "    dapr_case = dapr()\n",
    "    ts_dict[key], uc_ts[key], count_ts[key] = dapr_case.generate_timeseries(path, azimut_mask, elevation_mask, min_height, max_height, t_range, st, et, snr_list, sample_rate)\n",
    "result_dict = {'ts':ts_dict,'uc_ts':uc_ts,'count':count_ts,'periodgram':dapr_case.power_list}\n",
    "with open(f'../data/generated_data/ts0315.pkl', 'wb') as f:\n",
    "    pickle.dump(result_dict, f)"
   ]
  },
  {
   "cell_type": "code",
   "execution_count": 2,
   "metadata": {},
   "outputs": [
    {
     "name": "stderr",
     "output_type": "stream",
     "text": [
      "1it [11:18, 678.98s/it]\n"
     ]
    }
   ],
   "source": [
    "path_list = [os.path.abspath('../data/20230216/2_rotate/')]\n",
    "starttime_list = [datetime(year=2023,month=2,day=16,hour=7,minute=0,second=0,tzinfo=timezone.utc)]\n",
    "endtime_list = [datetime(year=2023,month=2,day=16,hour=19,minute=0,second=0,tzinfo=timezone.utc)]\n",
    "key_list = ['0216_r']\n",
    "\n",
    "\n",
    "azimut_mask = [270,330]\n",
    "elevation_mask = [5,30]\n",
    "min_height = 2.5\n",
    "max_height = 3.5\n",
    "t_range = 30 # minutes\n",
    "sample_rate = 1 # seconds\n",
    "ts_dict = {}\n",
    "count_ts = {}\n",
    "uc_ts = {}\n",
    "snr_list = ['snr1','snr2','snr5','snr7','snr8']\n",
    "for path,st,et,key in tqdm(zip(path_list,starttime_list,endtime_list,key_list)):\n",
    "    dapr_case = dapr()\n",
    "    ts_dict[key], uc_ts[key], count_ts[key] = dapr_case.generate_timeseries(path, azimut_mask, elevation_mask, min_height, max_height, t_range, st, et, snr_list, sample_rate)\n",
    "result_dict = {'ts':ts_dict,'uc_ts':uc_ts,'count':count_ts,'periodgram':dapr_case.power_list}\n",
    "with open(f'../data/generated_data/for_example.pkl', 'wb') as f:\n",
    "    pickle.dump(result_dict, f)"
   ]
  }
 ],
 "metadata": {
  "kernelspec": {
   "display_name": "gnss_ir",
   "language": "python",
   "name": "python3"
  },
  "language_info": {
   "codemirror_mode": {
    "name": "ipython",
    "version": 3
   },
   "file_extension": ".py",
   "mimetype": "text/x-python",
   "name": "python",
   "nbconvert_exporter": "python",
   "pygments_lexer": "ipython3",
   "version": "3.9.12"
  },
  "orig_nbformat": 4,
  "vscode": {
   "interpreter": {
    "hash": "899cbdd3e6d213a089c367d62ece5cdfd458181ffdb9574f74f7a7425a23b7e4"
   }
  }
 },
 "nbformat": 4,
 "nbformat_minor": 2
}
