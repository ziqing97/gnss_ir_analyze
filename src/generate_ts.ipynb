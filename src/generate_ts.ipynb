{
 "cells": [
  {
   "cell_type": "code",
   "execution_count": 1,
   "metadata": {},
   "outputs": [],
   "source": [
    "from datetime import datetime,timezone\n",
    "import os\n",
    "import pickle\n",
    "\n",
    "from tqdm import tqdm\n",
    "\n",
    "from lib_data_process import libDataProcess as dapr"
   ]
  },
  {
   "cell_type": "code",
   "execution_count": 2,
   "metadata": {},
   "outputs": [],
   "source": [
    "path_list = [os.path.abspath('../data/20220811/2/'),\n",
    "             os.path.abspath('../data/20220811/3/'),\n",
    "             os.path.abspath('../data/20220907/2/'),\n",
    "             os.path.abspath('../data/20220907/3/'),\n",
    "             os.path.abspath('../data/20221004/2/'),\n",
    "             os.path.abspath('../data/20221004/3/'),\n",
    "             os.path.abspath('../data/20221031/2/'),\n",
    "             os.path.abspath('../data/20221031/3/'),\n",
    "             os.path.abspath('../data/20221127/2/'),\n",
    "             os.path.abspath('../data/20221127/3/'),\n",
    "             os.path.abspath('../data/20230216/1/'),\n",
    "             os.path.abspath('../data/20230216/2/')]\n",
    "\n",
    "starttime_list = [datetime(year=2022,month=8,day=11,hour=8,minute=0,second=0,tzinfo=timezone.utc),\n",
    "                  datetime(year=2022,month=8,day=11,hour=8,minute=0,second=0,tzinfo=timezone.utc),\n",
    "                  datetime(year=2022,month=9,day=7,hour=8,minute=0,second=0,tzinfo=timezone.utc),\n",
    "                  datetime(year=2022,month=9,day=7,hour=8,minute=0,second=0,tzinfo=timezone.utc),\n",
    "                  datetime(year=2022,month=10,day=4,hour=8,minute=0,second=0,tzinfo=timezone.utc),\n",
    "                  datetime(year=2022,month=10,day=4,hour=8,minute=0,second=0,tzinfo=timezone.utc),\n",
    "                  datetime(year=2022,month=10,day=31,hour=8,minute=0,second=0,tzinfo=timezone.utc),\n",
    "                  datetime(year=2022,month=10,day=31,hour=8,minute=0,second=0,tzinfo=timezone.utc),\n",
    "                  datetime(year=2022,month=11,day=27,hour=8,minute=0,second=0,tzinfo=timezone.utc),\n",
    "                  datetime(year=2022,month=11,day=27,hour=8,minute=0,second=0,tzinfo=timezone.utc),\n",
    "                  datetime(year=2023,month=2,day=16,hour=7,minute=0,second=0,tzinfo=timezone.utc),\n",
    "                  datetime(year=2023,month=2,day=16,hour=7,minute=0,second=0,tzinfo=timezone.utc)]\n",
    "\n",
    "endtime_list = [datetime(year=2022,month=8,day=11,hour=14,minute=0,second=0,tzinfo=timezone.utc),\n",
    "            datetime(year=2022,month=8,day=11,hour=14,minute=0,second=0,tzinfo=timezone.utc),\n",
    "            datetime(year=2022,month=9,day=7,hour=14,minute=0,second=0,tzinfo=timezone.utc),\n",
    "            datetime(year=2022,month=9,day=7,hour=14,minute=0,second=0,tzinfo=timezone.utc),\n",
    "            datetime(year=2022,month=10,day=4,hour=14,minute=0,second=0,tzinfo=timezone.utc),\n",
    "            datetime(year=2022,month=10,day=4,hour=14,minute=0,second=0,tzinfo=timezone.utc),\n",
    "            datetime(year=2022,month=10,day=31,hour=14,minute=0,second=0,tzinfo=timezone.utc),\n",
    "            datetime(year=2022,month=10,day=31,hour=14,minute=0,second=0,tzinfo=timezone.utc),\n",
    "            datetime(year=2022,month=11,day=27,hour=14,minute=0,second=0,tzinfo=timezone.utc),\n",
    "            datetime(year=2022,month=11,day=27,hour=14,minute=0,second=0,tzinfo=timezone.utc),\n",
    "            datetime(year=2023,month=2,day=16,hour=19,minute=0,second=0,tzinfo=timezone.utc),\n",
    "            datetime(year=2023,month=2,day=16,hour=19,minute=0,second=0,tzinfo=timezone.utc)]\n",
    "\n",
    "key_list = ['0811_2','0811_3',\n",
    "            '0907_2','0907_3',\n",
    "            '1004_2','1004_3',\n",
    "            '1031_2','1031_3',\n",
    "            '1127_2','1127_3',\n",
    "            '0216_1','0216_2']\n",
    "\n"
   ]
  },
  {
   "cell_type": "code",
   "execution_count": 3,
   "metadata": {},
   "outputs": [
    {
     "name": "stderr",
     "output_type": "stream",
     "text": [
      "12it [2:28:00, 740.05s/it] \n"
     ]
    },
    {
     "ename": "FileNotFoundError",
     "evalue": "[Errno 2] No such file or directory: '../data/generated_data/kapital4/timeseries/timeseries_ele5_50_azi265_340_time30_all.pkl'",
     "output_type": "error",
     "traceback": [
      "\u001b[0;31m---------------------------------------------------------------------------\u001b[0m",
      "\u001b[0;31mFileNotFoundError\u001b[0m                         Traceback (most recent call last)",
      "Cell \u001b[0;32mIn[3], line 14\u001b[0m\n\u001b[1;32m     12\u001b[0m     ts_dict[key],count_ts[key] \u001b[39m=\u001b[39m dapr_case\u001b[39m.\u001b[39mgenerate_timeseries(path, azimut_mask, elevation_mask, min_height, max_height, t_range, st, et, snr_list, sample_rate)\n\u001b[1;32m     13\u001b[0m result_dict \u001b[39m=\u001b[39m {\u001b[39m'\u001b[39m\u001b[39mts\u001b[39m\u001b[39m'\u001b[39m:ts_dict,\u001b[39m'\u001b[39m\u001b[39mcount\u001b[39m\u001b[39m'\u001b[39m:count_ts,\u001b[39m'\u001b[39m\u001b[39mperiodgram\u001b[39m\u001b[39m'\u001b[39m:dapr_case\u001b[39m.\u001b[39mpower_list}\n\u001b[0;32m---> 14\u001b[0m \u001b[39mwith\u001b[39;00m \u001b[39mopen\u001b[39;49m(\u001b[39mf\u001b[39;49m\u001b[39m'\u001b[39;49m\u001b[39m../data/generated_data/kapital4/timeseries/timeseries_ele\u001b[39;49m\u001b[39m{\u001b[39;49;00melevation_mask[\u001b[39m0\u001b[39;49m]\u001b[39m}\u001b[39;49;00m\u001b[39m_\u001b[39;49m\u001b[39m{\u001b[39;49;00melevation_mask[\u001b[39m1\u001b[39;49m]\u001b[39m}\u001b[39;49;00m\u001b[39m_azi\u001b[39;49m\u001b[39m{\u001b[39;49;00mazimut_mask[\u001b[39m0\u001b[39;49m]\u001b[39m}\u001b[39;49;00m\u001b[39m_\u001b[39;49m\u001b[39m{\u001b[39;49;00mazimut_mask[\u001b[39m1\u001b[39;49m]\u001b[39m}\u001b[39;49;00m\u001b[39m_time\u001b[39;49m\u001b[39m{\u001b[39;49;00mt_range\u001b[39m}\u001b[39;49;00m\u001b[39m_all.pkl\u001b[39;49m\u001b[39m'\u001b[39;49m, \u001b[39m'\u001b[39;49m\u001b[39mwb\u001b[39;49m\u001b[39m'\u001b[39;49m) \u001b[39mas\u001b[39;00m f:\n\u001b[1;32m     15\u001b[0m     pickle\u001b[39m.\u001b[39mdump(result_dict, f)\n",
      "File \u001b[0;32m~/anaconda3/envs/gnss_ir/lib/python3.9/site-packages/IPython/core/interactiveshell.py:284\u001b[0m, in \u001b[0;36m_modified_open\u001b[0;34m(file, *args, **kwargs)\u001b[0m\n\u001b[1;32m    277\u001b[0m \u001b[39mif\u001b[39;00m file \u001b[39min\u001b[39;00m {\u001b[39m0\u001b[39m, \u001b[39m1\u001b[39m, \u001b[39m2\u001b[39m}:\n\u001b[1;32m    278\u001b[0m     \u001b[39mraise\u001b[39;00m \u001b[39mValueError\u001b[39;00m(\n\u001b[1;32m    279\u001b[0m         \u001b[39mf\u001b[39m\u001b[39m\"\u001b[39m\u001b[39mIPython won\u001b[39m\u001b[39m'\u001b[39m\u001b[39mt let you open fd=\u001b[39m\u001b[39m{\u001b[39;00mfile\u001b[39m}\u001b[39;00m\u001b[39m by default \u001b[39m\u001b[39m\"\u001b[39m\n\u001b[1;32m    280\u001b[0m         \u001b[39m\"\u001b[39m\u001b[39mas it is likely to crash IPython. If you know what you are doing, \u001b[39m\u001b[39m\"\u001b[39m\n\u001b[1;32m    281\u001b[0m         \u001b[39m\"\u001b[39m\u001b[39myou can use builtins\u001b[39m\u001b[39m'\u001b[39m\u001b[39m open.\u001b[39m\u001b[39m\"\u001b[39m\n\u001b[1;32m    282\u001b[0m     )\n\u001b[0;32m--> 284\u001b[0m \u001b[39mreturn\u001b[39;00m io_open(file, \u001b[39m*\u001b[39;49margs, \u001b[39m*\u001b[39;49m\u001b[39m*\u001b[39;49mkwargs)\n",
      "\u001b[0;31mFileNotFoundError\u001b[0m: [Errno 2] No such file or directory: '../data/generated_data/kapital4/timeseries/timeseries_ele5_50_azi265_340_time30_all.pkl'"
     ]
    }
   ],
   "source": [
    "azimut_mask = [265,340]\n",
    "elevation_mask = [5,50]\n",
    "min_height = 2.5\n",
    "max_height = 3.5\n",
    "t_range = 30\n",
    "sample_rate = 1\n",
    "ts_dict = {}\n",
    "count_ts = {}\n",
    "snr_list = ['snr1','snr2','snr5','snr7','snr8']\n",
    "for path,st,et,key in tqdm(zip(path_list,starttime_list,endtime_list,key_list)):\n",
    "    dapr_case = dapr()\n",
    "    ts_dict[key],count_ts[key] = dapr_case.generate_timeseries(path, azimut_mask, elevation_mask, min_height, max_height, t_range, st, et, snr_list, sample_rate)\n",
    "result_dict = {'ts':ts_dict,'count':count_ts,'periodgram':dapr_case.power_list}\n",
    "with open(f'../data/generated_data/kapitel4/timeseries/timeseries_ele{elevation_mask[0]}_{elevation_mask[1]}_azi{azimut_mask[0]}_{azimut_mask[1]}_time{t_range}_all.pkl', 'wb') as f:\n",
    "    pickle.dump(result_dict, f)"
   ]
  }
 ],
 "metadata": {
  "kernelspec": {
   "display_name": "gnss_ir",
   "language": "python",
   "name": "python3"
  },
  "language_info": {
   "codemirror_mode": {
    "name": "ipython",
    "version": 3
   },
   "file_extension": ".py",
   "mimetype": "text/x-python",
   "name": "python",
   "nbconvert_exporter": "python",
   "pygments_lexer": "ipython3",
   "version": "3.9.16"
  },
  "orig_nbformat": 4,
  "vscode": {
   "interpreter": {
    "hash": "899cbdd3e6d213a089c367d62ece5cdfd458181ffdb9574f74f7a7425a23b7e4"
   }
  }
 },
 "nbformat": 4,
 "nbformat_minor": 2
}
