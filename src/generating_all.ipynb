{
 "cells": [
  {
   "cell_type": "code",
   "execution_count": 1,
   "metadata": {},
   "outputs": [],
   "source": [
    "import pickle \n",
    "import os\n",
    "from datetime import datetime,timezone,timedelta\n",
    "\n",
    "import numpy as np\n",
    "import pandas as pd\n",
    "import matplotlib\n",
    "import matplotlib.pyplot as plt\n",
    "import matplotlib.cm as cm\n",
    "from tqdm import tqdm\n",
    "from scipy import signal\n",
    "\n",
    "import data_filter as dafi\n",
    "import data_process as dapr\n",
    "import lib_plot"
   ]
  },
  {
   "cell_type": "code",
   "execution_count": 2,
   "metadata": {},
   "outputs": [
    {
     "name": "stderr",
     "output_type": "stream",
     "text": [
      "100%|██████████| 29/29 [01:26<00:00,  2.99s/it]\n",
      "100%|██████████| 29/29 [01:32<00:00,  3.19s/it]\n"
     ]
    },
    {
     "data": {
      "text/plain": [
       "'for timepoint in ts_dict[ele][t_range][2]:\\n    res_ts_dict[ele][t_range][2][timepoint] = -(ts_dict[ele][t_range][2][timepoint]-mean_dict[ele][t_range][2])\\nfor timepoint in ts_dict[ele][t_range][3]:\\n    res_ts_dict[ele][t_range][3][timepoint] = -(ts_dict[ele][t_range][3][timepoint]-mean_dict[ele][t_range][3])'"
      ]
     },
     "execution_count": 2,
     "metadata": {},
     "output_type": "execute_result"
    }
   ],
   "source": [
    "main_path_2 = os.path.abspath('../data/20221031/2/')\n",
    "main_path_3 = os.path.abspath('../data/20221031/3/')\n",
    "azimut_mask = [270,330]\n",
    "elevation_mask = [3,30]\n",
    "min_height = 2\n",
    "max_height = 6\n",
    "t_range = 30\n",
    "\n",
    "ts_1031_2 = dapr.generate_timeseries(main_path_2, azimut_mask, elevation_mask, min_height, max_height, t_range)\n",
    "ts_1031_3 = dapr.generate_timeseries(main_path_3, azimut_mask, elevation_mask, min_height, max_height, t_range)"
   ]
  },
  {
   "cell_type": "code",
   "execution_count": 8,
   "metadata": {},
   "outputs": [
    {
     "data": {
      "image/png": "[encoded data removed]",
      "text/plain": [
       "<Figure size 648x216 with 1 Axes>"
      ]
     },
     "metadata": {
      "needs_background": "light"
     },
     "output_type": "display_data"
    }
   ],
   "source": [
    "mean_ts_2 = np.mean(np.array(list(ts_1031_2.values())))\n",
    "mean_ts_3 = np.mean(np.array(list(ts_1031_3.values())))\n",
    "\n",
    "res_ts_1031_2 = np.array(list(ts_1031_2.values())) - mean_ts_2\n",
    "res_ts_1031_3 = np.array(list(ts_1031_3.values())) - mean_ts_3\n",
    "\n",
    "ts_gauge = pd.read_csv('20221031_gauge.csv')\n",
    "gauge_time = []\n",
    "gauge_mean = np.mean(ts_gauge['1'])\n",
    "res_ts_gauge = []\n",
    "for t,h in zip(ts_gauge['0'],ts_gauge['1']):\n",
    "    gauge_time.append(datetime.fromtimestamp(t))\n",
    "    res_ts_gauge.append(h-gauge_mean)\n",
    "\n",
    "plt.rcParams.update({'font.size': 10})\n",
    "fig,ax = plt.subplots()\n",
    "ax.scatter(list(ts_1031_2.keys()), res_ts_1031_2,s=1)\n",
    "ax.scatter(list(ts_1031_3.keys()), res_ts_1031_3,s=1)\n",
    "ax.scatter(gauge_time,res_ts_gauge,s=10)\n",
    "ax.set_xlabel('time (date hour:minute)')\n",
    "ax.set_ylabel('heihgt(meter)')\n",
    "ax.set_title('water surface height 31.Okt (elevation 0-30, time window 30 minutes)')\n",
    "ax.set_ylim([-1,1])\n",
    "fig.set_size_inches(9,3)"
   ]
  }
 ],
 "metadata": {
  "kernelspec": {
   "display_name": "gnss_ir",
   "language": "python",
   "name": "python3"
  },
  "language_info": {
   "codemirror_mode": {
    "name": "ipython",
    "version": 3
   },
   "file_extension": ".py",
   "mimetype": "text/x-python",
   "name": "python",
   "nbconvert_exporter": "python",
   "pygments_lexer": "ipython3",
   "version": "3.9.12"
  },
  "orig_nbformat": 4,
  "vscode": {
   "interpreter": {
    "hash": "bef03f3b2611f05ae925db1195bade39f419d97b5bf9db298e90bacf7555e223"
   }
  }
 },
 "nbformat": 4,
 "nbformat_minor": 2
}
